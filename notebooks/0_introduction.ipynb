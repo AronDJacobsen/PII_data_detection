{
 "cells": [
  {
   "cell_type": "markdown",
   "metadata": {},
   "source": [
    "# Introduction\n",
    "\n",
    "\n",
    "## About The Project\n",
    "\n",
    "Big data's significance in technological advancements highlights the increasing importance of open-source and reproducibility, emphasizing the need for open-sourced datasets with careful management of Personal Identifiable Information (PII). This project aims to automate the identification and obscuration of PII using machine learning models, moving beyond manual processes, and is conducted in conjunction with the Kaggle challenge \"The Learning Agency Lab - PII Data Detection,\" targeting seven PII categories within a dataset of 22,000 student responses to apply course material to real-world problems. The approach involves using simple machine learning models to minimize the carbon footprint and complex models like transformers for higher accuracy, evaluating performance with metrics such as $F_{\\beta}$.\n",
    "\n",
    "\n",
    "\n",
    "Link to Kaggle competition: https://www.kaggle.com/competitions/pii-detection-removal-from-educational-data/overview\n",
    "\n",
    "---\n",
    "\n",
    "Description of the features:\n",
    "\n",
    "| Feature              | Type   | Explanation                           |\n",
    "|----------------------|--------|---------------------------------------|\n",
    "| document              | id     | The document Id                       |\n",
    "| full_text            | string | The full text                        |\n",
    "| tokens               | list   | The tokenized full text              |\n",
    "| trailing_whitespace | list   | Spaces of full text                  |\n",
    "| labels               | list   | List of whether token is PII and if so, which kind |\n",
    "\n",
    "\n",
    "Descriptions of the different PII types:\n",
    "\n",
    "\n",
    "| PII Type         | Description                                                                                           |\n",
    "|------------------|-------------------------------------------------------------------------------------------------------|\n",
    "| NAME_STUDENT     | The full or partial name of a student that is not necessarily the author of the essay.                |\n",
    "| EMAIL            | A student’s email address.                                                                            |\n",
    "| USERNAME         | A student's username on any platform.                                                                 |\n",
    "| ID_NUM           | A number or sequence of characters that could be used to identify a student, such as a student ID or a social security number. |\n",
    "| PHONE_NUM        | A phone number associated with a student.                                                             |\n",
    "| URL_PERSONAL     | A URL that might be used to identify a student.                                                        |\n",
    "| STREET_ADDRESS   | A full or partial street address that is associated with the student, such as their home address.      |\n",
    "\n",
    "\n",
    "By utilizing the `BIO` format, each PII type consists of a start label `B` for the first token, and trailing `I` labels for the rest of the tokens within a PII type - and then `O` represents all other not-PII types.\n",
    "\n"
   ]
  },
  {
   "cell_type": "markdown",
   "metadata": {},
   "source": [
    "---\n",
    "\n",
    "## The Structure\n",
    "\n",
    "The hand-in consists of this notebook, serving as an introduction and explainer, accompanied by a series of notebooks where each builds upon the previous:\n",
    "- `0_data_exploration.ipynb`\n",
    "- `1_data_preparation.ipynb`\n",
    "- `2_modelling.ipynb`\n",
    "- `3_use_case_example.ipynb`\n",
    "\n",
    "Each notebook's name is self-explanatory to its purpose.\n",
    "\n"
   ]
  },
  {
   "cell_type": "markdown",
   "metadata": {},
   "source": [
    "---\n",
    "\n",
    "## The Focus\n",
    "\n",
    "\n",
    "The focus of this work comprises of the kaggle competition, the use case... and ideas"
   ]
  },
  {
   "cell_type": "markdown",
   "metadata": {},
   "source": [
    "or:\n",
    "\n",
    "\n",
    "\n",
    "This notebook is structured as follows:\n",
    "\n",
    "1. Data Loading and Preprocessing: We will load the dataset and perform necessary preprocessing steps such as tokenization and label encoding.\n",
    "\n",
    "2. Data Exploration: We will analyze the distribution of text lengths, class imbalance, positional occurrence of PII tags, label lengths, and word frequencies for each label. These analyses will provide insights into the characteristics of the dataset and help guide our feature extraction process.\n",
    "\n",
    "3. Feature Extraction: Based on the findings from the data exploration, we will extract meaningful features from the tokens to enhance the interpretability of our model. This step is crucial for ensuring the privacy and security of individuals while maintaining the utility of the data.\n",
    "\n",
    "4. Model Development: We will develop a classification model using the extracted features to identify PII tokens in the essays. The model will be evaluated using appropriate metrics to assess its performance.\n",
    "\n",
    "5. PII Masking: Finally, we will apply a masking technique to replace the identified PII tokens with anonymized placeholders. This step is essential for protecting the privacy of individuals and ensuring compliance with data protection regulations.\n",
    "\n",
    "## Conclusion\n",
    "By conducting thorough data exploration and implementing effective feature extraction techniques, we aim to develop a robust PII classification and masking system for school essays. This notebook will serve as a comprehensive guide to our data exploration process and provide valuable insights for further analysis and model development.\n"
   ]
  }
 ],
 "metadata": {
  "kernelspec": {
   "display_name": "42578",
   "language": "python",
   "name": "python3"
  },
  "language_info": {
   "codemirror_mode": {
    "name": "ipython",
    "version": 3
   },
   "file_extension": ".py",
   "mimetype": "text/x-python",
   "name": "python",
   "nbconvert_exporter": "python",
   "pygments_lexer": "ipython3",
   "version": "3.11.7"
  }
 },
 "nbformat": 4,
 "nbformat_minor": 2
}
