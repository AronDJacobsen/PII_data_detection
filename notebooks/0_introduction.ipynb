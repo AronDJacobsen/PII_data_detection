{
 "cells": [
  {
   "cell_type": "markdown",
   "metadata": {},
   "source": [
    "# Introduction\n",
    "\n",
    "**Course name:** Advanced Business Analytics\n",
    "\n",
    "**Course number:** 42578\n",
    "\n",
    "**Group name:** XXXGBoosters \n",
    "\n",
    "**Group members:** <br>\n",
    "Aron Djurhuus Jacobsen (s194262) <br>\n",
    "August Tollerup (s204139) <br>\n",
    "Phillip Chavarria Højbjerg (s184984)\n",
    "\n",
    "**Supervisor:** <br>\n",
    "Francisco Pereira\n",
    "Fetemeh Siar <br>\n",
    "\n",
    "## About The Project\n",
    "\n",
    "Big data's significance in technological advancements highlights the increasing importance of open-source and reproducibility, emphasizing the need for open-sourced datasets with careful management of Personal Identifiable Information (PII). This project aims to automate the identification and obscuration of PII using machine learning models, moving beyond manual processes, and is conducted in conjunction with the Kaggle challenge \"The Learning Agency Lab - PII Data Detection,\" targeting seven PII categories within a dataset of 22,000 student responses to apply course material to real-world problems. The approach involves using simple machine learning models to minimize the carbon footprint and complex models like transformers for higher accuracy, evaluating performance with metrics such as $F_{\\beta}$.\n",
    "\n",
    "\n",
    "\n",
    "Link to Kaggle competition: https://www.kaggle.com/competitions/pii-detection-removal-from-educational-data/overview\n",
    "\n",
    "---\n",
    "\n",
    "## Data\n",
    "As part of the Kaggle-competitition, the following datasets were provided for us.\n",
    "- A training-set of 6807 essays\n",
    "- An unlabeled test-set of 10 essays, to use for the competition submission\n",
    "- Meanwhile, a [Kaggle-user](https://www.kaggle.com/datasets/mpware/pii-mixtral8x7b-generated-essays) provided an additional 2692 essays generated with the Mixtral8x7B-Instruct model from Mistral AI. \n",
    "\n",
    "Description of the features:\n",
    "\n",
    "| Feature              | Type   | Explanation                           |\n",
    "|----------------------|--------|---------------------------------------|\n",
    "| document              | id     | The document Id                       |\n",
    "| full_text            | string | The full text                        |\n",
    "| tokens               | list   | The tokenized full text              |\n",
    "| trailing_whitespace | list   | Spaces of full text                  |\n",
    "| labels               | list   | List of whether token is PII and if so, which kind |\n",
    "\n",
    "\n",
    "Descriptions of the different PII types:\n",
    "\n",
    "\n",
    "| PII Type         | Description                                                                                           |\n",
    "|------------------|-------------------------------------------------------------------------------------------------------|\n",
    "| NAME_STUDENT     | The full or partial name of a student that is not necessarily the author of the essay.                |\n",
    "| EMAIL            | A student’s email address.                                                                            |\n",
    "| USERNAME         | A student's username on any platform.                                                                 |\n",
    "| ID_NUM           | A number or sequence of characters that could be used to identify a student, such as a student ID or a social security number. |\n",
    "| PHONE_NUM        | A phone number associated with a student.                                                             |\n",
    "| URL_PERSONAL     | A URL that might be used to identify a student.                                                        |\n",
    "| STREET_ADDRESS   | A full or partial street address that is associated with the student, such as their home address.      |\n",
    "\n",
    "Further summary-statistics are available in the data_exploration notebook. \n",
    "\n",
    "By utilizing the `BIO` format, each PII type consists of a start label `B` for the first token, and trailing `I` labels for the rest of the tokens within a PII type - and then `O` represents all other not-PII types. \n",
    "\n",
    "A notable mention is that a token is only deemed PII if it contains the information of a student, therefore any other names - such as those of cited authors, or URLs to Wikipedia etc. - are not to be deemed PII, according to the Kaggle labels. \n",
    "\n"
   ]
  },
  {
   "cell_type": "markdown",
   "metadata": {
    "vscode": {
     "languageId": "plaintext"
    }
   },
   "source": [
    "---\n",
    "### Understanding Personal Identifiable Information (PII)\n",
    "\n",
    "Personal Identifiable Information, or PII, refers to any data that could potentially identify a specific individual. Examples include but are not limited to names, addresses, phone numbers, and in some cases contain more sensitive attributes like gender, ethnicity, or geographical location. The handling of PII raises significant ethical concerns, particularly around fairness and bias. It is essential that individuals are not evaluated based on their personal data in scenarios such as hiring or customer service, or in this case the evaluation of their essays. Moreover, biases embedded in data not only perpetuate inequality but also skew the technologies built upon them, such as large language models (LLMs) - as companies continue to train their models, on biased data collected from their customers.\n",
    "\n",
    "### The Business Case for PII Masking\n",
    "\n",
    "Personal Identifying Information (PII) Masking is a critical technology designed to protect and anonymize personal data, ensuring it cannot be traced back to an individual. This technology plays a pivotal role in data management strategies, particularly under the strict regulatory landscapes that govern data privacy today.\n",
    "\n",
    "- **Removal of Biases:** In the hiring process, removing biases by masking PII can significantly contribute to a fairer selection procedure. By evaluating candidates based solely on their skills and qualifications rather than personal characteristics like age, gender, or ethnicity, organizations can ensure equal opportunities and reduce the risk of discrimination.\n",
    "\n",
    "- **Regulatory Compliance:** With regulations like the GDPR mandating the deletion of customer data after certain periods, PII masking tools extend the lifespan of valuable corporate data by anonymizing personal elements. This enables companies to retain and utilize historical data without breaching privacy laws.\n",
    "\n",
    "- **Enhancing Data Utility:** As more companies rely on large volumes of data for training AI systems, the presence of PII and inherent biases can severely limit the usability of this data. PII masking helps cleanse the data, making it more robust and representative for training purposes.\n",
    "\n",
    "- **Facilitating Open Data Initiatives:** Open-source data is indispensable for the development of comprehensive LLMs. However, the inclusion of PII restricts the sharing and utilization of such datasets. By effectively anonymizing datasets, we can unlock their potential for wider community benefits without compromising individual privacy."
   ]
  },
  {
   "cell_type": "markdown",
   "metadata": {},
   "source": [
    "---\n",
    "\n",
    "## The Structure\n",
    "\n",
    "The hand-in consists of this notebook, serving as an introduction and explainer, accompanied by a series of notebooks where each builds upon the previous:\n",
    "- `0_introduction.ipynb`: The notebook you're reading right now :) \n",
    "- `1_data_exploration.ipynb`: Here, we will provide a deep-dive into the dataset, deriving insights into what could be deemed useful features in the creation of PII masking models. \n",
    "- `2_heuristic-model.ipynb`: This notebook utilizes the information found in the data exploration, to create simple features on the dataset. The model, a RandomForest classifier, is then trained on the developed features, in order to create an explainable and transparent model, by leveraging the strengths of both rule-based and machine learning approaches.\n",
    "- `3_deberta.ipynb`: This notebook expands on the simpler heuristic model, by training a Large Language Model (DeBERTa) on the dataset, improving performance, with the trade-off of making it less explaimnable. \n",
    "- `4_use_case.ipynb`: Finally, this notebook show-cases a PII Masking Tool-app, that we've developed throughout the project. The app will serve as a simple way to utilize the trained models, on both texts and PDFs. While also exploring further use-cases and discussions on biases. "
   ]
  },
  {
   "cell_type": "markdown",
   "metadata": {},
   "source": [
    "#### With that, you're welcome to move onto the data exploration notebook :)"
   ]
  }
 ],
 "metadata": {
  "kernelspec": {
   "display_name": "42578",
   "language": "python",
   "name": "python3"
  },
  "language_info": {
   "codemirror_mode": {
    "name": "ipython",
    "version": 3
   },
   "file_extension": ".py",
   "mimetype": "text/x-python",
   "name": "python",
   "nbconvert_exporter": "python",
   "pygments_lexer": "ipython3",
   "version": "3.11.7"
  }
 },
 "nbformat": 4,
 "nbformat_minor": 2
}
