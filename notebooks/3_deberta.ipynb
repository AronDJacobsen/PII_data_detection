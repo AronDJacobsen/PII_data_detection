{
 "cells": [
  {
   "cell_type": "markdown",
   "metadata": {},
   "source": [
    "# Large Language Model for PII detection\n",
    "\n",
    "This notebook serves to present the fine-tuning and evaluation of a DeBerta model for NER, trained through Huggingface.\n",
    "\n",
    "**Purpose and Scope:** This notebook mainly serves as a detailed explanation, evaluation and discussion of the DeBERTa model, it's learning curves and it's results. While comparing it to the aforementioned Heuristic Mixture Model, that served as an attempt at a light-weight, transparent and explainable model for PII detection. As previously mentioned, the HMM did not obtain scores as one could've hoped, which is why a heavier model LMM model is necessary. What this notebook will not go into detail of, is the actual code of the fine-tuning of the model - as the training of LLMs, like the DeBERTa requires huge amounts of compute (40gbs of RAM in this case) - which is why we've opted to train the model through the HPC in a separate script. \n",
    "\n",
    "**Goal:** The primary goal of this notebook, will therefore be to compare the achieved results to those of the HMM. \n",
    "\n",
    "**Approach:** The approach will involve a short theory-section, for the intriuged reader, before diving into the overall evaluation of the model, and a comparison to that of the HMM. \n",
    "\n",
    "**Notes:** The overall structure of the pre-processing and training has been borrowed from: [Eisuke Mizutani](https://www.kaggle.com/code/emiz6413/train-deberta-v3-single-model-lb-0-966). \n",
    "\n",
    "An overview of the notebook is as follows:\n",
    "\n",
    "**NoteBook Overview:**\n",
    "1. [Theory](#1-theory)\n",
    "    * [Transformers and their role within NER](#11-transformers-and-their-role-within-ner)\n",
    "    * [The self-attention mechanism](#12-the-self-attention-mechanism)\n",
    "    * [DeBERTa - Decoding-enhanced BERT with disentangled attention](#13-deberta---decoding-enhanced-bert-with-disentangled-attention)\n",
    "2. [Fine-tuning DeBERTa](#2-fine-tuning-deberta)\n",
    "    * [Fine-tuning parameters](#21-fine-tuning-parameters)\n",
    "    * [Train, Validation and Test](#22-train-validation-and-test-the-data)\n",
    "    * [Notable additions](#23-notable-additions)\n",
    "3. [Model training](#3-model-training)\n",
    "    * [Learning Curves](#31---learning-curves)\n",
    "    * [Feature Engineering](#preceeding-words-analysis-on-xtrain)\n",
    "    * [Creating Dataframes](#creating-dfs)\n",
    "4. [Model Evaluation](#4-model-evaluation)\n",
    "    * [Loading and tokenizing data](#41-loading-and-tokenizing-data)\n",
    "    * [Loading model and instantiating Huggingface Trainer](#42-loading-model-and-instantiating-huggingface-trainer)\n",
    "    * [Predicting on data](#43-predicting-on-data)\n",
    "    * [Evaluation of predictions](#44-evaluation-of-predictions)\n",
    "5. [Conclusion](#6-conclusion)\n"
   ]
  },
  {
   "cell_type": "markdown",
   "metadata": {},
   "source": [
    "# 1. Theory\n",
    "## 1.1 Transformers and their role within NER\n",
    "The Transformer architecture, has been recognized for revolutionizing Natural Language Processing (NLP), since it's [introduction](https://arxiv.org/abs/1706.03762) in 2017 - particularly in Language Translation, Text Generation and Named Entity Recognition. Characterized by their self-attention mechanism, transformers can process sequences of data in parallel, making them highly efficient and effective at capturing complex language patterns. \n",
    "\n",
    "In the context of Named Entity Recognition (NER), transformers have become particularly valuable. Transformers, pre-trained on large datasets and then fine-tuned for NER tasks, such as BERT, excel in this by capturing the nuances and context of language, leading to more accurate and robust entity recognition. This has quickly made them indispensable tools in extracting structured information, usable for tasks such as NER."
   ]
  },
  {
   "cell_type": "markdown",
   "metadata": {},
   "source": [
    "## 1.2 The self-attention mechanism\n",
    "\n",
    "As mentioned, the self-attention mechanism is highly valuable in NER, as it enables the model to understand words by their context within a sentence. It does so, by learning token representations, based on the tokens them-selves, as well as the tokens deemed most important in the context of the specific token. The self-attention mechanism utilizes three learnt weight matrices - the **$W_{K}$**, **$W_{Q}$** and **$W_{V}$** matrices - in order to calculate the self-attention for all tokens simultaneously. \n",
    "\n",
    "Firstly, the Transformer-input, $X$, is projected onto the weight-matrices, in order to produce what is known as the **Queries (Q)**, **Keys (K)** and **Values (V)**.\n",
    "\n",
    "$\\text{\\textbf{Q}} = \\textbf{XW}_{Q}, \\qquad \\text{\\textbf{K}} = \\textbf{XW}_{K}, \\qquad \\text{\\textbf{V}} = \\textbf{XW}_{V}$"
   ]
  },
  {
   "cell_type": "markdown",
   "metadata": {},
   "source": [
    "The Queries and Keys are then used to calculate the Attention scores for each token within a sentence:\n",
    "\n",
    "$$\\text{Attention} = \\text{Softmax} \\left ( \\frac{\\textbf{Q} \\cdot \\textbf{K}^T}{\\sqrt{d_k}} \\right ),$$\n",
    "\n",
    "Here, the Attention scores represent how each token should attend to all other tokens, i.e. providing a weighted importance that informs the model which tokens are important for each specific token. The Softmax function is applied to ensure that these attention weights sum to 1, normalizing the scores so that they can be effectively compared and utilized across different contexts. Meanwhile, the **Values** are understood as a learned embedding per token.\n",
    "\n",
    "Finally, the token-representations, $\\textbf{Z}$, are calculated by creating a linear combination of all the **Values**, based on the attention between tokens like so:\n",
    "$$\\textbf{Z} = \\text{Attention} \\cdot \\textbf{V}$$\n",
    "I.e. if *tokens 3, 7 and 10* are deemed to atteend highly to *token 3*, the final token-representation will be a linear combination of the **Values** of *tokens 3, 7 and 10* - based on their individual attention weights.\n",
    "\n",
    "Self-attention allows the model to weigh and consider all parts of the input sentence when understanding each word. Each token in a sentence is given attention scores relative to all other tokens, enabling the model to capture a more contextual representation of each word.\n",
    "\n",
    "For NER, this ability is crucial. By understanding the context in which a word appears, transformers can accurately classify tokens as named entities (like names, organizations, or locations) or other parts of speech. The model processes the entire sentence and uses the relationships between words to determine if a token is part of a named entity, by classifying on the token-representations, $\\textbf{Z}$. This contextual awareness, powered by self-attention, means that transformers can recognize entities even when they appear in complex or ambiguous sentences."
   ]
  },
  {
   "cell_type": "markdown",
   "metadata": {},
   "source": [
    "## 1.3 DeBERTa - Decoding-enhanced BERT with disentangled attention\n",
    "\n",
    "DeBERTa, an acronym for Decoding-enhanced BERT with disentangled attention, represents a significant evolution in the field of Natural Language Processing (NLP). This model builds on the groundbreaking achievements of its predecessor, the Bidirectional Encoder Representations from Transformers, or BERT.\n",
    "\n",
    "**BERT - a brief introduction**\n",
    "\n",
    "BERT revolutionized NLP by leveraging transformer architectures, primarily through the use of \"self-attention\" to process sequences of data. Unlike previous models, BERT processes words in relation to all other words in a sentence, rather than in sequential order. The novel idea here, was to make the model predict masked tokens within sentences, rather than predicting sentence-continuations. This allows BERT to capture a richer context and understand the nuances of language more effectively, as it is able to understand words, within the context of both preceeding and succeding words. By pre-training on a large corpus of text and then fine-tuning on specific tasks, BERT achieved state-of-the-art results on a wide range of NLP benchmarks.\n",
    "\n",
    "**Innovations of DeBERTa**\n",
    "\n",
    "Developed by Microsoft, DeBERTa enhances the transformer-based model introduced by BERT through two innovative techniques. Firstly, it refines BERT's attention mechanism by introducing a disentangled attention mechanism. This novel approach separates the influence of content from positional context. In traditional models like BERT, attention mechanisms do not distinctly differentiate the content of a word from its position in a sentence. DeBERTa addresses this by considering both what words mean and where they appear, enabling a more nuanced understanding of text. This dual attention mechanism allows DeBERTa to excel in interpreting subtle meanings and complex linguistic relationships, thereby improving its performance on a variety of NLP tasks.\n",
    "\n",
    "Furthermore, DeBERTa incorporates an enhanced mask decoder that improves the model’s ability to predict and reconstruct masked words - that are intentionally hidden during training to challenge the model’s understanding. This enhancement is particularly valuable in tasks that require precise word recognition and contextual awareness, such as filling in blanks and predicting the next words in sentences.\n",
    "\n",
    "Through these advancements, DeBERTa not only builds upon but also significantly exceeds the capabilities of BERT, redefining the benchmarks for model performance in the NLP domain."
   ]
  },
  {
   "cell_type": "markdown",
   "metadata": {},
   "source": [
    "# 2. Fine-tuning DeBERTa\n",
    "\n",
    "Thankfully, HuggingFace has made fine-tuning of state-of-the-art models, easier than ever before. As mentioned, this notebook won't go into detail about the training, of the model, but rather summarize it in 5 very short steps, as the main focus of this notebook will be the evaluation of said model. The curious reader is encouraged to take a look at the attached `/deberta_v3/train.py`-script. \n",
    "\n",
    "## 2.1 Fine-tuning parameters\n",
    "The pretrained model and tokenizer, was in our case the: `microsoft/deberta-v3-large` model from HuggingFace.\n",
    "\n",
    "The final model was fine-tuned with the following parameters, \n",
    "\n",
    "**Epochs and Learning Rate:**\n",
    "- The model was fine-tuned for just 3 epochs.\n",
    "- A learning rate of 2.5e-5 was used.\n",
    "\n",
    "**Batch Size:**\n",
    "- A training batch size of 1 and an evaluation batch size of 8 were used. \n",
    "- Batch size affects the gradient estimation and training stability, which is why we opted for such a small training batch size. \n",
    "\n",
    "**Learning Rate Scheduler:**\n",
    "- A linear learning rate scheduler was applied, which gradually reduces the learning rate from the initial set value to zero, following a linear decay, in order to not overshoot minimas the further into training we get. \n",
    "\n",
    "**Warmup Ratio and Weight Decay:**\n",
    "- The warmup ratio was set to 0.1, meaning 10% of the total training steps are used to gradually ramp up the learning rate from zero.\n",
    "- A weight decay of 0.01 was applied as regularization to reduce overfitting.\n",
    "\n",
    "**Model Initialization:**\n",
    "- The first 6 layers of the classification layer were freezed, in order to potentially speed up training and focus learning on the upper layers of the network.\n",
    "\n",
    "## 2.2 Train, Validation and Test\n",
    "The Kaggle competition provided us with a training-set of 6807 essays, as well as an unlabeled test-set to use for the competition submission. Meanwhile, a [Kaggle-user](https://www.kaggle.com/datasets/mpware/pii-mixtral8x7b-generated-essays) provided an additional 2692 essays generated with Mixtral8x7B-Instruct model from Mistral AI. \n",
    "\n",
    "We opted to do a 70/30 split on the original data, while also including the extra data as training data. \n",
    "That way we ended up with 7457 training examples and 2042 testing/validation examples. \n",
    "\n",
    "## 2.3 Notable additions\n",
    "\n",
    "In the detection of PII, Recall is incredibly important, as we cannot risk to miss any labeling of personal information. \n",
    "Therefore, we opted to imnclude a *confidence threshold* of 0.90 for the 'O' class. Thus, if the model wasn't at least 90% confident in it's 'O' prediction, the model would resort to the next most probable class.\n",
    "\n",
    "Meanwhile, predictions of the model were created in two steps:\n",
    "1) A prediction through regular DeBERTa-classification. \n",
    "2) A Regex-check for URLs, Phone-numbers and Emails on all tokens classified with 'O' during post-processing."
   ]
  },
  {
   "cell_type": "markdown",
   "metadata": {},
   "source": [
    "# 3. Model training"
   ]
  },
  {
   "cell_type": "markdown",
   "metadata": {},
   "source": [
    "## 3.1 - Learning Curves"
   ]
  },
  {
   "cell_type": "markdown",
   "metadata": {},
   "source": [
    "Below, a function is created to plot the .csv files created from the model-training. \n",
    "\n",
    "We'll be plotting the:\n",
    "1) Train- and evaluation loss curves\n",
    "2) The overall f5, recall and precision on the evaluation data\n",
    "3) The f5-scores per individual label throughout training (on evaluation)"
   ]
  },
  {
   "cell_type": "code",
   "execution_count": 43,
   "metadata": {},
   "outputs": [],
   "source": [
    "import pandas as pd\n",
    "import os\n",
    "import plotly.graph_objects as go\n",
    "\n",
    "def plot_learning_curves(folder_name, title, y_limit=None, focus_file=None):\n",
    "    # Define the path to the folder containing CSV files\n",
    "    folder_path = f'../logs/deberta_v2_E3_Mf5_LRlinear2.5e-05_WR0.1_WD0.01/tensorboard/{folder_name}'\n",
    "    csv_files = [f for f in os.listdir(folder_path) if f.endswith('.csv')]\n",
    "    \n",
    "    # Check if the folder contains CSV files\n",
    "    if not csv_files:\n",
    "        print(\"No CSV files found in the directory.\")\n",
    "        return\n",
    "\n",
    "    # Create a Plotly graph object figure\n",
    "    fig = go.Figure()\n",
    "    \n",
    "    # Initialize variables to store the minimum value step\n",
    "    min_value_step = None\n",
    "\n",
    "    # Check if this is the focus file to find the minimum value step\n",
    "    if focus_file:\n",
    "        data = pd.read_csv(focus_file)\n",
    "        min_value_index = data['Value'].idxmax()\n",
    "        min_value_step = data.at[min_value_index, 'Step']\n",
    "\n",
    "    # Process each file\n",
    "    for file in csv_files:\n",
    "        file_path = os.path.join(folder_path, file)\n",
    "        data = pd.read_csv(file_path)\n",
    "        \n",
    "\n",
    "        # Plotting the data\n",
    "        fig.add_trace(go.Scatter(\n",
    "            x=data['Step'],\n",
    "            y=data['Value'],\n",
    "            mode='lines',\n",
    "            name=file[:-4].capitalize()  # Remove '.csv' from label and capitalize\n",
    "        ))\n",
    "\n",
    "    # Update the layout to add titles and labels\n",
    "    fig.update_layout(\n",
    "        title=title,\n",
    "        xaxis_title=\"Step\",\n",
    "        yaxis_title=\"Value\",\n",
    "        legend_title=\"Metrics\",\n",
    "        font=dict(\n",
    "            family=\"Courier New, monospace\",\n",
    "            size=14,\n",
    "            color=\"black\"\n",
    "        )\n",
    "    )\n",
    "    \n",
    "    # Setting the y-axis limits if provided\n",
    "    if y_limit is not None:\n",
    "        fig.update_yaxes(range=y_limit)\n",
    "    \n",
    "    # If we have a minimum value step, plot a vertical line\n",
    "    if min_value_step is not None:\n",
    "        fig.add_vline(x=min_value_step, line=dict(color=\"red\", width=2, dash='dash'),\n",
    "                      annotation_text=\"Lowest Value\", annotation_position=\"top right\")\n",
    "\n",
    "    # Show the plot\n",
    "    fig.show()\n"
   ]
  },
  {
   "cell_type": "code",
   "execution_count": 51,
   "metadata": {},
   "outputs": [
    {
     "data": {
      "application/vnd.plotly.v1+json": {
       "config": {
        "plotlyServerURL": "https://plot.ly"
       },
       "data": [
        {
         "mode": "lines",
         "name": "Trainloss",
         "type": "scatter",
         "x": [
          10,
          20,
          30,
          40,
          50,
          60,
          70,
          80,
          90,
          100,
          110,
          120,
          130,
          140,
          150,
          160,
          170,
          180,
          190,
          200,
          210,
          220,
          230,
          240,
          250,
          260,
          270,
          280,
          290,
          300,
          310,
          320,
          330,
          340,
          350,
          360,
          370,
          380,
          390,
          400,
          410,
          420,
          430,
          440,
          450,
          460,
          470,
          480,
          490,
          500,
          510,
          520,
          530,
          540,
          550,
          560,
          570,
          580,
          590,
          600,
          610,
          620,
          630,
          640,
          650,
          660,
          670,
          680,
          690,
          700,
          710,
          720,
          730,
          740,
          750,
          760,
          770,
          780,
          790,
          800,
          810,
          820,
          830,
          840,
          850,
          860,
          870,
          880,
          890,
          900,
          910,
          920,
          930,
          940,
          950,
          960,
          970,
          980,
          990,
          1000,
          1010,
          1020,
          1030,
          1040,
          1050,
          1060,
          1070,
          1080,
          1090,
          1100,
          1110,
          1120,
          1130,
          1140,
          1150,
          1160,
          1170,
          1180,
          1190,
          1200,
          1210,
          1220,
          1230,
          1240,
          1250,
          1260,
          1270,
          1280,
          1290,
          1300,
          1310,
          1320,
          1330,
          1340,
          1350,
          1360,
          1370,
          1380,
          1390
         ],
         "y": [
          3.0237998962402344,
          2.276599884033203,
          0.8305000066757202,
          0.1115000024437904,
          0.0425000004470348,
          0.0465999990701675,
          0.0258000008761882,
          0.0179999992251396,
          0.0156999994069337,
          0.0103000001981854,
          0.0076999999582767,
          0.0076000001281499,
          0.0066999997943639,
          0.0083999997004866,
          0.0049000000581145,
          0.0043000001460313,
          0.0024999999441206,
          0.002600000007078,
          0.0052999998442828,
          0.0035000001080334,
          0.002600000007078,
          0.0028999999631196,
          0.0063000000081956,
          0.0027000000700354,
          0.002199999988079,
          0.002600000007078,
          0.0027000000700354,
          0.0027999999001622,
          0.002199999988079,
          0.0015999999595806,
          0.002600000007078,
          0.0027000000700354,
          0.0015999999595806,
          0.001700000022538,
          0.0006999999750405,
          0.001700000022538,
          0.0027000000700354,
          0.0019000000320374,
          0.0024999999441206,
          0.0010000000474974,
          0.001700000022538,
          0.0020999999251216,
          0.001300000003539,
          0.00179999996908,
          0.00089999998454,
          0.0020000000949949,
          0.0010999999940395,
          0.0006999999750405,
          0.0005000000237487,
          0.0005000000237487,
          0.0006999999750405,
          0.0012000000569969,
          0.0003000000142492,
          0.0006000000284984,
          0.0007999999797903,
          0.0003000000142492,
          0.0003999999898951,
          0.0006000000284984,
          0.0003000000142492,
          0.0003999999898951,
          0.0003999999898951,
          0.0003999999898951,
          0.0001999999949475,
          0.0003999999898951,
          0.0006999999750405,
          0.0003000000142492,
          0.0005000000237487,
          0.0020000000949949,
          0.0007999999797903,
          0.0005000000237487,
          0.0006000000284984,
          0.0005000000237487,
          0.0005000000237487,
          0.0005000000237487,
          0.0003999999898951,
          0.0012000000569969,
          0.0005000000237487,
          0.0006999999750405,
          0.0003999999898951,
          0.001300000003539,
          0.0001999999949475,
          0.0007999999797903,
          0.0005000000237487,
          0.0006000000284984,
          0.0006999999750405,
          0.001300000003539,
          0.0005000000237487,
          0.0003000000142492,
          0.0006000000284984,
          0.0005000000237487,
          0.0024999999441206,
          0.001300000003539,
          0.00089999998454,
          0.0003000000142492,
          0.0003999999898951,
          0.0003999999898951,
          0.0003000000142492,
          0.0003000000142492,
          0.0005000000237487,
          0.0001999999949475,
          0.00009999999747378752,
          0.00009999999747378752,
          0.0003000000142492,
          0.00009999999747378752,
          0.0003999999898951,
          0.0003000000142492,
          0.0001999999949475,
          0.0007999999797903,
          0.0003999999898951,
          0.00009999999747378752,
          0.0005000000237487,
          0.00009999999747378752,
          0.0001999999949475,
          0.0003999999898951,
          0.0001999999949475,
          0.0003000000142492,
          0.0003999999898951,
          0.0003999999898951,
          0.00009999999747378752,
          0.0003000000142492,
          0.00089999998454,
          0.0003000000142492,
          0.0003000000142492,
          0.00009999999747378752,
          0.0005000000237487,
          0.0003999999898951,
          0.0001999999949475,
          0.00009999999747378752,
          0.00009999999747378752,
          0.0001999999949475,
          0.0003000000142492,
          0.00009999999747378752,
          0.0003000000142492,
          0.0003999999898951,
          0.0001999999949475,
          0.0003000000142492,
          0.0003000000142492,
          0.0003999999898951,
          0.0003000000142492
         ]
        },
        {
         "mode": "lines",
         "name": "Evalloss",
         "type": "scatter",
         "x": [
          100,
          150,
          200,
          250,
          300,
          350,
          400,
          450,
          500,
          550,
          600,
          650,
          700,
          750,
          800,
          850,
          900,
          950,
          1000,
          1050,
          1100,
          1150,
          1200,
          1250,
          1300,
          1350,
          1398
         ],
         "y": [
          0.0029015000909566,
          0.0024398907553404,
          0.0012614743318408,
          0.0016921854112297,
          0.0010786899365484,
          0.0019156769849359,
          0.0010696486569941,
          0.0017434211913496,
          0.0014303509378805,
          0.0012657999759539,
          0.0013394413981586,
          0.0011447970755398,
          0.0008894692873582,
          0.0010097756749019,
          0.001037829555571,
          0.0008105477900244,
          0.000840985274408,
          0.0009108718950301,
          0.0009390113991685,
          0.0009886309271678,
          0.0008819398353807,
          0.0007326966733671,
          0.0007964486721903,
          0.0007599008968099,
          0.0008366684196516,
          0.0007405770011246,
          0.0009108718950301
         ]
        }
       ],
       "layout": {
        "font": {
         "color": "black",
         "family": "Courier New, monospace",
         "size": 14
        },
        "legend": {
         "title": {
          "text": "Metrics"
         }
        },
        "template": {
         "data": {
          "bar": [
           {
            "error_x": {
             "color": "#2a3f5f"
            },
            "error_y": {
             "color": "#2a3f5f"
            },
            "marker": {
             "line": {
              "color": "#E5ECF6",
              "width": 0.5
             },
             "pattern": {
              "fillmode": "overlay",
              "size": 10,
              "solidity": 0.2
             }
            },
            "type": "bar"
           }
          ],
          "barpolar": [
           {
            "marker": {
             "line": {
              "color": "#E5ECF6",
              "width": 0.5
             },
             "pattern": {
              "fillmode": "overlay",
              "size": 10,
              "solidity": 0.2
             }
            },
            "type": "barpolar"
           }
          ],
          "carpet": [
           {
            "aaxis": {
             "endlinecolor": "#2a3f5f",
             "gridcolor": "white",
             "linecolor": "white",
             "minorgridcolor": "white",
             "startlinecolor": "#2a3f5f"
            },
            "baxis": {
             "endlinecolor": "#2a3f5f",
             "gridcolor": "white",
             "linecolor": "white",
             "minorgridcolor": "white",
             "startlinecolor": "#2a3f5f"
            },
            "type": "carpet"
           }
          ],
          "choropleth": [
           {
            "colorbar": {
             "outlinewidth": 0,
             "ticks": ""
            },
            "type": "choropleth"
           }
          ],
          "contour": [
           {
            "colorbar": {
             "outlinewidth": 0,
             "ticks": ""
            },
            "colorscale": [
             [
              0,
              "#0d0887"
             ],
             [
              0.1111111111111111,
              "#46039f"
             ],
             [
              0.2222222222222222,
              "#7201a8"
             ],
             [
              0.3333333333333333,
              "#9c179e"
             ],
             [
              0.4444444444444444,
              "#bd3786"
             ],
             [
              0.5555555555555556,
              "#d8576b"
             ],
             [
              0.6666666666666666,
              "#ed7953"
             ],
             [
              0.7777777777777778,
              "#fb9f3a"
             ],
             [
              0.8888888888888888,
              "#fdca26"
             ],
             [
              1,
              "#f0f921"
             ]
            ],
            "type": "contour"
           }
          ],
          "contourcarpet": [
           {
            "colorbar": {
             "outlinewidth": 0,
             "ticks": ""
            },
            "type": "contourcarpet"
           }
          ],
          "heatmap": [
           {
            "colorbar": {
             "outlinewidth": 0,
             "ticks": ""
            },
            "colorscale": [
             [
              0,
              "#0d0887"
             ],
             [
              0.1111111111111111,
              "#46039f"
             ],
             [
              0.2222222222222222,
              "#7201a8"
             ],
             [
              0.3333333333333333,
              "#9c179e"
             ],
             [
              0.4444444444444444,
              "#bd3786"
             ],
             [
              0.5555555555555556,
              "#d8576b"
             ],
             [
              0.6666666666666666,
              "#ed7953"
             ],
             [
              0.7777777777777778,
              "#fb9f3a"
             ],
             [
              0.8888888888888888,
              "#fdca26"
             ],
             [
              1,
              "#f0f921"
             ]
            ],
            "type": "heatmap"
           }
          ],
          "heatmapgl": [
           {
            "colorbar": {
             "outlinewidth": 0,
             "ticks": ""
            },
            "colorscale": [
             [
              0,
              "#0d0887"
             ],
             [
              0.1111111111111111,
              "#46039f"
             ],
             [
              0.2222222222222222,
              "#7201a8"
             ],
             [
              0.3333333333333333,
              "#9c179e"
             ],
             [
              0.4444444444444444,
              "#bd3786"
             ],
             [
              0.5555555555555556,
              "#d8576b"
             ],
             [
              0.6666666666666666,
              "#ed7953"
             ],
             [
              0.7777777777777778,
              "#fb9f3a"
             ],
             [
              0.8888888888888888,
              "#fdca26"
             ],
             [
              1,
              "#f0f921"
             ]
            ],
            "type": "heatmapgl"
           }
          ],
          "histogram": [
           {
            "marker": {
             "pattern": {
              "fillmode": "overlay",
              "size": 10,
              "solidity": 0.2
             }
            },
            "type": "histogram"
           }
          ],
          "histogram2d": [
           {
            "colorbar": {
             "outlinewidth": 0,
             "ticks": ""
            },
            "colorscale": [
             [
              0,
              "#0d0887"
             ],
             [
              0.1111111111111111,
              "#46039f"
             ],
             [
              0.2222222222222222,
              "#7201a8"
             ],
             [
              0.3333333333333333,
              "#9c179e"
             ],
             [
              0.4444444444444444,
              "#bd3786"
             ],
             [
              0.5555555555555556,
              "#d8576b"
             ],
             [
              0.6666666666666666,
              "#ed7953"
             ],
             [
              0.7777777777777778,
              "#fb9f3a"
             ],
             [
              0.8888888888888888,
              "#fdca26"
             ],
             [
              1,
              "#f0f921"
             ]
            ],
            "type": "histogram2d"
           }
          ],
          "histogram2dcontour": [
           {
            "colorbar": {
             "outlinewidth": 0,
             "ticks": ""
            },
            "colorscale": [
             [
              0,
              "#0d0887"
             ],
             [
              0.1111111111111111,
              "#46039f"
             ],
             [
              0.2222222222222222,
              "#7201a8"
             ],
             [
              0.3333333333333333,
              "#9c179e"
             ],
             [
              0.4444444444444444,
              "#bd3786"
             ],
             [
              0.5555555555555556,
              "#d8576b"
             ],
             [
              0.6666666666666666,
              "#ed7953"
             ],
             [
              0.7777777777777778,
              "#fb9f3a"
             ],
             [
              0.8888888888888888,
              "#fdca26"
             ],
             [
              1,
              "#f0f921"
             ]
            ],
            "type": "histogram2dcontour"
           }
          ],
          "mesh3d": [
           {
            "colorbar": {
             "outlinewidth": 0,
             "ticks": ""
            },
            "type": "mesh3d"
           }
          ],
          "parcoords": [
           {
            "line": {
             "colorbar": {
              "outlinewidth": 0,
              "ticks": ""
             }
            },
            "type": "parcoords"
           }
          ],
          "pie": [
           {
            "automargin": true,
            "type": "pie"
           }
          ],
          "scatter": [
           {
            "fillpattern": {
             "fillmode": "overlay",
             "size": 10,
             "solidity": 0.2
            },
            "type": "scatter"
           }
          ],
          "scatter3d": [
           {
            "line": {
             "colorbar": {
              "outlinewidth": 0,
              "ticks": ""
             }
            },
            "marker": {
             "colorbar": {
              "outlinewidth": 0,
              "ticks": ""
             }
            },
            "type": "scatter3d"
           }
          ],
          "scattercarpet": [
           {
            "marker": {
             "colorbar": {
              "outlinewidth": 0,
              "ticks": ""
             }
            },
            "type": "scattercarpet"
           }
          ],
          "scattergeo": [
           {
            "marker": {
             "colorbar": {
              "outlinewidth": 0,
              "ticks": ""
             }
            },
            "type": "scattergeo"
           }
          ],
          "scattergl": [
           {
            "marker": {
             "colorbar": {
              "outlinewidth": 0,
              "ticks": ""
             }
            },
            "type": "scattergl"
           }
          ],
          "scattermapbox": [
           {
            "marker": {
             "colorbar": {
              "outlinewidth": 0,
              "ticks": ""
             }
            },
            "type": "scattermapbox"
           }
          ],
          "scatterpolar": [
           {
            "marker": {
             "colorbar": {
              "outlinewidth": 0,
              "ticks": ""
             }
            },
            "type": "scatterpolar"
           }
          ],
          "scatterpolargl": [
           {
            "marker": {
             "colorbar": {
              "outlinewidth": 0,
              "ticks": ""
             }
            },
            "type": "scatterpolargl"
           }
          ],
          "scatterternary": [
           {
            "marker": {
             "colorbar": {
              "outlinewidth": 0,
              "ticks": ""
             }
            },
            "type": "scatterternary"
           }
          ],
          "surface": [
           {
            "colorbar": {
             "outlinewidth": 0,
             "ticks": ""
            },
            "colorscale": [
             [
              0,
              "#0d0887"
             ],
             [
              0.1111111111111111,
              "#46039f"
             ],
             [
              0.2222222222222222,
              "#7201a8"
             ],
             [
              0.3333333333333333,
              "#9c179e"
             ],
             [
              0.4444444444444444,
              "#bd3786"
             ],
             [
              0.5555555555555556,
              "#d8576b"
             ],
             [
              0.6666666666666666,
              "#ed7953"
             ],
             [
              0.7777777777777778,
              "#fb9f3a"
             ],
             [
              0.8888888888888888,
              "#fdca26"
             ],
             [
              1,
              "#f0f921"
             ]
            ],
            "type": "surface"
           }
          ],
          "table": [
           {
            "cells": {
             "fill": {
              "color": "#EBF0F8"
             },
             "line": {
              "color": "white"
             }
            },
            "header": {
             "fill": {
              "color": "#C8D4E3"
             },
             "line": {
              "color": "white"
             }
            },
            "type": "table"
           }
          ]
         },
         "layout": {
          "annotationdefaults": {
           "arrowcolor": "#2a3f5f",
           "arrowhead": 0,
           "arrowwidth": 1
          },
          "autotypenumbers": "strict",
          "coloraxis": {
           "colorbar": {
            "outlinewidth": 0,
            "ticks": ""
           }
          },
          "colorscale": {
           "diverging": [
            [
             0,
             "#8e0152"
            ],
            [
             0.1,
             "#c51b7d"
            ],
            [
             0.2,
             "#de77ae"
            ],
            [
             0.3,
             "#f1b6da"
            ],
            [
             0.4,
             "#fde0ef"
            ],
            [
             0.5,
             "#f7f7f7"
            ],
            [
             0.6,
             "#e6f5d0"
            ],
            [
             0.7,
             "#b8e186"
            ],
            [
             0.8,
             "#7fbc41"
            ],
            [
             0.9,
             "#4d9221"
            ],
            [
             1,
             "#276419"
            ]
           ],
           "sequential": [
            [
             0,
             "#0d0887"
            ],
            [
             0.1111111111111111,
             "#46039f"
            ],
            [
             0.2222222222222222,
             "#7201a8"
            ],
            [
             0.3333333333333333,
             "#9c179e"
            ],
            [
             0.4444444444444444,
             "#bd3786"
            ],
            [
             0.5555555555555556,
             "#d8576b"
            ],
            [
             0.6666666666666666,
             "#ed7953"
            ],
            [
             0.7777777777777778,
             "#fb9f3a"
            ],
            [
             0.8888888888888888,
             "#fdca26"
            ],
            [
             1,
             "#f0f921"
            ]
           ],
           "sequentialminus": [
            [
             0,
             "#0d0887"
            ],
            [
             0.1111111111111111,
             "#46039f"
            ],
            [
             0.2222222222222222,
             "#7201a8"
            ],
            [
             0.3333333333333333,
             "#9c179e"
            ],
            [
             0.4444444444444444,
             "#bd3786"
            ],
            [
             0.5555555555555556,
             "#d8576b"
            ],
            [
             0.6666666666666666,
             "#ed7953"
            ],
            [
             0.7777777777777778,
             "#fb9f3a"
            ],
            [
             0.8888888888888888,
             "#fdca26"
            ],
            [
             1,
             "#f0f921"
            ]
           ]
          },
          "colorway": [
           "#636efa",
           "#EF553B",
           "#00cc96",
           "#ab63fa",
           "#FFA15A",
           "#19d3f3",
           "#FF6692",
           "#B6E880",
           "#FF97FF",
           "#FECB52"
          ],
          "font": {
           "color": "#2a3f5f"
          },
          "geo": {
           "bgcolor": "white",
           "lakecolor": "white",
           "landcolor": "#E5ECF6",
           "showlakes": true,
           "showland": true,
           "subunitcolor": "white"
          },
          "hoverlabel": {
           "align": "left"
          },
          "hovermode": "closest",
          "mapbox": {
           "style": "light"
          },
          "paper_bgcolor": "white",
          "plot_bgcolor": "#E5ECF6",
          "polar": {
           "angularaxis": {
            "gridcolor": "white",
            "linecolor": "white",
            "ticks": ""
           },
           "bgcolor": "#E5ECF6",
           "radialaxis": {
            "gridcolor": "white",
            "linecolor": "white",
            "ticks": ""
           }
          },
          "scene": {
           "xaxis": {
            "backgroundcolor": "#E5ECF6",
            "gridcolor": "white",
            "gridwidth": 2,
            "linecolor": "white",
            "showbackground": true,
            "ticks": "",
            "zerolinecolor": "white"
           },
           "yaxis": {
            "backgroundcolor": "#E5ECF6",
            "gridcolor": "white",
            "gridwidth": 2,
            "linecolor": "white",
            "showbackground": true,
            "ticks": "",
            "zerolinecolor": "white"
           },
           "zaxis": {
            "backgroundcolor": "#E5ECF6",
            "gridcolor": "white",
            "gridwidth": 2,
            "linecolor": "white",
            "showbackground": true,
            "ticks": "",
            "zerolinecolor": "white"
           }
          },
          "shapedefaults": {
           "line": {
            "color": "#2a3f5f"
           }
          },
          "ternary": {
           "aaxis": {
            "gridcolor": "white",
            "linecolor": "white",
            "ticks": ""
           },
           "baxis": {
            "gridcolor": "white",
            "linecolor": "white",
            "ticks": ""
           },
           "bgcolor": "#E5ECF6",
           "caxis": {
            "gridcolor": "white",
            "linecolor": "white",
            "ticks": ""
           }
          },
          "title": {
           "x": 0.05
          },
          "xaxis": {
           "automargin": true,
           "gridcolor": "white",
           "linecolor": "white",
           "ticks": "",
           "title": {
            "standoff": 15
           },
           "zerolinecolor": "white",
           "zerolinewidth": 2
          },
          "yaxis": {
           "automargin": true,
           "gridcolor": "white",
           "linecolor": "white",
           "ticks": "",
           "title": {
            "standoff": 15
           },
           "zerolinecolor": "white",
           "zerolinewidth": 2
          }
         }
        },
        "title": {
         "text": "Loss curves"
        },
        "xaxis": {
         "title": {
          "text": "Step"
         }
        },
        "yaxis": {
         "range": [
          0,
          0.018
         ],
         "title": {
          "text": "Value"
         }
        }
       }
      }
     },
     "metadata": {},
     "output_type": "display_data"
    }
   ],
   "source": [
    "plot_learning_curves(folder_name = 'loss', title = 'Loss curves', y_limit=(0, 0.018))"
   ]
  },
  {
   "cell_type": "markdown",
   "metadata": {},
   "source": [
    "#### Take-aways\n",
    "The loss curves show that the DeBERTa model is really quick at fine-tuning to the PII labels. The train-curve quickly reduces before plateauing at around step 400. The training and evaluation curves follow each other really nicely, with no signs of overfitting on the training data. "
   ]
  },
  {
   "cell_type": "code",
   "execution_count": 50,
   "metadata": {},
   "outputs": [
    {
     "data": {
      "application/vnd.plotly.v1+json": {
       "config": {
        "plotlyServerURL": "https://plot.ly"
       },
       "data": [
        {
         "mode": "lines",
         "name": "Evalf5",
         "type": "scatter",
         "x": [
          100,
          150,
          200,
          250,
          300,
          350,
          400,
          450,
          500,
          550,
          600,
          650,
          700,
          750,
          800,
          850,
          900,
          950,
          1000,
          1050,
          1100,
          1150,
          1200,
          1250,
          1300,
          1350,
          1398
         ],
         "y": [
          0.9185544848442078,
          0.9054316878318788,
          0.923007071018219,
          0.9302472472190856,
          0.9379065632820128,
          0.95261412858963,
          0.9289527535438538,
          0.945539653301239,
          0.9459705352783204,
          0.9511764049530028,
          0.9584710597991944,
          0.9341246485710144,
          0.939744770526886,
          0.950888216495514,
          0.9365960359573364,
          0.9191139340400696,
          0.927554726600647,
          0.9630067348480223,
          0.9595139622688292,
          0.959383487701416,
          0.9575905799865724,
          0.9534004330635072,
          0.956474244594574,
          0.9533570408821106,
          0.9565613269805908,
          0.9550633430480956,
          0.9630067348480223
         ]
        },
        {
         "mode": "lines",
         "name": "Evalrecall",
         "type": "scatter",
         "x": [
          100,
          150,
          200,
          250,
          300,
          350,
          400,
          450,
          500,
          550,
          600,
          650,
          700,
          750,
          800,
          850,
          900,
          950,
          1000,
          1050,
          1100,
          1150,
          1200,
          1250,
          1300,
          1350,
          1398
         ],
         "y": [
          0.9334917068481444,
          0.9144893288612366,
          0.9287410974502563,
          0.9418052434921264,
          0.9418052434921264,
          0.95961993932724,
          0.929928719997406,
          0.95961993932724,
          0.9501187801361084,
          0.9584323167800904,
          0.9667458534240724,
          0.9346793293952942,
          0.9418052434921264,
          0.9560570120811462,
          0.940617561340332,
          0.91923987865448,
          0.9287410974502563,
          0.967933475971222,
          0.9667458534240724,
          0.9667458534240724,
          0.9643705487251282,
          0.9560570120811462,
          0.95961993932724,
          0.9560570120811462,
          0.95961993932724,
          0.957244634628296,
          0.967933475971222
         ]
        },
        {
         "mode": "lines",
         "name": "Evalprecision",
         "type": "scatter",
         "x": [
          100,
          150,
          200,
          250,
          300,
          350,
          400,
          450,
          500,
          550,
          600,
          650,
          700,
          750,
          800,
          850,
          900,
          950,
          1000,
          1050,
          1100,
          1150,
          1200,
          1250,
          1300,
          1350,
          1398
         ],
         "y": [
          0.6560934782028198,
          0.7257304191589355,
          0.7995910048484802,
          0.7118492126464844,
          0.8499463796615601,
          0.8055832386016846,
          0.905202329158783,
          0.6917808055877686,
          0.8528784513473511,
          0.799801766872406,
          0.7895247340202332,
          0.9204678535461426,
          0.8910112380981445,
          0.8376690745353699,
          0.8461538553237915,
          0.915976345539093,
          0.8988505601882935,
          0.8542976975440979,
          0.8083416223526001,
          0.805940568447113,
          0.8144433498382568,
          0.8914728760719299,
          0.8840262293815613,
          0.8904867172241211,
          0.8859649300575256,
          0.9035874605178832,
          0.8542976975440979
         ]
        }
       ],
       "layout": {
        "font": {
         "color": "black",
         "family": "Courier New, monospace",
         "size": 14
        },
        "legend": {
         "title": {
          "text": "Metrics"
         }
        },
        "template": {
         "data": {
          "bar": [
           {
            "error_x": {
             "color": "#2a3f5f"
            },
            "error_y": {
             "color": "#2a3f5f"
            },
            "marker": {
             "line": {
              "color": "#E5ECF6",
              "width": 0.5
             },
             "pattern": {
              "fillmode": "overlay",
              "size": 10,
              "solidity": 0.2
             }
            },
            "type": "bar"
           }
          ],
          "barpolar": [
           {
            "marker": {
             "line": {
              "color": "#E5ECF6",
              "width": 0.5
             },
             "pattern": {
              "fillmode": "overlay",
              "size": 10,
              "solidity": 0.2
             }
            },
            "type": "barpolar"
           }
          ],
          "carpet": [
           {
            "aaxis": {
             "endlinecolor": "#2a3f5f",
             "gridcolor": "white",
             "linecolor": "white",
             "minorgridcolor": "white",
             "startlinecolor": "#2a3f5f"
            },
            "baxis": {
             "endlinecolor": "#2a3f5f",
             "gridcolor": "white",
             "linecolor": "white",
             "minorgridcolor": "white",
             "startlinecolor": "#2a3f5f"
            },
            "type": "carpet"
           }
          ],
          "choropleth": [
           {
            "colorbar": {
             "outlinewidth": 0,
             "ticks": ""
            },
            "type": "choropleth"
           }
          ],
          "contour": [
           {
            "colorbar": {
             "outlinewidth": 0,
             "ticks": ""
            },
            "colorscale": [
             [
              0,
              "#0d0887"
             ],
             [
              0.1111111111111111,
              "#46039f"
             ],
             [
              0.2222222222222222,
              "#7201a8"
             ],
             [
              0.3333333333333333,
              "#9c179e"
             ],
             [
              0.4444444444444444,
              "#bd3786"
             ],
             [
              0.5555555555555556,
              "#d8576b"
             ],
             [
              0.6666666666666666,
              "#ed7953"
             ],
             [
              0.7777777777777778,
              "#fb9f3a"
             ],
             [
              0.8888888888888888,
              "#fdca26"
             ],
             [
              1,
              "#f0f921"
             ]
            ],
            "type": "contour"
           }
          ],
          "contourcarpet": [
           {
            "colorbar": {
             "outlinewidth": 0,
             "ticks": ""
            },
            "type": "contourcarpet"
           }
          ],
          "heatmap": [
           {
            "colorbar": {
             "outlinewidth": 0,
             "ticks": ""
            },
            "colorscale": [
             [
              0,
              "#0d0887"
             ],
             [
              0.1111111111111111,
              "#46039f"
             ],
             [
              0.2222222222222222,
              "#7201a8"
             ],
             [
              0.3333333333333333,
              "#9c179e"
             ],
             [
              0.4444444444444444,
              "#bd3786"
             ],
             [
              0.5555555555555556,
              "#d8576b"
             ],
             [
              0.6666666666666666,
              "#ed7953"
             ],
             [
              0.7777777777777778,
              "#fb9f3a"
             ],
             [
              0.8888888888888888,
              "#fdca26"
             ],
             [
              1,
              "#f0f921"
             ]
            ],
            "type": "heatmap"
           }
          ],
          "heatmapgl": [
           {
            "colorbar": {
             "outlinewidth": 0,
             "ticks": ""
            },
            "colorscale": [
             [
              0,
              "#0d0887"
             ],
             [
              0.1111111111111111,
              "#46039f"
             ],
             [
              0.2222222222222222,
              "#7201a8"
             ],
             [
              0.3333333333333333,
              "#9c179e"
             ],
             [
              0.4444444444444444,
              "#bd3786"
             ],
             [
              0.5555555555555556,
              "#d8576b"
             ],
             [
              0.6666666666666666,
              "#ed7953"
             ],
             [
              0.7777777777777778,
              "#fb9f3a"
             ],
             [
              0.8888888888888888,
              "#fdca26"
             ],
             [
              1,
              "#f0f921"
             ]
            ],
            "type": "heatmapgl"
           }
          ],
          "histogram": [
           {
            "marker": {
             "pattern": {
              "fillmode": "overlay",
              "size": 10,
              "solidity": 0.2
             }
            },
            "type": "histogram"
           }
          ],
          "histogram2d": [
           {
            "colorbar": {
             "outlinewidth": 0,
             "ticks": ""
            },
            "colorscale": [
             [
              0,
              "#0d0887"
             ],
             [
              0.1111111111111111,
              "#46039f"
             ],
             [
              0.2222222222222222,
              "#7201a8"
             ],
             [
              0.3333333333333333,
              "#9c179e"
             ],
             [
              0.4444444444444444,
              "#bd3786"
             ],
             [
              0.5555555555555556,
              "#d8576b"
             ],
             [
              0.6666666666666666,
              "#ed7953"
             ],
             [
              0.7777777777777778,
              "#fb9f3a"
             ],
             [
              0.8888888888888888,
              "#fdca26"
             ],
             [
              1,
              "#f0f921"
             ]
            ],
            "type": "histogram2d"
           }
          ],
          "histogram2dcontour": [
           {
            "colorbar": {
             "outlinewidth": 0,
             "ticks": ""
            },
            "colorscale": [
             [
              0,
              "#0d0887"
             ],
             [
              0.1111111111111111,
              "#46039f"
             ],
             [
              0.2222222222222222,
              "#7201a8"
             ],
             [
              0.3333333333333333,
              "#9c179e"
             ],
             [
              0.4444444444444444,
              "#bd3786"
             ],
             [
              0.5555555555555556,
              "#d8576b"
             ],
             [
              0.6666666666666666,
              "#ed7953"
             ],
             [
              0.7777777777777778,
              "#fb9f3a"
             ],
             [
              0.8888888888888888,
              "#fdca26"
             ],
             [
              1,
              "#f0f921"
             ]
            ],
            "type": "histogram2dcontour"
           }
          ],
          "mesh3d": [
           {
            "colorbar": {
             "outlinewidth": 0,
             "ticks": ""
            },
            "type": "mesh3d"
           }
          ],
          "parcoords": [
           {
            "line": {
             "colorbar": {
              "outlinewidth": 0,
              "ticks": ""
             }
            },
            "type": "parcoords"
           }
          ],
          "pie": [
           {
            "automargin": true,
            "type": "pie"
           }
          ],
          "scatter": [
           {
            "fillpattern": {
             "fillmode": "overlay",
             "size": 10,
             "solidity": 0.2
            },
            "type": "scatter"
           }
          ],
          "scatter3d": [
           {
            "line": {
             "colorbar": {
              "outlinewidth": 0,
              "ticks": ""
             }
            },
            "marker": {
             "colorbar": {
              "outlinewidth": 0,
              "ticks": ""
             }
            },
            "type": "scatter3d"
           }
          ],
          "scattercarpet": [
           {
            "marker": {
             "colorbar": {
              "outlinewidth": 0,
              "ticks": ""
             }
            },
            "type": "scattercarpet"
           }
          ],
          "scattergeo": [
           {
            "marker": {
             "colorbar": {
              "outlinewidth": 0,
              "ticks": ""
             }
            },
            "type": "scattergeo"
           }
          ],
          "scattergl": [
           {
            "marker": {
             "colorbar": {
              "outlinewidth": 0,
              "ticks": ""
             }
            },
            "type": "scattergl"
           }
          ],
          "scattermapbox": [
           {
            "marker": {
             "colorbar": {
              "outlinewidth": 0,
              "ticks": ""
             }
            },
            "type": "scattermapbox"
           }
          ],
          "scatterpolar": [
           {
            "marker": {
             "colorbar": {
              "outlinewidth": 0,
              "ticks": ""
             }
            },
            "type": "scatterpolar"
           }
          ],
          "scatterpolargl": [
           {
            "marker": {
             "colorbar": {
              "outlinewidth": 0,
              "ticks": ""
             }
            },
            "type": "scatterpolargl"
           }
          ],
          "scatterternary": [
           {
            "marker": {
             "colorbar": {
              "outlinewidth": 0,
              "ticks": ""
             }
            },
            "type": "scatterternary"
           }
          ],
          "surface": [
           {
            "colorbar": {
             "outlinewidth": 0,
             "ticks": ""
            },
            "colorscale": [
             [
              0,
              "#0d0887"
             ],
             [
              0.1111111111111111,
              "#46039f"
             ],
             [
              0.2222222222222222,
              "#7201a8"
             ],
             [
              0.3333333333333333,
              "#9c179e"
             ],
             [
              0.4444444444444444,
              "#bd3786"
             ],
             [
              0.5555555555555556,
              "#d8576b"
             ],
             [
              0.6666666666666666,
              "#ed7953"
             ],
             [
              0.7777777777777778,
              "#fb9f3a"
             ],
             [
              0.8888888888888888,
              "#fdca26"
             ],
             [
              1,
              "#f0f921"
             ]
            ],
            "type": "surface"
           }
          ],
          "table": [
           {
            "cells": {
             "fill": {
              "color": "#EBF0F8"
             },
             "line": {
              "color": "white"
             }
            },
            "header": {
             "fill": {
              "color": "#C8D4E3"
             },
             "line": {
              "color": "white"
             }
            },
            "type": "table"
           }
          ]
         },
         "layout": {
          "annotationdefaults": {
           "arrowcolor": "#2a3f5f",
           "arrowhead": 0,
           "arrowwidth": 1
          },
          "autotypenumbers": "strict",
          "coloraxis": {
           "colorbar": {
            "outlinewidth": 0,
            "ticks": ""
           }
          },
          "colorscale": {
           "diverging": [
            [
             0,
             "#8e0152"
            ],
            [
             0.1,
             "#c51b7d"
            ],
            [
             0.2,
             "#de77ae"
            ],
            [
             0.3,
             "#f1b6da"
            ],
            [
             0.4,
             "#fde0ef"
            ],
            [
             0.5,
             "#f7f7f7"
            ],
            [
             0.6,
             "#e6f5d0"
            ],
            [
             0.7,
             "#b8e186"
            ],
            [
             0.8,
             "#7fbc41"
            ],
            [
             0.9,
             "#4d9221"
            ],
            [
             1,
             "#276419"
            ]
           ],
           "sequential": [
            [
             0,
             "#0d0887"
            ],
            [
             0.1111111111111111,
             "#46039f"
            ],
            [
             0.2222222222222222,
             "#7201a8"
            ],
            [
             0.3333333333333333,
             "#9c179e"
            ],
            [
             0.4444444444444444,
             "#bd3786"
            ],
            [
             0.5555555555555556,
             "#d8576b"
            ],
            [
             0.6666666666666666,
             "#ed7953"
            ],
            [
             0.7777777777777778,
             "#fb9f3a"
            ],
            [
             0.8888888888888888,
             "#fdca26"
            ],
            [
             1,
             "#f0f921"
            ]
           ],
           "sequentialminus": [
            [
             0,
             "#0d0887"
            ],
            [
             0.1111111111111111,
             "#46039f"
            ],
            [
             0.2222222222222222,
             "#7201a8"
            ],
            [
             0.3333333333333333,
             "#9c179e"
            ],
            [
             0.4444444444444444,
             "#bd3786"
            ],
            [
             0.5555555555555556,
             "#d8576b"
            ],
            [
             0.6666666666666666,
             "#ed7953"
            ],
            [
             0.7777777777777778,
             "#fb9f3a"
            ],
            [
             0.8888888888888888,
             "#fdca26"
            ],
            [
             1,
             "#f0f921"
            ]
           ]
          },
          "colorway": [
           "#636efa",
           "#EF553B",
           "#00cc96",
           "#ab63fa",
           "#FFA15A",
           "#19d3f3",
           "#FF6692",
           "#B6E880",
           "#FF97FF",
           "#FECB52"
          ],
          "font": {
           "color": "#2a3f5f"
          },
          "geo": {
           "bgcolor": "white",
           "lakecolor": "white",
           "landcolor": "#E5ECF6",
           "showlakes": true,
           "showland": true,
           "subunitcolor": "white"
          },
          "hoverlabel": {
           "align": "left"
          },
          "hovermode": "closest",
          "mapbox": {
           "style": "light"
          },
          "paper_bgcolor": "white",
          "plot_bgcolor": "#E5ECF6",
          "polar": {
           "angularaxis": {
            "gridcolor": "white",
            "linecolor": "white",
            "ticks": ""
           },
           "bgcolor": "#E5ECF6",
           "radialaxis": {
            "gridcolor": "white",
            "linecolor": "white",
            "ticks": ""
           }
          },
          "scene": {
           "xaxis": {
            "backgroundcolor": "#E5ECF6",
            "gridcolor": "white",
            "gridwidth": 2,
            "linecolor": "white",
            "showbackground": true,
            "ticks": "",
            "zerolinecolor": "white"
           },
           "yaxis": {
            "backgroundcolor": "#E5ECF6",
            "gridcolor": "white",
            "gridwidth": 2,
            "linecolor": "white",
            "showbackground": true,
            "ticks": "",
            "zerolinecolor": "white"
           },
           "zaxis": {
            "backgroundcolor": "#E5ECF6",
            "gridcolor": "white",
            "gridwidth": 2,
            "linecolor": "white",
            "showbackground": true,
            "ticks": "",
            "zerolinecolor": "white"
           }
          },
          "shapedefaults": {
           "line": {
            "color": "#2a3f5f"
           }
          },
          "ternary": {
           "aaxis": {
            "gridcolor": "white",
            "linecolor": "white",
            "ticks": ""
           },
           "baxis": {
            "gridcolor": "white",
            "linecolor": "white",
            "ticks": ""
           },
           "bgcolor": "#E5ECF6",
           "caxis": {
            "gridcolor": "white",
            "linecolor": "white",
            "ticks": ""
           }
          },
          "title": {
           "x": 0.05
          },
          "xaxis": {
           "automargin": true,
           "gridcolor": "white",
           "linecolor": "white",
           "ticks": "",
           "title": {
            "standoff": 15
           },
           "zerolinecolor": "white",
           "zerolinewidth": 2
          },
          "yaxis": {
           "automargin": true,
           "gridcolor": "white",
           "linecolor": "white",
           "ticks": "",
           "title": {
            "standoff": 15
           },
           "zerolinecolor": "white",
           "zerolinewidth": 2
          }
         }
        },
        "title": {
         "text": "Overall evaluation f5, recall and precision"
        },
        "xaxis": {
         "title": {
          "text": "Step"
         }
        },
        "yaxis": {
         "range": [
          0.6,
          1.02
         ],
         "title": {
          "text": "Value"
         }
        }
       }
      }
     },
     "metadata": {},
     "output_type": "display_data"
    }
   ],
   "source": [
    "plot_learning_curves(folder_name = 'metrics_overall', title = 'Overall evaluation f5, recall and precision', y_limit=(0.6, 1.02))"
   ]
  },
  {
   "cell_type": "markdown",
   "metadata": {},
   "source": [
    "#### Take-aways\n",
    "It's seen that the model immediately obtains f5 scores at around 0.92, and is able to increase the performance to 0.96 by the end of training.\n",
    "\n",
    "The f5-score and recall are almost identical throughout training, however, this is not a coincidence. As the $f_{\\beta}$-metric is a metric where larger $\\beta$-values heavily favor recall over precision, as given by the formula.\n",
    "\n",
    "$$\n",
    "F_\\beta=\\frac{1+\\beta^2}{\\frac{\\beta^2}{\\text { Recall }}+\\frac{1}{\\text { Precision }}}\n",
    "$$\n",
    "\n",
    "Putting our attention toward the Precision, we see a huge increase throughout training, starting at 0.65 and ending around 0.85-0.9."
   ]
  },
  {
   "cell_type": "code",
   "execution_count": 49,
   "metadata": {},
   "outputs": [
    {
     "data": {
      "application/vnd.plotly.v1+json": {
       "config": {
        "plotlyServerURL": "https://plot.ly"
       },
       "data": [
        {
         "mode": "lines",
         "name": "F5username",
         "type": "scatter",
         "x": [
          100,
          150,
          200,
          250,
          300,
          350,
          400,
          450,
          500,
          550,
          600,
          650,
          700,
          750,
          800,
          850,
          900,
          950,
          1000,
          1050,
          1100,
          1150,
          1200,
          1250,
          1300,
          1350,
          1398
         ],
         "y": [
          0,
          0.604651153087616,
          0.9285714030265808,
          0.8965517282485962,
          0.9629629850387572,
          1,
          1,
          0.9629629850387572,
          0.9629629850387572,
          0.9629629850387572,
          1,
          1,
          1,
          1,
          0.8387096524238586,
          1,
          1,
          0.9629629850387572,
          1,
          1,
          1,
          1,
          1,
          1,
          1,
          1,
          0.9629629850387572
         ]
        },
        {
         "mode": "lines",
         "name": "F5id",
         "type": "scatter",
         "x": [
          100,
          150,
          200,
          250,
          300,
          350,
          400,
          450,
          500,
          550,
          600,
          650,
          700,
          750,
          800,
          850,
          900,
          950,
          1000,
          1050,
          1100,
          1150,
          1200,
          1250,
          1300,
          1350,
          1398
         ],
         "y": [
          0.8302521109580994,
          0.9407894611358644,
          0.902479350566864,
          0.6921796798706055,
          0.7761194109916687,
          0.8995057940483093,
          0.8580858111381531,
          0.860927164554596,
          0.8580858111381531,
          0.8980262875556946,
          0.8995057940483093,
          0.8637873530387878,
          0.9009901285171508,
          0.9009901285171508,
          0.5234899520874023,
          0.943894386291504,
          0.902479350566864,
          0.9009901285171508,
          0.9009901285171508,
          0.8995057940483093,
          0.8995057940483093,
          0.9009901285171508,
          0.9009901285171508,
          0.902479350566864,
          0.8995057940483093,
          0.9039735198020936,
          0.9009901285171508
         ]
        },
        {
         "mode": "lines",
         "name": "F5phone",
         "type": "scatter",
         "x": [
          100,
          150,
          200,
          250,
          300,
          350,
          400,
          450,
          500,
          550,
          600,
          650,
          700,
          750,
          800,
          850,
          900,
          950,
          1000,
          1050,
          1100,
          1150,
          1200,
          1250,
          1300,
          1350,
          1398
         ],
         "y": [
          1,
          1,
          1,
          1,
          1,
          1,
          1,
          1,
          1,
          1,
          1,
          1,
          1,
          1,
          1,
          1,
          1,
          1,
          1,
          1,
          1,
          1,
          1,
          1,
          1,
          1,
          1
         ]
        },
        {
         "mode": "lines",
         "name": "F5url",
         "type": "scatter",
         "x": [
          100,
          150,
          200,
          250,
          300,
          350,
          400,
          450,
          500,
          550,
          600,
          650,
          700,
          750,
          800,
          850,
          900,
          950,
          1000,
          1050,
          1100,
          1150,
          1200,
          1250,
          1300,
          1350,
          1398
         ],
         "y": [
          0.8713768124580383,
          0.9682106971740724,
          0.8568738102912903,
          0.8999064564704895,
          0.925960659980774,
          0.9852125644683838,
          0.8568738102912903,
          0.8101983070373535,
          0.9815837740898132,
          0.8339622616767883,
          0.8339622616767883,
          0.8101983070373535,
          0.8568738102912903,
          0.9432558417320251,
          0.9032863974571228,
          0.8772258758544922,
          0.8339622616767883,
          0.9925512075424194,
          0.8805268406867981,
          0.8813559412956238,
          0.8813559412956238,
          0.8796992301940918,
          0.8805268406867981,
          0.8805268406867981,
          0.945895493030548,
          0.9476635456085204,
          0.9925512075424194
         ]
        },
        {
         "mode": "lines",
         "name": "F5street",
         "type": "scatter",
         "x": [
          100,
          150,
          200,
          250,
          300,
          350,
          400,
          450,
          500,
          550,
          600,
          650,
          700,
          750,
          800,
          850,
          900,
          950,
          1000,
          1050,
          1100,
          1150,
          1200,
          1250,
          1300,
          1350,
          1398
         ],
         "y": [
          0.7476038336753845,
          0.8280254602432251,
          0.8695651888847351,
          0.7951070070266724,
          0.8496732115745544,
          0.8666666746139526,
          0.8552631735801697,
          0.7951070070266724,
          0.8695651888847351,
          0.8813559412956238,
          0.8813559412956238,
          0.8873720169067383,
          0.8813559412956238,
          0.8813559412956238,
          0.8695651888847351,
          0.875420868396759,
          0.8695651888847351,
          0.8666666746139526,
          0.8695651888847351,
          0.8695651888847351,
          0.8695651888847351,
          0.8695651888847351,
          0.8695651888847351,
          0.8695651888847351,
          0.8695651888847351,
          0.8695651888847351,
          0.8666666746139526
         ]
        },
        {
         "mode": "lines",
         "name": "F5name",
         "type": "scatter",
         "x": [
          100,
          150,
          200,
          250,
          300,
          350,
          400,
          450,
          500,
          550,
          600,
          650,
          700,
          750,
          800,
          850,
          900,
          950,
          1000,
          1050,
          1100,
          1150,
          1200,
          1250,
          1300,
          1350,
          1398
         ],
         "y": [
          0.9266165494918824,
          0.9015365839004515,
          0.9270216822624208,
          0.9404839873313904,
          0.9440640807151794,
          0.953127384185791,
          0.9351851940155028,
          0.9570711851119996,
          0.9471814632415771,
          0.9595112800598145,
          0.9675272107124328,
          0.9427379965782166,
          0.9454545378684998,
          0.953210473060608,
          0.9512516260147096,
          0.9201548099517822,
          0.9332451820373536,
          0.9643291234970092,
          0.96636700630188,
          0.9662206768989564,
          0.9642279744148254,
          0.95963853597641,
          0.9630118012428284,
          0.9594923853874208,
          0.95963853597641,
          0.95772784948349,
          0.9643291234970092
         ]
        },
        {
         "mode": "lines",
         "name": "F5email",
         "type": "scatter",
         "x": [
          100,
          150,
          200,
          250,
          300,
          350,
          400,
          450,
          500,
          550,
          600,
          650,
          700,
          750,
          800,
          850,
          900,
          950,
          1000,
          1050,
          1100,
          1150,
          1200,
          1250,
          1300,
          1350,
          1398
         ],
         "y": [
          0.9923664331436156,
          0.9923664331436156,
          0.9923664331436156,
          0.9923664331436156,
          0.9923664331436156,
          0.9923664331436156,
          0.9923664331436156,
          0.9923664331436156,
          0.9923664331436156,
          0.9923664331436156,
          0.9923664331436156,
          0.9923664331436156,
          0.9923664331436156,
          0.9923664331436156,
          0.9923664331436156,
          0.9923664331436156,
          0.9923664331436156,
          0.9923664331436156,
          0.9923664331436156,
          0.9923664331436156,
          0.9923664331436156,
          0.9923664331436156,
          0.9923664331436156,
          0.9923664331436156,
          0.9923664331436156,
          0.9923664331436156,
          0.9923664331436156
         ]
        }
       ],
       "layout": {
        "font": {
         "color": "black",
         "family": "Courier New, monospace",
         "size": 14
        },
        "legend": {
         "title": {
          "text": "Metrics"
         }
        },
        "template": {
         "data": {
          "bar": [
           {
            "error_x": {
             "color": "#2a3f5f"
            },
            "error_y": {
             "color": "#2a3f5f"
            },
            "marker": {
             "line": {
              "color": "#E5ECF6",
              "width": 0.5
             },
             "pattern": {
              "fillmode": "overlay",
              "size": 10,
              "solidity": 0.2
             }
            },
            "type": "bar"
           }
          ],
          "barpolar": [
           {
            "marker": {
             "line": {
              "color": "#E5ECF6",
              "width": 0.5
             },
             "pattern": {
              "fillmode": "overlay",
              "size": 10,
              "solidity": 0.2
             }
            },
            "type": "barpolar"
           }
          ],
          "carpet": [
           {
            "aaxis": {
             "endlinecolor": "#2a3f5f",
             "gridcolor": "white",
             "linecolor": "white",
             "minorgridcolor": "white",
             "startlinecolor": "#2a3f5f"
            },
            "baxis": {
             "endlinecolor": "#2a3f5f",
             "gridcolor": "white",
             "linecolor": "white",
             "minorgridcolor": "white",
             "startlinecolor": "#2a3f5f"
            },
            "type": "carpet"
           }
          ],
          "choropleth": [
           {
            "colorbar": {
             "outlinewidth": 0,
             "ticks": ""
            },
            "type": "choropleth"
           }
          ],
          "contour": [
           {
            "colorbar": {
             "outlinewidth": 0,
             "ticks": ""
            },
            "colorscale": [
             [
              0,
              "#0d0887"
             ],
             [
              0.1111111111111111,
              "#46039f"
             ],
             [
              0.2222222222222222,
              "#7201a8"
             ],
             [
              0.3333333333333333,
              "#9c179e"
             ],
             [
              0.4444444444444444,
              "#bd3786"
             ],
             [
              0.5555555555555556,
              "#d8576b"
             ],
             [
              0.6666666666666666,
              "#ed7953"
             ],
             [
              0.7777777777777778,
              "#fb9f3a"
             ],
             [
              0.8888888888888888,
              "#fdca26"
             ],
             [
              1,
              "#f0f921"
             ]
            ],
            "type": "contour"
           }
          ],
          "contourcarpet": [
           {
            "colorbar": {
             "outlinewidth": 0,
             "ticks": ""
            },
            "type": "contourcarpet"
           }
          ],
          "heatmap": [
           {
            "colorbar": {
             "outlinewidth": 0,
             "ticks": ""
            },
            "colorscale": [
             [
              0,
              "#0d0887"
             ],
             [
              0.1111111111111111,
              "#46039f"
             ],
             [
              0.2222222222222222,
              "#7201a8"
             ],
             [
              0.3333333333333333,
              "#9c179e"
             ],
             [
              0.4444444444444444,
              "#bd3786"
             ],
             [
              0.5555555555555556,
              "#d8576b"
             ],
             [
              0.6666666666666666,
              "#ed7953"
             ],
             [
              0.7777777777777778,
              "#fb9f3a"
             ],
             [
              0.8888888888888888,
              "#fdca26"
             ],
             [
              1,
              "#f0f921"
             ]
            ],
            "type": "heatmap"
           }
          ],
          "heatmapgl": [
           {
            "colorbar": {
             "outlinewidth": 0,
             "ticks": ""
            },
            "colorscale": [
             [
              0,
              "#0d0887"
             ],
             [
              0.1111111111111111,
              "#46039f"
             ],
             [
              0.2222222222222222,
              "#7201a8"
             ],
             [
              0.3333333333333333,
              "#9c179e"
             ],
             [
              0.4444444444444444,
              "#bd3786"
             ],
             [
              0.5555555555555556,
              "#d8576b"
             ],
             [
              0.6666666666666666,
              "#ed7953"
             ],
             [
              0.7777777777777778,
              "#fb9f3a"
             ],
             [
              0.8888888888888888,
              "#fdca26"
             ],
             [
              1,
              "#f0f921"
             ]
            ],
            "type": "heatmapgl"
           }
          ],
          "histogram": [
           {
            "marker": {
             "pattern": {
              "fillmode": "overlay",
              "size": 10,
              "solidity": 0.2
             }
            },
            "type": "histogram"
           }
          ],
          "histogram2d": [
           {
            "colorbar": {
             "outlinewidth": 0,
             "ticks": ""
            },
            "colorscale": [
             [
              0,
              "#0d0887"
             ],
             [
              0.1111111111111111,
              "#46039f"
             ],
             [
              0.2222222222222222,
              "#7201a8"
             ],
             [
              0.3333333333333333,
              "#9c179e"
             ],
             [
              0.4444444444444444,
              "#bd3786"
             ],
             [
              0.5555555555555556,
              "#d8576b"
             ],
             [
              0.6666666666666666,
              "#ed7953"
             ],
             [
              0.7777777777777778,
              "#fb9f3a"
             ],
             [
              0.8888888888888888,
              "#fdca26"
             ],
             [
              1,
              "#f0f921"
             ]
            ],
            "type": "histogram2d"
           }
          ],
          "histogram2dcontour": [
           {
            "colorbar": {
             "outlinewidth": 0,
             "ticks": ""
            },
            "colorscale": [
             [
              0,
              "#0d0887"
             ],
             [
              0.1111111111111111,
              "#46039f"
             ],
             [
              0.2222222222222222,
              "#7201a8"
             ],
             [
              0.3333333333333333,
              "#9c179e"
             ],
             [
              0.4444444444444444,
              "#bd3786"
             ],
             [
              0.5555555555555556,
              "#d8576b"
             ],
             [
              0.6666666666666666,
              "#ed7953"
             ],
             [
              0.7777777777777778,
              "#fb9f3a"
             ],
             [
              0.8888888888888888,
              "#fdca26"
             ],
             [
              1,
              "#f0f921"
             ]
            ],
            "type": "histogram2dcontour"
           }
          ],
          "mesh3d": [
           {
            "colorbar": {
             "outlinewidth": 0,
             "ticks": ""
            },
            "type": "mesh3d"
           }
          ],
          "parcoords": [
           {
            "line": {
             "colorbar": {
              "outlinewidth": 0,
              "ticks": ""
             }
            },
            "type": "parcoords"
           }
          ],
          "pie": [
           {
            "automargin": true,
            "type": "pie"
           }
          ],
          "scatter": [
           {
            "fillpattern": {
             "fillmode": "overlay",
             "size": 10,
             "solidity": 0.2
            },
            "type": "scatter"
           }
          ],
          "scatter3d": [
           {
            "line": {
             "colorbar": {
              "outlinewidth": 0,
              "ticks": ""
             }
            },
            "marker": {
             "colorbar": {
              "outlinewidth": 0,
              "ticks": ""
             }
            },
            "type": "scatter3d"
           }
          ],
          "scattercarpet": [
           {
            "marker": {
             "colorbar": {
              "outlinewidth": 0,
              "ticks": ""
             }
            },
            "type": "scattercarpet"
           }
          ],
          "scattergeo": [
           {
            "marker": {
             "colorbar": {
              "outlinewidth": 0,
              "ticks": ""
             }
            },
            "type": "scattergeo"
           }
          ],
          "scattergl": [
           {
            "marker": {
             "colorbar": {
              "outlinewidth": 0,
              "ticks": ""
             }
            },
            "type": "scattergl"
           }
          ],
          "scattermapbox": [
           {
            "marker": {
             "colorbar": {
              "outlinewidth": 0,
              "ticks": ""
             }
            },
            "type": "scattermapbox"
           }
          ],
          "scatterpolar": [
           {
            "marker": {
             "colorbar": {
              "outlinewidth": 0,
              "ticks": ""
             }
            },
            "type": "scatterpolar"
           }
          ],
          "scatterpolargl": [
           {
            "marker": {
             "colorbar": {
              "outlinewidth": 0,
              "ticks": ""
             }
            },
            "type": "scatterpolargl"
           }
          ],
          "scatterternary": [
           {
            "marker": {
             "colorbar": {
              "outlinewidth": 0,
              "ticks": ""
             }
            },
            "type": "scatterternary"
           }
          ],
          "surface": [
           {
            "colorbar": {
             "outlinewidth": 0,
             "ticks": ""
            },
            "colorscale": [
             [
              0,
              "#0d0887"
             ],
             [
              0.1111111111111111,
              "#46039f"
             ],
             [
              0.2222222222222222,
              "#7201a8"
             ],
             [
              0.3333333333333333,
              "#9c179e"
             ],
             [
              0.4444444444444444,
              "#bd3786"
             ],
             [
              0.5555555555555556,
              "#d8576b"
             ],
             [
              0.6666666666666666,
              "#ed7953"
             ],
             [
              0.7777777777777778,
              "#fb9f3a"
             ],
             [
              0.8888888888888888,
              "#fdca26"
             ],
             [
              1,
              "#f0f921"
             ]
            ],
            "type": "surface"
           }
          ],
          "table": [
           {
            "cells": {
             "fill": {
              "color": "#EBF0F8"
             },
             "line": {
              "color": "white"
             }
            },
            "header": {
             "fill": {
              "color": "#C8D4E3"
             },
             "line": {
              "color": "white"
             }
            },
            "type": "table"
           }
          ]
         },
         "layout": {
          "annotationdefaults": {
           "arrowcolor": "#2a3f5f",
           "arrowhead": 0,
           "arrowwidth": 1
          },
          "autotypenumbers": "strict",
          "coloraxis": {
           "colorbar": {
            "outlinewidth": 0,
            "ticks": ""
           }
          },
          "colorscale": {
           "diverging": [
            [
             0,
             "#8e0152"
            ],
            [
             0.1,
             "#c51b7d"
            ],
            [
             0.2,
             "#de77ae"
            ],
            [
             0.3,
             "#f1b6da"
            ],
            [
             0.4,
             "#fde0ef"
            ],
            [
             0.5,
             "#f7f7f7"
            ],
            [
             0.6,
             "#e6f5d0"
            ],
            [
             0.7,
             "#b8e186"
            ],
            [
             0.8,
             "#7fbc41"
            ],
            [
             0.9,
             "#4d9221"
            ],
            [
             1,
             "#276419"
            ]
           ],
           "sequential": [
            [
             0,
             "#0d0887"
            ],
            [
             0.1111111111111111,
             "#46039f"
            ],
            [
             0.2222222222222222,
             "#7201a8"
            ],
            [
             0.3333333333333333,
             "#9c179e"
            ],
            [
             0.4444444444444444,
             "#bd3786"
            ],
            [
             0.5555555555555556,
             "#d8576b"
            ],
            [
             0.6666666666666666,
             "#ed7953"
            ],
            [
             0.7777777777777778,
             "#fb9f3a"
            ],
            [
             0.8888888888888888,
             "#fdca26"
            ],
            [
             1,
             "#f0f921"
            ]
           ],
           "sequentialminus": [
            [
             0,
             "#0d0887"
            ],
            [
             0.1111111111111111,
             "#46039f"
            ],
            [
             0.2222222222222222,
             "#7201a8"
            ],
            [
             0.3333333333333333,
             "#9c179e"
            ],
            [
             0.4444444444444444,
             "#bd3786"
            ],
            [
             0.5555555555555556,
             "#d8576b"
            ],
            [
             0.6666666666666666,
             "#ed7953"
            ],
            [
             0.7777777777777778,
             "#fb9f3a"
            ],
            [
             0.8888888888888888,
             "#fdca26"
            ],
            [
             1,
             "#f0f921"
            ]
           ]
          },
          "colorway": [
           "#636efa",
           "#EF553B",
           "#00cc96",
           "#ab63fa",
           "#FFA15A",
           "#19d3f3",
           "#FF6692",
           "#B6E880",
           "#FF97FF",
           "#FECB52"
          ],
          "font": {
           "color": "#2a3f5f"
          },
          "geo": {
           "bgcolor": "white",
           "lakecolor": "white",
           "landcolor": "#E5ECF6",
           "showlakes": true,
           "showland": true,
           "subunitcolor": "white"
          },
          "hoverlabel": {
           "align": "left"
          },
          "hovermode": "closest",
          "mapbox": {
           "style": "light"
          },
          "paper_bgcolor": "white",
          "plot_bgcolor": "#E5ECF6",
          "polar": {
           "angularaxis": {
            "gridcolor": "white",
            "linecolor": "white",
            "ticks": ""
           },
           "bgcolor": "#E5ECF6",
           "radialaxis": {
            "gridcolor": "white",
            "linecolor": "white",
            "ticks": ""
           }
          },
          "scene": {
           "xaxis": {
            "backgroundcolor": "#E5ECF6",
            "gridcolor": "white",
            "gridwidth": 2,
            "linecolor": "white",
            "showbackground": true,
            "ticks": "",
            "zerolinecolor": "white"
           },
           "yaxis": {
            "backgroundcolor": "#E5ECF6",
            "gridcolor": "white",
            "gridwidth": 2,
            "linecolor": "white",
            "showbackground": true,
            "ticks": "",
            "zerolinecolor": "white"
           },
           "zaxis": {
            "backgroundcolor": "#E5ECF6",
            "gridcolor": "white",
            "gridwidth": 2,
            "linecolor": "white",
            "showbackground": true,
            "ticks": "",
            "zerolinecolor": "white"
           }
          },
          "shapedefaults": {
           "line": {
            "color": "#2a3f5f"
           }
          },
          "ternary": {
           "aaxis": {
            "gridcolor": "white",
            "linecolor": "white",
            "ticks": ""
           },
           "baxis": {
            "gridcolor": "white",
            "linecolor": "white",
            "ticks": ""
           },
           "bgcolor": "#E5ECF6",
           "caxis": {
            "gridcolor": "white",
            "linecolor": "white",
            "ticks": ""
           }
          },
          "title": {
           "x": 0.05
          },
          "xaxis": {
           "automargin": true,
           "gridcolor": "white",
           "linecolor": "white",
           "ticks": "",
           "title": {
            "standoff": 15
           },
           "zerolinecolor": "white",
           "zerolinewidth": 2
          },
          "yaxis": {
           "automargin": true,
           "gridcolor": "white",
           "linecolor": "white",
           "ticks": "",
           "title": {
            "standoff": 15
           },
           "zerolinecolor": "white",
           "zerolinewidth": 2
          }
         }
        },
        "title": {
         "text": "f5 per label"
        },
        "xaxis": {
         "title": {
          "text": "Step"
         }
        },
        "yaxis": {
         "range": [
          0,
          1.1
         ],
         "title": {
          "text": "Value"
         }
        }
       }
      }
     },
     "metadata": {},
     "output_type": "display_data"
    }
   ],
   "source": [
    "plot_learning_curves(folder_name = 'f5_per_label', title = 'f5 per label', y_limit=(0, 1.1))"
   ]
  },
  {
   "cell_type": "markdown",
   "metadata": {},
   "source": [
    "#### Take-aways\n",
    "Comparing the learning curves of the individual labels, it's immediately noticeable that *phone numbers* and *emails* constantly score values at $≈1.0$. \n",
    "\n",
    "Thankfully, phone-numbers and emails are quite easy to catch through simple regex-rules, which is most likely why they score as highly as they do. \n",
    "Meanwhile, URL is not quite as stable, but does end up at 0.99 in the last step. - It's important to note here, that the labels distinguish between personal URLs and regular URLs (like Wikipedia etc.), which is most-likely why Regex isn't able to catch all of the URLs.\n",
    "\n",
    "Usernames seeem to be the most difficult class in the beginning, however, through training the f5 greatly improves. \n",
    "\n",
    "Meanwhile, Street-addresses are the second-most difficult labels to classify at the start, but training barely improves performance in this case. Street-addresses usually consist of many consecutive tokens, which could be why these are more difficult to catch. \n",
    "\n",
    "Comparing to that of the HMM, it's strange to see phone-number scoring such a high f5!\n",
    "This is most likely explained by the second Regex pass of the LLM, whereas the HMM uses regex as a feature for the model. This means, that even though the phone-numbers were registered by the Regex feature, it's unsure whether the model puts high importance on the specific feature - especially taking into consideration the incredibly low amount of phone-numbers present in both train and test data."
   ]
  },
  {
   "cell_type": "markdown",
   "metadata": {},
   "source": [
    "# 4. Model Evaluation"
   ]
  },
  {
   "cell_type": "markdown",
   "metadata": {},
   "source": [
    "This section will predict on the entirety of the Validation set, and assess performance in both F5, accuracy as well as in a Confusion Matrix, as seen in the HMM evaluation. \n",
    "\n",
    "Firstly, we'll load all the necessary packages for making the model work. "
   ]
  },
  {
   "cell_type": "code",
   "execution_count": 6,
   "metadata": {},
   "outputs": [
    {
     "name": "stderr",
     "output_type": "stream",
     "text": [
      "/opt/anaconda3/envs/adv_ba/lib/python3.11/site-packages/tqdm/auto.py:21: TqdmWarning:\n",
      "\n",
      "IProgress not found. Please update jupyter and ipywidgets. See https://ipywidgets.readthedocs.io/en/stable/user_install.html\n",
      "\n"
     ]
    }
   ],
   "source": [
    "import os, re, sys\n",
    "import numpy as np\n",
    "import pandas as pd\n",
    "import argparse\n",
    "from pathlib import Path\n",
    "from transformers import DebertaV2TokenizerFast, DebertaV2ForTokenClassification, DataCollatorForTokenClassification, Trainer, TrainingArguments\n",
    "from sklearn.model_selection import train_test_split\n",
    "import torch\n",
    "import json\n",
    "from types import SimpleNamespace\n",
    "\n",
    "from datasets import Dataset, DatasetDict\n",
    "from spacy.lang.en import English\n",
    "nlp = English()\n",
    "\n",
    "from utils import CustomPredTokenizer, get_predictions\n",
    "from sklearn.metrics import fbeta_score, confusion_matrix\n",
    "\n",
    "import seaborn as sns\n",
    "import matplotlib.pyplot as plt\n",
    "\n",
    "def load_data(DATA_DIR, args):\n",
    "\n",
    "    data = {}\n",
    "\n",
    "    # Train data\n",
    "    with Path(f\"{DATA_DIR}/train.json\").open(\"r\") as f:\n",
    "        original_data = json.load(f)\n",
    "\n",
    "    with Path(f\"{DATA_DIR}/mpware_mixtral8x7b_v1.1-no-i-username.json\").open(\"r\") as f:\n",
    "        extra_data = json.load(f)\n",
    "\n",
    "    data['train'] = DatasetDict()\n",
    "\n",
    "    original_data = pd.DataFrame(original_data)\n",
    "    original_train, original_val = train_test_split(original_data, test_size=0.3, random_state=args.seed, shuffle=True)\n",
    "\n",
    "    for _key, _data in zip([\"original\", \"extra\"], [original_train, pd.DataFrame(extra_data)]):\n",
    "        data['train'][_key] = Dataset.from_dict({\n",
    "            \"full_text\": _data[\"full_text\"],\n",
    "            \"document\": _data['document'].apply(lambda x: str(x)), \n",
    "            \"tokens\": _data[\"tokens\"],\n",
    "            \"trailing_whitespace\": _data[\"trailing_whitespace\"],\n",
    "            \"provided_labels\": _data[\"labels\"]\n",
    "        })\n",
    "\n",
    "    with open(str(Path(DATA_DIR).joinpath(\"test.json\")), \"r\") as f:\n",
    "        _test = json.load(f)\n",
    "\n",
    "    # Testdata\n",
    "    data['test'] = Dataset.from_dict({\n",
    "        \"full_text\": [x[\"full_text\"] for x in _test],\n",
    "        \"document\": [x[\"document\"] for x in _test],\n",
    "        \"tokens\": [x[\"tokens\"] for x in _test],\n",
    "        \"trailing_whitespace\": [x[\"trailing_whitespace\"] for x in _test],\n",
    "    })\n",
    "\n",
    "    # Testdata\n",
    "    data['val'] = Dataset.from_dict({\n",
    "        \"full_text\": original_val[\"full_text\"],\n",
    "        \"document\": original_val['document'].apply(lambda x: str(x)), \n",
    "        \"tokens\": original_val[\"tokens\"],\n",
    "        \"trailing_whitespace\": original_val[\"trailing_whitespace\"],\n",
    "        \"provided_labels\": original_val[\"labels\"]\n",
    "    })\n",
    "\n",
    "    data['all_labels'] = [\n",
    "    'B-EMAIL', 'B-ID_NUM', 'B-NAME_STUDENT', 'B-PHONE_NUM', 'B-STREET_ADDRESS', 'B-URL_PERSONAL', 'B-USERNAME', 'I-ID_NUM', 'I-NAME_STUDENT', 'I-PHONE_NUM', 'I-STREET_ADDRESS', 'I-URL_PERSONAL', 'O'\n",
    "    ]\n",
    "\n",
    "    data['id2label'] = {i: l for i, l in enumerate(data['all_labels'])}\n",
    "    data['label2id'] = {v: k for k, v in data['id2label'].items()}\n",
    "    data['target'] = [l for l in data['all_labels'] if l != \"O\"]\n",
    "\n",
    "    return data"
   ]
  },
  {
   "cell_type": "markdown",
   "metadata": {},
   "source": [
    "### Inserting model arguments"
   ]
  },
  {
   "cell_type": "code",
   "execution_count": 7,
   "metadata": {},
   "outputs": [],
   "source": [
    "data = {'inference_max_length': 3072,\n",
    "        'conf_thresh': 0.9,\n",
    "        'url_thresh': 0.1,\n",
    "        'model_path': '../deberta_v3/model',\n",
    "        'metric': 'f5',\n",
    "        'data_dir': '../data',\n",
    "        'seed': 42,\n",
    "        'full_determinism': False,\n",
    "        'AMP': False,}\n",
    "\n",
    "args = SimpleNamespace(**data)\n",
    "args.device = torch.device(\"cuda\" if torch.cuda.is_available() else \"cpu\")\n",
    "args.AMP = True if str(args.device) == 'cuda' else False"
   ]
  },
  {
   "cell_type": "markdown",
   "metadata": {},
   "source": [
    "## 4.1 Loading and tokenizing data"
   ]
  },
  {
   "cell_type": "markdown",
   "metadata": {},
   "source": [
    "The data is loaded, and passed through the tokenizer, in order to create the validation set"
   ]
  },
  {
   "cell_type": "code",
   "execution_count": 8,
   "metadata": {},
   "outputs": [
    {
     "name": "stderr",
     "output_type": "stream",
     "text": [
      "Map (num_proc=12): 100%|██████████| 2043/2043 [00:20<00:00, 99.27 examples/s] \n"
     ]
    }
   ],
   "source": [
    "data = load_data(args.data_dir, args)\n",
    "\n",
    "# Instantiate tokenizer\n",
    "tokenizer = DebertaV2TokenizerFast.from_pretrained(args.model_path)\n",
    "\n",
    "# Tokenize dataset \n",
    "data['val'] = data['val'].map(CustomPredTokenizer(tokenizer=tokenizer, max_length=args.inference_max_length), \n",
    "                num_proc=os.cpu_count())"
   ]
  },
  {
   "cell_type": "markdown",
   "metadata": {},
   "source": [
    "## 4.2 Loading model and instantiating Huggingface Trainer"
   ]
  },
  {
   "cell_type": "code",
   "execution_count": 9,
   "metadata": {},
   "outputs": [],
   "source": [
    "model = DebertaV2ForTokenClassification.from_pretrained(args.model_path)\n",
    "collator = DataCollatorForTokenClassification(tokenizer)\n",
    "train_args = TrainingArguments(\".\", \n",
    "                                per_device_eval_batch_size=1, \n",
    "                                report_to=\"none\", \n",
    "                                fp16=args.AMP, \n",
    "                                use_cpu=(str(args.device) == 'cpu'))\n",
    "\n",
    "trainer = Trainer(\n",
    "    model=model, \n",
    "    args=train_args, \n",
    "    data_collator=collator, \n",
    "    tokenizer=tokenizer,\n",
    ")"
   ]
  },
  {
   "cell_type": "markdown",
   "metadata": {},
   "source": [
    "## 4.3 Predicting on data\n",
    "\n",
    "Prediction on the entire validation set takes hours to complete without heavy GPUs. We've therefore predicted once, and opted to just load the predictions within this notebook. "
   ]
  },
  {
   "cell_type": "code",
   "execution_count": 24,
   "metadata": {},
   "outputs": [],
   "source": [
    "import ast\n",
    "LOAD_PREDICTIONS = True\n",
    "\n",
    "if not LOAD_PREDICTIONS:\n",
    "    print(\"Predicting on validation....\")\n",
    "    data_val = data['val']\n",
    "    _, data_val = get_predictions(data_val, trainer, model, args, nlp, return_all = True)\n",
    "\n",
    "else:\n",
    "    data_val = pd.read_pickle(f'../data/val_predictions.pkl')"
   ]
  },
  {
   "cell_type": "markdown",
   "metadata": {},
   "source": [
    "## 4.4 Evaluation of predictions"
   ]
  },
  {
   "cell_type": "markdown",
   "metadata": {},
   "source": [
    "As in the HMM, we'll start by computing the F5 score, with the inclusion of the 'O'-label. As mentioned, the vast majority of the data consists of 'O', which is why this score is not especially useful. "
   ]
  },
  {
   "cell_type": "code",
   "execution_count": 25,
   "metadata": {},
   "outputs": [
    {
     "name": "stdout",
     "output_type": "stream",
     "text": [
      "Calculating f5 score....\n",
      "F5 score (ALL): 0.9997839660248352\n"
     ]
    }
   ],
   "source": [
    "print(\"Calculating f5 score....\")\n",
    "non_O_ids = [item != 'O' for sublist in data_val['pred_labels'] for item in sublist]\n",
    "true_labels = np.array([data['label2id'][item] for sublist in data_val['provided_labels'] for item in sublist])\n",
    "pred_labels = np.array([data['label2id'][item] for sublist in data_val['pred_labels'] for item in sublist])\n",
    "\n",
    "# On all classes\n",
    "print(f\"F5 score (ALL): {fbeta_score(true_labels, pred_labels, average='micro', beta=5)}\")"
   ]
  },
  {
   "cell_type": "markdown",
   "metadata": {},
   "source": [
    "Now, the accuracy and f5 will be calculated on all non-O labels."
   ]
  },
  {
   "cell_type": "code",
   "execution_count": 31,
   "metadata": {},
   "outputs": [
    {
     "name": "stdout",
     "output_type": "stream",
     "text": [
      "F5 score (Excluding O): 0.7294642857142857\n",
      "Accuracy (Excluding O): 0.7294642857142857\n"
     ]
    }
   ],
   "source": [
    "# f5 score\n",
    "print(f\"F5 score (Excluding O): {fbeta_score(true_labels[non_O_ids], pred_labels[non_O_ids], average='micro', beta=5)}\")\n",
    "# Calculate accuracy\n",
    "print(f\"Accuracy (Excluding O): {np.mean(true_labels[non_O_ids] == pred_labels[non_O_ids])}\")"
   ]
  },
  {
   "cell_type": "markdown",
   "metadata": {},
   "source": [
    "We see an increase of roughly 30 percentage points compared to out HMM!"
   ]
  },
  {
   "cell_type": "markdown",
   "metadata": {},
   "source": [
    "Creating confusion matrix"
   ]
  },
  {
   "cell_type": "code",
   "execution_count": 29,
   "metadata": {},
   "outputs": [],
   "source": [
    "pred_labels_named = [data['id2label'][ele] for ele in pred_labels]\n",
    "true_labels_named = [data['id2label'][ele] for ele in true_labels]"
   ]
  },
  {
   "cell_type": "code",
   "execution_count": 30,
   "metadata": {},
   "outputs": [
    {
     "data": {
      "image/png": "[encoded data removed]",
      "text/plain": [
       "<Figure size 2000x1000 with 2 Axes>"
      ]
     },
     "metadata": {},
     "output_type": "display_data"
    }
   ],
   "source": [
    "labels = ['O', 'B-NAME_STUDENT', 'I-NAME_STUDENT', 'B-URL_PERSONAL', 'B-ID_NUM', 'B-STREET_ADDRESS', 'I-STREET_ADDRESS', 'B-PHONE_NUM', 'I-PHONE_NUM', 'B-EMAIL', 'B-USERNAME']\n",
    "# we create heatmap of our predictions and labels\n",
    "conf_matrix = confusion_matrix(true_labels_named, pred_labels_named, labels=labels, normalize='true')\n",
    "# normalize the confusion matrix\n",
    "plt.figure(figsize=(20, 10))\n",
    "sns.heatmap(conf_matrix, annot=True, vmin=0, cmap='Blues', vmax=1,\n",
    "            xticklabels=labels, yticklabels=labels)\n",
    "plt.ylabel('Actual')\n",
    "plt.xlabel('Predicted')\n",
    "plt.show()"
   ]
  },
  {
   "cell_type": "markdown",
   "metadata": {},
   "source": [
    "As indicated by the very clear line throughout the diagonal of the confusion matrix, then we've clearly created a very good model here :)\n",
    "\n",
    "\n",
    "Looking at the individual Predicted-columns, it's seen that we very rarely mislabel a PII-label, as being another different PII-label - instead, when misclassifying, labels are almost always misclassified as 'O'. \n",
    "\n",
    "Comparing the Predicted 'O'-column, with the Actual 'O'-row - it's seen that there's a larger tendency of predicting 'O', when in fact it was PII, rather than predicting PII when in fact it was 'O'. This is a shame, as it indicates that the model does let some PII-information through our system - whereas, we'd much rather mistakenly label 'O'-tokens as being PII. \n",
    "\n",
    "But all in all, this is a very good looking confusion matrix. "
   ]
  },
  {
   "cell_type": "markdown",
   "metadata": {},
   "source": [
    "# 5. Conclusion"
   ]
  },
  {
   "cell_type": "markdown",
   "metadata": {},
   "source": [
    "In this notebook, we explored the use of the DeBERTa model for Named Entity Recognition - while comparing it to the previously evaluated HMM. \n",
    "\n",
    "The final evaluation metrics found were:\n",
    "\n",
    "- Accuracy (Without 'O' labels): 0.72946\n",
    "- F5 score (With 'O' labels): 0.99978\n",
    "\n",
    "Thus making the model much better than the evaluated HMM, which is a shame as it is nowhere near as transparent and explainable - though we could've spent more time on the explainability of the model, possibly exploring the attention-module within the model. Though the model is already surprisingly good, there's no doubt that the following considerations could further improve the model: \n",
    "\n",
    "- **Hyperparameter tuning:** We could attempt to further tune the hyperparameters of the model to improve its performance. Particularly the amount of frozen layers could end up having a huge on the model performance. \n",
    "- **More training data:** LLMs usually require vast amounts of data, which is why the provided number of essays is nowhere near what could've been utilized by the LLM. As mentioned, part of the training data was generated through other LLMs, which is a great resource at gathering more training data. \n",
    "\n",
    "**Key Takeaways:**\n",
    "- DeBERTa is a great resource for fine-tuning NER tasks, it's clearly got a great contextual awareness of tokens already, while barely any epochs are needed to fine-tune it to the specific task of NER. However, the LLM comes at a large cost of compute, for both training and inference, making it expensive and resource-extensive."
   ]
  }
 ],
 "metadata": {
  "kernelspec": {
   "display_name": "adv_ba",
   "language": "python",
   "name": "python3"
  },
  "language_info": {
   "codemirror_mode": {
    "name": "ipython",
    "version": 3
   },
   "file_extension": ".py",
   "mimetype": "text/x-python",
   "name": "python",
   "nbconvert_exporter": "python",
   "pygments_lexer": "ipython3",
   "version": "3.11.7"
  }
 },
 "nbformat": 4,
 "nbformat_minor": 2
}
