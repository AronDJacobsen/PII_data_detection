{
 "cells": [
  {
   "cell_type": "code",
   "execution_count": 8,
   "metadata": {},
   "outputs": [],
   "source": [
    "import json\n",
    "import pandas as pd\n",
    "import matplotlib.pyplot as plt\n",
    "from names_dataset import NameDataset"
   ]
  },
  {
   "cell_type": "code",
   "execution_count": 2,
   "metadata": {},
   "outputs": [],
   "source": [
    "file_path = \"../data/train.json\"\n",
    "\n",
    "with open(file_path, \"r\") as file:\n",
    "    data = json.load(file)\n",
    "\n",
    "df = pd.DataFrame(data)"
   ]
  },
  {
   "cell_type": "code",
   "execution_count": 3,
   "metadata": {},
   "outputs": [
    {
     "data": {
      "text/html": [
       "<div>\n",
       "<style scoped>\n",
       "    .dataframe tbody tr th:only-of-type {\n",
       "        vertical-align: middle;\n",
       "    }\n",
       "\n",
       "    .dataframe tbody tr th {\n",
       "        vertical-align: top;\n",
       "    }\n",
       "\n",
       "    .dataframe thead th {\n",
       "        text-align: right;\n",
       "    }\n",
       "</style>\n",
       "<table border=\"1\" class=\"dataframe\">\n",
       "  <thead>\n",
       "    <tr style=\"text-align: right;\">\n",
       "      <th></th>\n",
       "      <th>document</th>\n",
       "      <th>full_text</th>\n",
       "      <th>tokens</th>\n",
       "      <th>trailing_whitespace</th>\n",
       "      <th>labels</th>\n",
       "    </tr>\n",
       "  </thead>\n",
       "  <tbody>\n",
       "    <tr>\n",
       "      <th>0</th>\n",
       "      <td>7</td>\n",
       "      <td>Design Thinking for innovation reflexion-Avril...</td>\n",
       "      <td>[Design, Thinking, for, innovation, reflexion,...</td>\n",
       "      <td>[True, True, True, True, False, False, True, F...</td>\n",
       "      <td>[O, O, O, O, O, O, O, O, O, B-NAME_STUDENT, I-...</td>\n",
       "    </tr>\n",
       "    <tr>\n",
       "      <th>1</th>\n",
       "      <td>10</td>\n",
       "      <td>Diego Estrada\\n\\nDesign Thinking Assignment\\n\\...</td>\n",
       "      <td>[Diego, Estrada, \\n\\n, Design, Thinking, Assig...</td>\n",
       "      <td>[True, False, False, True, True, False, False,...</td>\n",
       "      <td>[B-NAME_STUDENT, I-NAME_STUDENT, O, O, O, O, O...</td>\n",
       "    </tr>\n",
       "    <tr>\n",
       "      <th>2</th>\n",
       "      <td>16</td>\n",
       "      <td>Reporting process\\n\\nby Gilberto Gamboa\\n\\nCha...</td>\n",
       "      <td>[Reporting, process, \\n\\n, by, Gilberto, Gambo...</td>\n",
       "      <td>[True, False, False, True, True, False, False,...</td>\n",
       "      <td>[O, O, O, O, B-NAME_STUDENT, I-NAME_STUDENT, O...</td>\n",
       "    </tr>\n",
       "    <tr>\n",
       "      <th>3</th>\n",
       "      <td>20</td>\n",
       "      <td>Design Thinking for Innovation\\n\\nSindy Samaca...</td>\n",
       "      <td>[Design, Thinking, for, Innovation, \\n\\n, Sind...</td>\n",
       "      <td>[True, True, True, False, False, True, False, ...</td>\n",
       "      <td>[O, O, O, O, O, B-NAME_STUDENT, I-NAME_STUDENT...</td>\n",
       "    </tr>\n",
       "    <tr>\n",
       "      <th>4</th>\n",
       "      <td>56</td>\n",
       "      <td>Assignment:  Visualization Reflection  Submitt...</td>\n",
       "      <td>[Assignment, :,   , Visualization,  , Reflecti...</td>\n",
       "      <td>[False, False, False, False, False, False, Fal...</td>\n",
       "      <td>[O, O, O, O, O, O, O, O, O, O, O, O, B-NAME_ST...</td>\n",
       "    </tr>\n",
       "  </tbody>\n",
       "</table>\n",
       "</div>"
      ],
      "text/plain": [
       "   document                                          full_text  \\\n",
       "0         7  Design Thinking for innovation reflexion-Avril...   \n",
       "1        10  Diego Estrada\\n\\nDesign Thinking Assignment\\n\\...   \n",
       "2        16  Reporting process\\n\\nby Gilberto Gamboa\\n\\nCha...   \n",
       "3        20  Design Thinking for Innovation\\n\\nSindy Samaca...   \n",
       "4        56  Assignment:  Visualization Reflection  Submitt...   \n",
       "\n",
       "                                              tokens  \\\n",
       "0  [Design, Thinking, for, innovation, reflexion,...   \n",
       "1  [Diego, Estrada, \\n\\n, Design, Thinking, Assig...   \n",
       "2  [Reporting, process, \\n\\n, by, Gilberto, Gambo...   \n",
       "3  [Design, Thinking, for, Innovation, \\n\\n, Sind...   \n",
       "4  [Assignment, :,   , Visualization,  , Reflecti...   \n",
       "\n",
       "                                 trailing_whitespace  \\\n",
       "0  [True, True, True, True, False, False, True, F...   \n",
       "1  [True, False, False, True, True, False, False,...   \n",
       "2  [True, False, False, True, True, False, False,...   \n",
       "3  [True, True, True, False, False, True, False, ...   \n",
       "4  [False, False, False, False, False, False, Fal...   \n",
       "\n",
       "                                              labels  \n",
       "0  [O, O, O, O, O, O, O, O, O, B-NAME_STUDENT, I-...  \n",
       "1  [B-NAME_STUDENT, I-NAME_STUDENT, O, O, O, O, O...  \n",
       "2  [O, O, O, O, B-NAME_STUDENT, I-NAME_STUDENT, O...  \n",
       "3  [O, O, O, O, O, B-NAME_STUDENT, I-NAME_STUDENT...  \n",
       "4  [O, O, O, O, O, O, O, O, O, O, O, O, B-NAME_ST...  "
      ]
     },
     "execution_count": 3,
     "metadata": {},
     "output_type": "execute_result"
    }
   ],
   "source": [
    "df.head()"
   ]
  },
  {
   "cell_type": "code",
   "execution_count": 26,
   "metadata": {},
   "outputs": [
    {
     "data": {
      "text/plain": [
       "labels\n",
       "O                   4989794\n",
       "B-NAME_STUDENT         1365\n",
       "I-NAME_STUDENT         1096\n",
       "B-URL_PERSONAL          110\n",
       "B-ID_NUM                 78\n",
       "B-EMAIL                  39\n",
       "I-STREET_ADDRESS         20\n",
       "I-PHONE_NUM              15\n",
       "B-USERNAME                6\n",
       "B-PHONE_NUM               6\n",
       "B-STREET_ADDRESS          2\n",
       "I-URL_PERSONAL            1\n",
       "I-ID_NUM                  1\n",
       "Name: count, dtype: int64"
      ]
     },
     "execution_count": 26,
     "metadata": {},
     "output_type": "execute_result"
    }
   ],
   "source": [
    "labels = df.labels.explode().reset_index(drop=True)\n",
    "labels_vc = labels.value_counts()\n",
    "labels_vc"
   ]
  },
  {
   "cell_type": "markdown",
   "metadata": {},
   "source": [
    "### B-ID_NUM"
   ]
  },
  {
   "cell_type": "code",
   "execution_count": 62,
   "metadata": {},
   "outputs": [
    {
     "data": {
      "text/plain": [
       "(78,)"
      ]
     },
     "execution_count": 62,
     "metadata": {},
     "output_type": "execute_result"
    }
   ],
   "source": [
    "idx = labels[labels == \"B-ID_NUM\"].index\n",
    "b_ids = df.tokens.explode().reset_index(drop=True)[idx]\n",
    "b_ids.shape"
   ]
  },
  {
   "cell_type": "code",
   "execution_count": 71,
   "metadata": {},
   "outputs": [
    {
     "name": "stdout",
     "output_type": "stream",
     "text": [
      "Regex finding Ids in label specific:  61\n",
      "Regex finding Ids in all tokens:  186\n",
      "\n",
      "Accuracy Regex finding Ids in label specific:  0.782051282051282\n",
      "Error of missclassification in whole 3.725563756914576e-05\n"
     ]
    }
   ],
   "source": [
    "specific_id = b_ids.str.match(r'\\d{6,12}\\b|\\b[a-zA-Z]+\\d{2,}')\n",
    "ids_in_tokens = df.tokens.explode().str.match(r'\\d{6,12}\\b|\\b[a-zA-Z]+\\d{2,}')\n",
    "\n",
    "print('Regex finding Ids in label specific: ', specific_id.sum())\n",
    "print('Regex finding Ids in all tokens: ', ids_in_tokens.sum())\n",
    "print()\n",
    "print('Accuracy Regex finding Ids in label specific: ', specific_id.sum() / len(specific_id))\n",
    "# We calculate the percentage of ids we would have classified wrongly in the total amount of tokens\n",
    "print('Error of missclassification in whole', ids_in_tokens.sum() / len(ids_in_tokens))"
   ]
  },
  {
   "cell_type": "markdown",
   "metadata": {},
   "source": [
    "### B-EMAIL"
   ]
  },
  {
   "cell_type": "code",
   "execution_count": 73,
   "metadata": {},
   "outputs": [
    {
     "data": {
      "text/plain": [
       "(39,)"
      ]
     },
     "execution_count": 73,
     "metadata": {},
     "output_type": "execute_result"
    }
   ],
   "source": [
    "idx = labels[labels == \"B-EMAIL\"].index\n",
    "b_ids = df.tokens.explode().reset_index(drop=True)[idx]\n",
    "b_ids.shape"
   ]
  },
  {
   "cell_type": "code",
   "execution_count": 74,
   "metadata": {},
   "outputs": [
    {
     "name": "stdout",
     "output_type": "stream",
     "text": [
      "Regex finding Ids in label specific:  39\n",
      "Regex finding Ids in all tokens:  49\n",
      "\n",
      "Accuracy Regex finding Ids in label specific:  1.0\n",
      "Error of missclassification in whole 9.814657209076034e-06\n"
     ]
    }
   ],
   "source": [
    "reg = r'[\\w\\.-]+@[\\w\\.-]+'\n",
    "specific_id = b_ids.str.match(reg)\n",
    "ids_in_tokens = df.tokens.explode().str.match(reg)\n",
    "\n",
    "print('Regex finding Ids in label specific: ', specific_id.sum())\n",
    "print('Regex finding Ids in all tokens: ', ids_in_tokens.sum())\n",
    "print()\n",
    "print('Accuracy Regex finding Ids in label specific: ', specific_id.sum() / len(specific_id))\n",
    "# We calculate the percentage of ids we would have classified wrongly in the total amount of tokens\n",
    "print('Error of missclassification in whole', ids_in_tokens.sum() / len(ids_in_tokens))"
   ]
  },
  {
   "cell_type": "markdown",
   "metadata": {},
   "source": [
    "### B-URL_PERSONAL"
   ]
  },
  {
   "cell_type": "markdown",
   "metadata": {},
   "source": [
    "### I-PHONE_NUM\n",
    "**NOTE**: For this one it seems we need to do some sort of kernel implementation because multiple tokens can be part of the phone number. This includes the B-PHONE_NUM tag as well."
   ]
  },
  {
   "cell_type": "code",
   "execution_count": 83,
   "metadata": {},
   "outputs": [
    {
     "data": {
      "text/plain": [
       "150910       320)202\n",
       "150911             -\n",
       "150912    0688x95843\n",
       "179881       223)392\n",
       "179882             -\n",
       "179883          2765\n",
       "286836       820)913\n",
       "286837             -\n",
       "286838      3241x894\n",
       "287267       820)913\n",
       "287268             -\n",
       "287269      3241x894\n",
       "287294       820)913\n",
       "287295             -\n",
       "287296      3241x894\n",
       "Name: tokens, dtype: object"
      ]
     },
     "execution_count": 83,
     "metadata": {},
     "output_type": "execute_result"
    }
   ],
   "source": [
    "idx = labels[labels == \"I-PHONE_NUM\"].index\n",
    "b_ids = df.tokens.explode().reset_index(drop=True)[idx]\n",
    "b_ids"
   ]
  },
  {
   "cell_type": "code",
   "execution_count": 81,
   "metadata": {},
   "outputs": [
    {
     "name": "stdout",
     "output_type": "stream",
     "text": [
      "Regex finding Ids in label specific:  1\n",
      "Regex finding Ids in all tokens:  1\n",
      "\n",
      "Accuracy Regex finding Ids in label specific:  0.16666666666666666\n",
      "Error of missclassification in whole 2.0029912671583744e-07\n"
     ]
    }
   ],
   "source": [
    "reg = r'\\b\\d{3}[-.]?\\d{3}[-.]?\\d{4}\\b'\n",
    "specific_id = b_ids.str.match(reg)\n",
    "ids_in_tokens = df.tokens.explode().str.match(reg)\n",
    "\n",
    "print('Regex finding Ids in label specific: ', specific_id.sum())\n",
    "print('Regex finding Ids in all tokens: ', ids_in_tokens.sum())\n",
    "print()\n",
    "print('Accuracy Regex finding Ids in label specific: ', specific_id.sum() / len(specific_id))\n",
    "# We calculate the percentage of ids we would have classified wrongly in the total amount of tokens\n",
    "print('Error of missclassification in whole', ids_in_tokens.sum() / len(ids_in_tokens))"
   ]
  },
  {
   "cell_type": "markdown",
   "metadata": {},
   "source": [
    "## Model Definition\n",
    "We will attempt to create the simplest model possible. The model will evaluate each token and pass it through a couple functions to evaluate it. If one of the functions returns true, the token will be considered a keyword. The model will then return the keyword and the index of the token in the input string.\n",
    "\n",
    "### Model Functions\n",
    "- **email** This function will use regex to identify if the token is an email address.\n",
    "- **phone_num** This function will use regex to identify if the token is a phone number.\n",
    "- **address** This function will use regex to identify if the token is an address.\n",
    "- **username** This function will use a word embedding model to identify if the token is a common word and if not then we flag it as a username.\n",
    "- **personal_id** This function will use regex to identify if the token is a personal id.\n"
   ]
  },
  {
   "cell_type": "code",
   "execution_count": null,
   "metadata": {},
   "outputs": [],
   "source": [
    "class PiiModel:\n",
    "    def __init__(self, train_set: pd.DataFrame) -> None:\n",
    "        self.train_set = train_set\n",
    "        pass\n",
    "\n",
    "    def get_name_dataset(self):\n",
    "        return NameDataset()\n",
    "    \n",
    "    def get_email_regex(self):\n",
    "        return r'[\\w\\.-]+@[\\w\\.-]+'\n",
    "    \n",
    "    def get_phone_number_regex(self):\n",
    "        return r'\\b\\d{3}[-.]?\\d{3}[-.]?\\d{4}\\b'\n",
    "    \n",
    "    def get_address_regex(self):\n",
    "        return r'\\d{1,5}\\s\\w.\\s(\\b\\w*\\b\\s){1,2}\\w*\\.'\n",
    "    \n",
    "    def get_personal_id_regex(self):\n",
    "        # Any \n",
    "        return r'\\d{6,12}\\b|\\b[a-zA-Z]+\\d{2,}'\n",
    "    \n",
    "    def get_url_personal_regex(self):\n",
    "        return r'https?://[\\w\\.-]+'\n",
    "\n"
   ]
  }
 ],
 "metadata": {
  "kernelspec": {
   "display_name": ".venv",
   "language": "python",
   "name": "python3"
  },
  "language_info": {
   "codemirror_mode": {
    "name": "ipython",
    "version": 3
   },
   "file_extension": ".py",
   "mimetype": "text/x-python",
   "name": "python",
   "nbconvert_exporter": "python",
   "pygments_lexer": "ipython3",
   "version": "3.10.13"
  }
 },
 "nbformat": 4,
 "nbformat_minor": 2
}
