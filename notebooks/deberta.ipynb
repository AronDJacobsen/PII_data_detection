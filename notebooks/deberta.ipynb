{
 "cells": [
  {
   "cell_type": "markdown",
   "metadata": {},
   "source": [
    "# Large Language Model for PII detection\n",
    "\n",
    "This notebook will present the fine-tuning and evaluation of a DeBerta model, trained through Huggingface.\n",
    "\n",
    "As the training of LLMs, like the DeBERTa requires huge amounts of compute (40gbs of RAM in this case) - we've opted to train the model through the HPC in a separate script. \n",
    "\n",
    "Thus, this notebook won't contain code-cells that have been run, but rather contain snippets and explanations of what was done, as well as providing learning-curves and discussion. \n",
    "\n",
    "Meanwhile, the curious reader is encouraged to take a look at the *training-* and *utils-scripts* for further information - as larger functions have been placed there to ease readability in the notebook. \n",
    "\n",
    "The overall structure of the data- and prediction-processing have been borrowed from: [Eisuke Mizutani](https://www.kaggle.com/code/emiz6413/train-deberta-v3-single-model-lb-0-966). "
   ]
  },
  {
   "cell_type": "markdown",
   "metadata": {},
   "source": [
    "### Named Entity Recognition (NER) with transformers\n",
    "\n",
    "The Transformer architecture has long been recognized for revolutionizing Natural Language Processing, particularly in Language Translation, Text Generation and Named Entity Recognition. Largely, due to the utilization of the self-attention mechanism. \n",
    "\n",
    "The self-attention mechanism utilizes three learnt weight matrices - the **$W_{K}$**, **$W_{Q}$** and **$W_{V}$** matrices - in order to calculate what is known as *Self-Attention*.\n",
    "\n",
    "The Transformer-input, $X$, is projected onto the weight-matrices, in order to produce what is known as the **Queries (Q)**, **Keys (K)** and **Values (V)**.\n",
    "\n",
    "$\\text{\\textbf{Q}} = \\textbf{XW}_{Q}, \\qquad \\text{\\textbf{K}} = \\textbf{XW}_{K}, \\qquad \\text{\\textbf{V}} = \\textbf{XW}_{V}$"
   ]
  },
  {
   "cell_type": "markdown",
   "metadata": {},
   "source": [
    "The Queries and Keys are then used to calculate the Attention scores for each token in a sentence:\n",
    "\n",
    "$$\\text{Attention} = \\text{Softmax} \\left ( \\frac{\\textbf{Q} \\cdot \\textbf{K}^T}{\\sqrt{d_k}} \\right ),$$\n",
    "\n",
    "Here, the Attention scores represent how each token should attend to all other tokens, i.e. providing a weighted importance that informs the model which other tokens are important for that specific token. The Softmax function is applied to ensure that these attention weights sum to 1, normalizing the scores so that they can be effectively compared and utilized across different contexts. Meanwhile, the **Values** are understood as a learned embedding per token.\n",
    "\n",
    "Finally, the token-representations, $\\textbf{Z}$, are calculated by creating a linear combination of all the **Values**, based on the attention between tokens like so:\n",
    "$$\\textbf{Z} = \\text{Attention} \\cdot \\textbf{V}$$\n",
    "I.e. if *tokens 3, 7 and 10* are deemed to atteend highly to *token 3*, the final token-representation will be a linear combination of the **Values** of *tokens 3, 7 and 10*\n",
    "\n",
    "Self-attention allows the model to weigh and consider all parts of the input sentence when understanding each word. Each token (word) in a sentence is given attention scores relative to all other tokens, enabling the model to capture a more contextual representation of each word.\n",
    "\n",
    "For NER, this ability is crucial. By understanding the context in which a word appears, transformers can accurately classify tokens as named entities (like names, organizations, or locations) or other parts of speech. The model processes the entire sentence and uses the relationships between words to determine if a token is part of a named entity, by classifying on the token-representations, $\\textbf{Z}$. This contextual awareness, powered by self-attention, means that transformers can recognize entities even when they appear in complex or ambiguous sentences.\n",
    "\n",
    "### DeBERTa - a quick introduction\n",
    "\n",
    "**DeBERTa**, an acronym for **Decoding-enhanced BERT with disentangled attention**, is a model that improves on the previous king of Natural Language Processing, namely the **Bidirectional Encoder Representations from Transformers** - also known as **BERT** for short. \n",
    "\n",
    "Developed by Microsoft, DeBERTa enhances BERT through two novel techniques.\n",
    "\n",
    "Whereas BERT utilizes its attention mechanism to simultaneously process words in a sentence irrespective of their order, thereby understanding the context of each word based on all other words, DeBERTa refines this approach. It introduces a disentangled attention mechanism that separates the influence of *content* and *positional context*. This means DeBERTa not only considers what each word means but also where it appears in the sentence. Such dual attention to content and position allows DeBERTa to have a more nuanced understanding of text, making it better at grasping the subtle meanings and relationships in language.\n",
    "\n",
    "Moreover, DeBERTa includes an enhanced mask decoder, improving how the model predicts and reconstructs masked words (words hidden during training to test the model’s understanding). This technique boosts DeBERTa’s ability to handle tasks where precise word recognition and contextual awareness is crucial, such as filling in blanks and predicting next words."
   ]
  },
  {
   "cell_type": "markdown",
   "metadata": {},
   "source": [
    "# Fine-tuning DeBERTa\n",
    "\n",
    "Thankfully, Fine-tuning through Huggingface is as easy as, \n",
    "1) Loading a pre-trained model.\n",
    "2) Loading a pre-trained tokenizer\n",
    "3) Loading data\n",
    "4) Defining model- and training-hyperparameters\n",
    "5) Running `Trainer.train()`\n",
    "\n",
    "### 1 & 2) Pre-trained model\n",
    "The pretrained model and tokenizer, was in our case the: `microsoft/deberta-v3-large` model from HuggingFace\n",
    "Setting up the training arguments and loading the models were done like so:\n",
    "\n",
    "```\n",
    "# Creating trainer arguments\n",
    "train_args = TrainingArguments(\n",
    "    output_dir=args.output_dir,\n",
    "    logging_dir=f'./logs/{run_name}',\n",
    "    fp16=args.AMP,\n",
    "    learning_rate=args.lr,\n",
    "    num_train_epochs=args.epochs,\n",
    "    per_device_train_batch_size=args.batch_size,\n",
    "    per_device_eval_batch_size=args.eval_batch_size,\n",
    "    gradient_accumulation_steps=args.grad_accumulation_steps,\n",
    "    report_to=\"tensorboard\",  # Change this to enable TensorBoard logging\n",
    "    evaluation_strategy=\"steps\",\n",
    "    eval_steps=50,\n",
    "    eval_delay=100,\n",
    "    save_strategy=\"steps\",\n",
    "    save_steps=50,\n",
    "    save_total_limit=1,\n",
    "    logging_steps=10,\n",
    "    metric_for_best_model=\"f5\",\n",
    "    greater_is_better=True,\n",
    "    load_best_model_at_end=True,\n",
    "    overwrite_output_dir=True,\n",
    "    lr_scheduler_type=args.lr_scheduler,\n",
    "    warmup_ratio=args.warmup_ratio,\n",
    "    weight_decay=args.weight_decay,\n",
    "    seed=args.seed,\n",
    ")\n",
    "\n",
    "# Load dataset\n",
    "data = load_data(args.data_dir, args)\n",
    "\n",
    "# Initialize tokenizer and encoder\n",
    "tokenizer = DebertaV2TokenizerFast.from_pretrained(args.model_path)\n",
    "train_encoder = CustomTrainTokenizer(tokenizer=tokenizer, label2id=data['label2id'], max_length=args.max_length)\n",
    "eval_encoder = CustomTrainTokenizer(tokenizer=tokenizer, label2id=data['label2id'], max_length=args.max_length)\n",
    "\n",
    "# Apply encoders to datasets\n",
    "data['val'] = data['val'].map(eval_encoder, num_proc=os.cpu_count())\n",
    "data['train'] = concatenate_datasets([data['train']['original'], data['train'][\"extra\"]])\n",
    "data['train'] = data['train'].map(train_encoder, num_proc=os.cpu_count())    \n",
    "\n",
    "# Initialize model\n",
    "model_init = ModelInit(\n",
    "    args.model_path,\n",
    "    id2label=data['id2label'],\n",
    "    label2id=data['label2id'],\n",
    "    freeze_embedding=args.freeze_embedding,\n",
    "    freeze_layers=args.freeze_layers,\n",
    ")\n",
    "\n",
    "# Initialize trainer\n",
    "trainer = Trainer(\n",
    "    args=train_args,\n",
    "    model_init=model_init,\n",
    "    train_dataset=data['train'],\n",
    "    eval_dataset=data['val'],\n",
    "    tokenizer=tokenizer,\n",
    "    compute_metrics=MetricsComputer(eval_ds=data['val'], label2id=data['label2id'], id2label=data['id2label'], conf_thresh=args.conf_thresh),\n",
    "    data_collator=DataCollatorForTokenClassification(tokenizer, pad_to_multiple_of=16),\n",
    ")\n",
    "```\n",
    "\n",
    "\n",
    "### 3) Loading the data\n",
    "The Kaggle competition provided us with a training-set of 6807 essays, as well as an unlabeled test-set to use for the competition submission.\n",
    "\n",
    "Meanwhile, a [Kaggle-user](https://www.kaggle.com/datasets/mpware/pii-mixtral8x7b-generated-essays) provided an additional 2692 essays generated with Mixtral8x7B-Instruct model from Mistral AI. \n",
    "\n",
    "We opted to do a 70/30 split on the original data, while also including the extra data as training data. \n",
    "That way we ended up with 7457 training examples and 2042 validation examples. \n",
    "\n",
    "### 4) Training-parameters\n",
    "The final model was fine-tuned with the following parameters, \n",
    "\n",
    "**Epochs and Learning Rate:**\n",
    "- The model was fine-tuned for just 3 epochs.\n",
    "- A learning rate of 2.5e-5 was used.\n",
    "\n",
    "**Batch Size:**\n",
    "- A training batch size of 1 and an evaluation batch size of 8 were used. \n",
    "- Batch size affects the gradient estimation and training stability, which is why we opted for such a small training batch size. \n",
    "\n",
    "**Learning Rate Scheduler:**\n",
    "- A linear learning rate scheduler was applied, which gradually reduces the learning rate from the initial set value to zero, following a linear decay, in order to not overshoot minimas the further into training we get. \n",
    "\n",
    "**Warmup Ratio and Weight Decay:**\n",
    "- The warmup ratio was set to 0.1, meaning 10% of the total training steps are used to gradually ramp up the learning rate from zero.\n",
    "- A weight decay of 0.01 was applied as regularization to reduce overfitting.\n",
    "\n",
    "**Model Initialization:**\n",
    "- The first 6 layers of the classification layer were freezed, in order to potentially speed up training and focus learning on the upper layers of the network.\n",
    "\n",
    "### Extra additions\n",
    "\n",
    "In the detection of PII, Recall is incredibly important, as we cannot risk to miss any labeling of personal information. \n",
    "Therefore, we opted to imnclude a *confidence threshold* of 0.90 for the 'O' class. Thus, if the model wasn't at least 90% confident in it's 'O' prediction, the model would resort to the next most probable class.\n",
    "\n",
    "Meanwhile, predictions of the model were created in two steps:\n",
    "1) A prediction through regular DeBERTa-classification. \n",
    "2) A Regex-check for URLs, Phone-numbers and Emails on all tokens classified with 'O' during post-processing."
   ]
  },
  {
   "cell_type": "markdown",
   "metadata": {},
   "source": [
    "# Model training - Learning Curves"
   ]
  },
  {
   "cell_type": "markdown",
   "metadata": {},
   "source": [
    "Below, a function is created to plot the .csv files created from the model-training. \n",
    "\n",
    "We'll be plotting the:\n",
    "1) Train- and evaluation loss curves\n",
    "2) The overall f5, recall and precision on the evaluation data\n",
    "3) The f5-scores per individual label throughout training (on evaluation)"
   ]
  },
  {
   "cell_type": "code",
   "execution_count": 1,
   "metadata": {},
   "outputs": [],
   "source": [
    "import pandas as pd\n",
    "import os\n",
    "import plotly.graph_objects as go\n",
    "\n",
    "def plot_learning_curves(folder_name, title, y_limit=None):\n",
    "    # Define the path to the folder containing CSV files\n",
    "    folder_path = f'../logs/deberta_v2_E3_Mf5_LRlinear2.5e-05_WR0.1_WD0.01/tensorboard/{folder_name}'\n",
    "    csv_files = [f for f in os.listdir(folder_path) if f.endswith('.csv')]\n",
    "    \n",
    "    # Check if the folder contains CSV files\n",
    "    if not csv_files:\n",
    "        print(\"No CSV files found in the directory.\")\n",
    "        return\n",
    "\n",
    "    # Create a Plotly graph object figure\n",
    "    fig = go.Figure()\n",
    "\n",
    "    # Process each file\n",
    "    for file in csv_files:\n",
    "        file_path = os.path.join(folder_path, file)\n",
    "        data = pd.read_csv(file_path)\n",
    "        \n",
    "        # Plotting the data\n",
    "        fig.add_trace(go.Scatter(\n",
    "            x=data['Step'],\n",
    "            y=data['Value'],\n",
    "            mode='lines',\n",
    "            name=file[:-4].capitalize()  # Remove '.csv' from label and capitalize\n",
    "        ))\n",
    "    \n",
    "    # Update the layout to add titles and labels\n",
    "    fig.update_layout(\n",
    "        title=title,\n",
    "        xaxis_title=\"Step\",\n",
    "        yaxis_title=\"Value\",\n",
    "        legend_title=\"Metrics\",\n",
    "        font=dict(\n",
    "            family=\"Courier New, monospace\",\n",
    "            size=14,\n",
    "            color=\"black\"\n",
    "        )\n",
    "    )\n",
    "    \n",
    "    # Setting the y-axis limits if provided\n",
    "    if y_limit is not None:\n",
    "        fig.update_yaxes(range=y_limit)\n",
    "    \n",
    "    # Show the plot\n",
    "    fig.show()\n"
   ]
  },
  {
   "cell_type": "code",
   "execution_count": 2,
   "metadata": {},
   "outputs": [
    {
     "data": {
      "application/vnd.plotly.v1+json": {
       "config": {
        "plotlyServerURL": "https://plot.ly"
       },
       "data": [
        {
         "mode": "lines",
         "name": "Trainloss",
         "type": "scatter",
         "x": [
          10,
          20,
          30,
          40,
          50,
          60,
          70,
          80,
          90,
          100,
          110,
          120,
          130,
          140,
          150,
          160,
          170,
          180,
          190,
          200,
          210,
          220,
          230,
          240,
          250,
          260,
          270,
          280,
          290,
          300,
          310,
          320,
          330,
          340,
          350,
          360,
          370,
          380,
          390,
          400,
          410,
          420,
          430,
          440,
          450,
          460,
          470,
          480,
          490,
          500,
          510,
          520,
          530,
          540,
          550,
          560,
          570,
          580,
          590,
          600,
          610,
          620,
          630,
          640,
          650,
          660,
          670,
          680,
          690,
          700,
          710,
          720,
          730,
          740,
          750,
          760,
          770,
          780,
          790,
          800,
          810,
          820,
          830,
          840,
          850,
          860,
          870,
          880,
          890,
          900,
          910,
          920,
          930,
          940,
          950,
          960,
          970,
          980,
          990,
          1000,
          1010,
          1020,
          1030,
          1040,
          1050,
          1060,
          1070,
          1080,
          1090,
          1100,
          1110,
          1120,
          1130,
          1140,
          1150,
          1160,
          1170,
          1180,
          1190,
          1200,
          1210,
          1220,
          1230,
          1240,
          1250,
          1260,
          1270,
          1280,
          1290,
          1300,
          1310,
          1320,
          1330,
          1340,
          1350,
          1360,
          1370,
          1380,
          1390
         ],
         "y": [
          3.0237998962402344,
          2.276599884033203,
          0.8305000066757202,
          0.1115000024437904,
          0.0425000004470348,
          0.0465999990701675,
          0.0258000008761882,
          0.0179999992251396,
          0.0156999994069337,
          0.0103000001981854,
          0.0076999999582767,
          0.0076000001281499,
          0.0066999997943639,
          0.0083999997004866,
          0.0049000000581145,
          0.0043000001460313,
          0.0024999999441206,
          0.002600000007078,
          0.0052999998442828,
          0.0035000001080334,
          0.002600000007078,
          0.0028999999631196,
          0.0063000000081956,
          0.0027000000700354,
          0.002199999988079,
          0.002600000007078,
          0.0027000000700354,
          0.0027999999001622,
          0.002199999988079,
          0.0015999999595806,
          0.002600000007078,
          0.0027000000700354,
          0.0015999999595806,
          0.001700000022538,
          0.0006999999750405,
          0.001700000022538,
          0.0027000000700354,
          0.0019000000320374,
          0.0024999999441206,
          0.0010000000474974,
          0.001700000022538,
          0.0020999999251216,
          0.001300000003539,
          0.00179999996908,
          0.00089999998454,
          0.0020000000949949,
          0.0010999999940395,
          0.0006999999750405,
          0.0005000000237487,
          0.0005000000237487,
          0.0006999999750405,
          0.0012000000569969,
          0.0003000000142492,
          0.0006000000284984,
          0.0007999999797903,
          0.0003000000142492,
          0.0003999999898951,
          0.0006000000284984,
          0.0003000000142492,
          0.0003999999898951,
          0.0003999999898951,
          0.0003999999898951,
          0.0001999999949475,
          0.0003999999898951,
          0.0006999999750405,
          0.0003000000142492,
          0.0005000000237487,
          0.0020000000949949,
          0.0007999999797903,
          0.0005000000237487,
          0.0006000000284984,
          0.0005000000237487,
          0.0005000000237487,
          0.0005000000237487,
          0.0003999999898951,
          0.0012000000569969,
          0.0005000000237487,
          0.0006999999750405,
          0.0003999999898951,
          0.001300000003539,
          0.0001999999949475,
          0.0007999999797903,
          0.0005000000237487,
          0.0006000000284984,
          0.0006999999750405,
          0.001300000003539,
          0.0005000000237487,
          0.0003000000142492,
          0.0006000000284984,
          0.0005000000237487,
          0.0024999999441206,
          0.001300000003539,
          0.00089999998454,
          0.0003000000142492,
          0.0003999999898951,
          0.0003999999898951,
          0.0003000000142492,
          0.0003000000142492,
          0.0005000000237487,
          0.0001999999949475,
          0.00009999999747378752,
          0.00009999999747378752,
          0.0003000000142492,
          0.00009999999747378752,
          0.0003999999898951,
          0.0003000000142492,
          0.0001999999949475,
          0.0007999999797903,
          0.0003999999898951,
          0.00009999999747378752,
          0.0005000000237487,
          0.00009999999747378752,
          0.0001999999949475,
          0.0003999999898951,
          0.0001999999949475,
          0.0003000000142492,
          0.0003999999898951,
          0.0003999999898951,
          0.00009999999747378752,
          0.0003000000142492,
          0.00089999998454,
          0.0003000000142492,
          0.0003000000142492,
          0.00009999999747378752,
          0.0005000000237487,
          0.0003999999898951,
          0.0001999999949475,
          0.00009999999747378752,
          0.00009999999747378752,
          0.0001999999949475,
          0.0003000000142492,
          0.00009999999747378752,
          0.0003000000142492,
          0.0003999999898951,
          0.0001999999949475,
          0.0003000000142492,
          0.0003000000142492,
          0.0003999999898951,
          0.0003000000142492
         ]
        },
        {
         "mode": "lines",
         "name": "Evalloss",
         "type": "scatter",
         "x": [
          100,
          150,
          200,
          250,
          300,
          350,
          400,
          450,
          500,
          550,
          600,
          650,
          700,
          750,
          800,
          850,
          900,
          950,
          1000,
          1050,
          1100,
          1150,
          1200,
          1250,
          1300,
          1350,
          1398
         ],
         "y": [
          0.0029015000909566,
          0.0024398907553404,
          0.0012614743318408,
          0.0016921854112297,
          0.0010786899365484,
          0.0019156769849359,
          0.0010696486569941,
          0.0017434211913496,
          0.0014303509378805,
          0.0012657999759539,
          0.0013394413981586,
          0.0011447970755398,
          0.0008894692873582,
          0.0010097756749019,
          0.001037829555571,
          0.0008105477900244,
          0.000840985274408,
          0.0009108718950301,
          0.0009390113991685,
          0.0009886309271678,
          0.0008819398353807,
          0.0007326966733671,
          0.0007964486721903,
          0.0007599008968099,
          0.0008366684196516,
          0.0007405770011246,
          0.0009108718950301
         ]
        }
       ],
       "layout": {
        "font": {
         "color": "black",
         "family": "Courier New, monospace",
         "size": 14
        },
        "legend": {
         "title": {
          "text": "Metrics"
         }
        },
        "template": {
         "data": {
          "bar": [
           {
            "error_x": {
             "color": "#2a3f5f"
            },
            "error_y": {
             "color": "#2a3f5f"
            },
            "marker": {
             "line": {
              "color": "#E5ECF6",
              "width": 0.5
             },
             "pattern": {
              "fillmode": "overlay",
              "size": 10,
              "solidity": 0.2
             }
            },
            "type": "bar"
           }
          ],
          "barpolar": [
           {
            "marker": {
             "line": {
              "color": "#E5ECF6",
              "width": 0.5
             },
             "pattern": {
              "fillmode": "overlay",
              "size": 10,
              "solidity": 0.2
             }
            },
            "type": "barpolar"
           }
          ],
          "carpet": [
           {
            "aaxis": {
             "endlinecolor": "#2a3f5f",
             "gridcolor": "white",
             "linecolor": "white",
             "minorgridcolor": "white",
             "startlinecolor": "#2a3f5f"
            },
            "baxis": {
             "endlinecolor": "#2a3f5f",
             "gridcolor": "white",
             "linecolor": "white",
             "minorgridcolor": "white",
             "startlinecolor": "#2a3f5f"
            },
            "type": "carpet"
           }
          ],
          "choropleth": [
           {
            "colorbar": {
             "outlinewidth": 0,
             "ticks": ""
            },
            "type": "choropleth"
           }
          ],
          "contour": [
           {
            "colorbar": {
             "outlinewidth": 0,
             "ticks": ""
            },
            "colorscale": [
             [
              0,
              "#0d0887"
             ],
             [
              0.1111111111111111,
              "#46039f"
             ],
             [
              0.2222222222222222,
              "#7201a8"
             ],
             [
              0.3333333333333333,
              "#9c179e"
             ],
             [
              0.4444444444444444,
              "#bd3786"
             ],
             [
              0.5555555555555556,
              "#d8576b"
             ],
             [
              0.6666666666666666,
              "#ed7953"
             ],
             [
              0.7777777777777778,
              "#fb9f3a"
             ],
             [
              0.8888888888888888,
              "#fdca26"
             ],
             [
              1,
              "#f0f921"
             ]
            ],
            "type": "contour"
           }
          ],
          "contourcarpet": [
           {
            "colorbar": {
             "outlinewidth": 0,
             "ticks": ""
            },
            "type": "contourcarpet"
           }
          ],
          "heatmap": [
           {
            "colorbar": {
             "outlinewidth": 0,
             "ticks": ""
            },
            "colorscale": [
             [
              0,
              "#0d0887"
             ],
             [
              0.1111111111111111,
              "#46039f"
             ],
             [
              0.2222222222222222,
              "#7201a8"
             ],
             [
              0.3333333333333333,
              "#9c179e"
             ],
             [
              0.4444444444444444,
              "#bd3786"
             ],
             [
              0.5555555555555556,
              "#d8576b"
             ],
             [
              0.6666666666666666,
              "#ed7953"
             ],
             [
              0.7777777777777778,
              "#fb9f3a"
             ],
             [
              0.8888888888888888,
              "#fdca26"
             ],
             [
              1,
              "#f0f921"
             ]
            ],
            "type": "heatmap"
           }
          ],
          "heatmapgl": [
           {
            "colorbar": {
             "outlinewidth": 0,
             "ticks": ""
            },
            "colorscale": [
             [
              0,
              "#0d0887"
             ],
             [
              0.1111111111111111,
              "#46039f"
             ],
             [
              0.2222222222222222,
              "#7201a8"
             ],
             [
              0.3333333333333333,
              "#9c179e"
             ],
             [
              0.4444444444444444,
              "#bd3786"
             ],
             [
              0.5555555555555556,
              "#d8576b"
             ],
             [
              0.6666666666666666,
              "#ed7953"
             ],
             [
              0.7777777777777778,
              "#fb9f3a"
             ],
             [
              0.8888888888888888,
              "#fdca26"
             ],
             [
              1,
              "#f0f921"
             ]
            ],
            "type": "heatmapgl"
           }
          ],
          "histogram": [
           {
            "marker": {
             "pattern": {
              "fillmode": "overlay",
              "size": 10,
              "solidity": 0.2
             }
            },
            "type": "histogram"
           }
          ],
          "histogram2d": [
           {
            "colorbar": {
             "outlinewidth": 0,
             "ticks": ""
            },
            "colorscale": [
             [
              0,
              "#0d0887"
             ],
             [
              0.1111111111111111,
              "#46039f"
             ],
             [
              0.2222222222222222,
              "#7201a8"
             ],
             [
              0.3333333333333333,
              "#9c179e"
             ],
             [
              0.4444444444444444,
              "#bd3786"
             ],
             [
              0.5555555555555556,
              "#d8576b"
             ],
             [
              0.6666666666666666,
              "#ed7953"
             ],
             [
              0.7777777777777778,
              "#fb9f3a"
             ],
             [
              0.8888888888888888,
              "#fdca26"
             ],
             [
              1,
              "#f0f921"
             ]
            ],
            "type": "histogram2d"
           }
          ],
          "histogram2dcontour": [
           {
            "colorbar": {
             "outlinewidth": 0,
             "ticks": ""
            },
            "colorscale": [
             [
              0,
              "#0d0887"
             ],
             [
              0.1111111111111111,
              "#46039f"
             ],
             [
              0.2222222222222222,
              "#7201a8"
             ],
             [
              0.3333333333333333,
              "#9c179e"
             ],
             [
              0.4444444444444444,
              "#bd3786"
             ],
             [
              0.5555555555555556,
              "#d8576b"
             ],
             [
              0.6666666666666666,
              "#ed7953"
             ],
             [
              0.7777777777777778,
              "#fb9f3a"
             ],
             [
              0.8888888888888888,
              "#fdca26"
             ],
             [
              1,
              "#f0f921"
             ]
            ],
            "type": "histogram2dcontour"
           }
          ],
          "mesh3d": [
           {
            "colorbar": {
             "outlinewidth": 0,
             "ticks": ""
            },
            "type": "mesh3d"
           }
          ],
          "parcoords": [
           {
            "line": {
             "colorbar": {
              "outlinewidth": 0,
              "ticks": ""
             }
            },
            "type": "parcoords"
           }
          ],
          "pie": [
           {
            "automargin": true,
            "type": "pie"
           }
          ],
          "scatter": [
           {
            "fillpattern": {
             "fillmode": "overlay",
             "size": 10,
             "solidity": 0.2
            },
            "type": "scatter"
           }
          ],
          "scatter3d": [
           {
            "line": {
             "colorbar": {
              "outlinewidth": 0,
              "ticks": ""
             }
            },
            "marker": {
             "colorbar": {
              "outlinewidth": 0,
              "ticks": ""
             }
            },
            "type": "scatter3d"
           }
          ],
          "scattercarpet": [
           {
            "marker": {
             "colorbar": {
              "outlinewidth": 0,
              "ticks": ""
             }
            },
            "type": "scattercarpet"
           }
          ],
          "scattergeo": [
           {
            "marker": {
             "colorbar": {
              "outlinewidth": 0,
              "ticks": ""
             }
            },
            "type": "scattergeo"
           }
          ],
          "scattergl": [
           {
            "marker": {
             "colorbar": {
              "outlinewidth": 0,
              "ticks": ""
             }
            },
            "type": "scattergl"
           }
          ],
          "scattermapbox": [
           {
            "marker": {
             "colorbar": {
              "outlinewidth": 0,
              "ticks": ""
             }
            },
            "type": "scattermapbox"
           }
          ],
          "scatterpolar": [
           {
            "marker": {
             "colorbar": {
              "outlinewidth": 0,
              "ticks": ""
             }
            },
            "type": "scatterpolar"
           }
          ],
          "scatterpolargl": [
           {
            "marker": {
             "colorbar": {
              "outlinewidth": 0,
              "ticks": ""
             }
            },
            "type": "scatterpolargl"
           }
          ],
          "scatterternary": [
           {
            "marker": {
             "colorbar": {
              "outlinewidth": 0,
              "ticks": ""
             }
            },
            "type": "scatterternary"
           }
          ],
          "surface": [
           {
            "colorbar": {
             "outlinewidth": 0,
             "ticks": ""
            },
            "colorscale": [
             [
              0,
              "#0d0887"
             ],
             [
              0.1111111111111111,
              "#46039f"
             ],
             [
              0.2222222222222222,
              "#7201a8"
             ],
             [
              0.3333333333333333,
              "#9c179e"
             ],
             [
              0.4444444444444444,
              "#bd3786"
             ],
             [
              0.5555555555555556,
              "#d8576b"
             ],
             [
              0.6666666666666666,
              "#ed7953"
             ],
             [
              0.7777777777777778,
              "#fb9f3a"
             ],
             [
              0.8888888888888888,
              "#fdca26"
             ],
             [
              1,
              "#f0f921"
             ]
            ],
            "type": "surface"
           }
          ],
          "table": [
           {
            "cells": {
             "fill": {
              "color": "#EBF0F8"
             },
             "line": {
              "color": "white"
             }
            },
            "header": {
             "fill": {
              "color": "#C8D4E3"
             },
             "line": {
              "color": "white"
             }
            },
            "type": "table"
           }
          ]
         },
         "layout": {
          "annotationdefaults": {
           "arrowcolor": "#2a3f5f",
           "arrowhead": 0,
           "arrowwidth": 1
          },
          "autotypenumbers": "strict",
          "coloraxis": {
           "colorbar": {
            "outlinewidth": 0,
            "ticks": ""
           }
          },
          "colorscale": {
           "diverging": [
            [
             0,
             "#8e0152"
            ],
            [
             0.1,
             "#c51b7d"
            ],
            [
             0.2,
             "#de77ae"
            ],
            [
             0.3,
             "#f1b6da"
            ],
            [
             0.4,
             "#fde0ef"
            ],
            [
             0.5,
             "#f7f7f7"
            ],
            [
             0.6,
             "#e6f5d0"
            ],
            [
             0.7,
             "#b8e186"
            ],
            [
             0.8,
             "#7fbc41"
            ],
            [
             0.9,
             "#4d9221"
            ],
            [
             1,
             "#276419"
            ]
           ],
           "sequential": [
            [
             0,
             "#0d0887"
            ],
            [
             0.1111111111111111,
             "#46039f"
            ],
            [
             0.2222222222222222,
             "#7201a8"
            ],
            [
             0.3333333333333333,
             "#9c179e"
            ],
            [
             0.4444444444444444,
             "#bd3786"
            ],
            [
             0.5555555555555556,
             "#d8576b"
            ],
            [
             0.6666666666666666,
             "#ed7953"
            ],
            [
             0.7777777777777778,
             "#fb9f3a"
            ],
            [
             0.8888888888888888,
             "#fdca26"
            ],
            [
             1,
             "#f0f921"
            ]
           ],
           "sequentialminus": [
            [
             0,
             "#0d0887"
            ],
            [
             0.1111111111111111,
             "#46039f"
            ],
            [
             0.2222222222222222,
             "#7201a8"
            ],
            [
             0.3333333333333333,
             "#9c179e"
            ],
            [
             0.4444444444444444,
             "#bd3786"
            ],
            [
             0.5555555555555556,
             "#d8576b"
            ],
            [
             0.6666666666666666,
             "#ed7953"
            ],
            [
             0.7777777777777778,
             "#fb9f3a"
            ],
            [
             0.8888888888888888,
             "#fdca26"
            ],
            [
             1,
             "#f0f921"
            ]
           ]
          },
          "colorway": [
           "#636efa",
           "#EF553B",
           "#00cc96",
           "#ab63fa",
           "#FFA15A",
           "#19d3f3",
           "#FF6692",
           "#B6E880",
           "#FF97FF",
           "#FECB52"
          ],
          "font": {
           "color": "#2a3f5f"
          },
          "geo": {
           "bgcolor": "white",
           "lakecolor": "white",
           "landcolor": "#E5ECF6",
           "showlakes": true,
           "showland": true,
           "subunitcolor": "white"
          },
          "hoverlabel": {
           "align": "left"
          },
          "hovermode": "closest",
          "mapbox": {
           "style": "light"
          },
          "paper_bgcolor": "white",
          "plot_bgcolor": "#E5ECF6",
          "polar": {
           "angularaxis": {
            "gridcolor": "white",
            "linecolor": "white",
            "ticks": ""
           },
           "bgcolor": "#E5ECF6",
           "radialaxis": {
            "gridcolor": "white",
            "linecolor": "white",
            "ticks": ""
           }
          },
          "scene": {
           "xaxis": {
            "backgroundcolor": "#E5ECF6",
            "gridcolor": "white",
            "gridwidth": 2,
            "linecolor": "white",
            "showbackground": true,
            "ticks": "",
            "zerolinecolor": "white"
           },
           "yaxis": {
            "backgroundcolor": "#E5ECF6",
            "gridcolor": "white",
            "gridwidth": 2,
            "linecolor": "white",
            "showbackground": true,
            "ticks": "",
            "zerolinecolor": "white"
           },
           "zaxis": {
            "backgroundcolor": "#E5ECF6",
            "gridcolor": "white",
            "gridwidth": 2,
            "linecolor": "white",
            "showbackground": true,
            "ticks": "",
            "zerolinecolor": "white"
           }
          },
          "shapedefaults": {
           "line": {
            "color": "#2a3f5f"
           }
          },
          "ternary": {
           "aaxis": {
            "gridcolor": "white",
            "linecolor": "white",
            "ticks": ""
           },
           "baxis": {
            "gridcolor": "white",
            "linecolor": "white",
            "ticks": ""
           },
           "bgcolor": "#E5ECF6",
           "caxis": {
            "gridcolor": "white",
            "linecolor": "white",
            "ticks": ""
           }
          },
          "title": {
           "x": 0.05
          },
          "xaxis": {
           "automargin": true,
           "gridcolor": "white",
           "linecolor": "white",
           "ticks": "",
           "title": {
            "standoff": 15
           },
           "zerolinecolor": "white",
           "zerolinewidth": 2
          },
          "yaxis": {
           "automargin": true,
           "gridcolor": "white",
           "linecolor": "white",
           "ticks": "",
           "title": {
            "standoff": 15
           },
           "zerolinecolor": "white",
           "zerolinewidth": 2
          }
         }
        },
        "title": {
         "text": "Loss curves"
        },
        "xaxis": {
         "title": {
          "text": "Step"
         }
        },
        "yaxis": {
         "range": [
          0,
          0.018
         ],
         "title": {
          "text": "Value"
         }
        }
       }
      }
     },
     "metadata": {},
     "output_type": "display_data"
    }
   ],
   "source": [
    "plot_learning_curves(folder_name = 'loss', title = 'Loss curves', y_limit=(0, 0.018))"
   ]
  },
  {
   "cell_type": "markdown",
   "metadata": {},
   "source": [
    "#### Take-aways\n",
    "The loss curves show that the DeBERTa model is really quick at fine-tuning to the PII labels. The train-curve quickly reduces before plateauing at around step 400. The training and evaluation curves follow each other really nicely, with no signs of overfitting on the training data. "
   ]
  },
  {
   "cell_type": "code",
   "execution_count": 3,
   "metadata": {},
   "outputs": [
    {
     "data": {
      "application/vnd.plotly.v1+json": {
       "config": {
        "plotlyServerURL": "https://plot.ly"
       },
       "data": [
        {
         "mode": "lines",
         "name": "Evalf5",
         "type": "scatter",
         "x": [
          100,
          150,
          200,
          250,
          300,
          350,
          400,
          450,
          500,
          550,
          600,
          650,
          700,
          750,
          800,
          850,
          900,
          950,
          1000,
          1050,
          1100,
          1150,
          1200,
          1250,
          1300,
          1350,
          1398
         ],
         "y": [
          0.9185544848442078,
          0.9054316878318788,
          0.923007071018219,
          0.9302472472190856,
          0.9379065632820128,
          0.95261412858963,
          0.9289527535438538,
          0.945539653301239,
          0.9459705352783204,
          0.9511764049530028,
          0.9584710597991944,
          0.9341246485710144,
          0.939744770526886,
          0.950888216495514,
          0.9365960359573364,
          0.9191139340400696,
          0.927554726600647,
          0.9630067348480223,
          0.9595139622688292,
          0.959383487701416,
          0.9575905799865724,
          0.9534004330635072,
          0.956474244594574,
          0.9533570408821106,
          0.9565613269805908,
          0.9550633430480956,
          0.9630067348480223
         ]
        },
        {
         "mode": "lines",
         "name": "Evalrecall",
         "type": "scatter",
         "x": [
          100,
          150,
          200,
          250,
          300,
          350,
          400,
          450,
          500,
          550,
          600,
          650,
          700,
          750,
          800,
          850,
          900,
          950,
          1000,
          1050,
          1100,
          1150,
          1200,
          1250,
          1300,
          1350,
          1398
         ],
         "y": [
          0.9334917068481444,
          0.9144893288612366,
          0.9287410974502563,
          0.9418052434921264,
          0.9418052434921264,
          0.95961993932724,
          0.929928719997406,
          0.95961993932724,
          0.9501187801361084,
          0.9584323167800904,
          0.9667458534240724,
          0.9346793293952942,
          0.9418052434921264,
          0.9560570120811462,
          0.940617561340332,
          0.91923987865448,
          0.9287410974502563,
          0.967933475971222,
          0.9667458534240724,
          0.9667458534240724,
          0.9643705487251282,
          0.9560570120811462,
          0.95961993932724,
          0.9560570120811462,
          0.95961993932724,
          0.957244634628296,
          0.967933475971222
         ]
        },
        {
         "mode": "lines",
         "name": "Evalprecision",
         "type": "scatter",
         "x": [
          100,
          150,
          200,
          250,
          300,
          350,
          400,
          450,
          500,
          550,
          600,
          650,
          700,
          750,
          800,
          850,
          900,
          950,
          1000,
          1050,
          1100,
          1150,
          1200,
          1250,
          1300,
          1350,
          1398
         ],
         "y": [
          0.6560934782028198,
          0.7257304191589355,
          0.7995910048484802,
          0.7118492126464844,
          0.8499463796615601,
          0.8055832386016846,
          0.905202329158783,
          0.6917808055877686,
          0.8528784513473511,
          0.799801766872406,
          0.7895247340202332,
          0.9204678535461426,
          0.8910112380981445,
          0.8376690745353699,
          0.8461538553237915,
          0.915976345539093,
          0.8988505601882935,
          0.8542976975440979,
          0.8083416223526001,
          0.805940568447113,
          0.8144433498382568,
          0.8914728760719299,
          0.8840262293815613,
          0.8904867172241211,
          0.8859649300575256,
          0.9035874605178832,
          0.8542976975440979
         ]
        }
       ],
       "layout": {
        "font": {
         "color": "black",
         "family": "Courier New, monospace",
         "size": 14
        },
        "legend": {
         "title": {
          "text": "Metrics"
         }
        },
        "template": {
         "data": {
          "bar": [
           {
            "error_x": {
             "color": "#2a3f5f"
            },
            "error_y": {
             "color": "#2a3f5f"
            },
            "marker": {
             "line": {
              "color": "#E5ECF6",
              "width": 0.5
             },
             "pattern": {
              "fillmode": "overlay",
              "size": 10,
              "solidity": 0.2
             }
            },
            "type": "bar"
           }
          ],
          "barpolar": [
           {
            "marker": {
             "line": {
              "color": "#E5ECF6",
              "width": 0.5
             },
             "pattern": {
              "fillmode": "overlay",
              "size": 10,
              "solidity": 0.2
             }
            },
            "type": "barpolar"
           }
          ],
          "carpet": [
           {
            "aaxis": {
             "endlinecolor": "#2a3f5f",
             "gridcolor": "white",
             "linecolor": "white",
             "minorgridcolor": "white",
             "startlinecolor": "#2a3f5f"
            },
            "baxis": {
             "endlinecolor": "#2a3f5f",
             "gridcolor": "white",
             "linecolor": "white",
             "minorgridcolor": "white",
             "startlinecolor": "#2a3f5f"
            },
            "type": "carpet"
           }
          ],
          "choropleth": [
           {
            "colorbar": {
             "outlinewidth": 0,
             "ticks": ""
            },
            "type": "choropleth"
           }
          ],
          "contour": [
           {
            "colorbar": {
             "outlinewidth": 0,
             "ticks": ""
            },
            "colorscale": [
             [
              0,
              "#0d0887"
             ],
             [
              0.1111111111111111,
              "#46039f"
             ],
             [
              0.2222222222222222,
              "#7201a8"
             ],
             [
              0.3333333333333333,
              "#9c179e"
             ],
             [
              0.4444444444444444,
              "#bd3786"
             ],
             [
              0.5555555555555556,
              "#d8576b"
             ],
             [
              0.6666666666666666,
              "#ed7953"
             ],
             [
              0.7777777777777778,
              "#fb9f3a"
             ],
             [
              0.8888888888888888,
              "#fdca26"
             ],
             [
              1,
              "#f0f921"
             ]
            ],
            "type": "contour"
           }
          ],
          "contourcarpet": [
           {
            "colorbar": {
             "outlinewidth": 0,
             "ticks": ""
            },
            "type": "contourcarpet"
           }
          ],
          "heatmap": [
           {
            "colorbar": {
             "outlinewidth": 0,
             "ticks": ""
            },
            "colorscale": [
             [
              0,
              "#0d0887"
             ],
             [
              0.1111111111111111,
              "#46039f"
             ],
             [
              0.2222222222222222,
              "#7201a8"
             ],
             [
              0.3333333333333333,
              "#9c179e"
             ],
             [
              0.4444444444444444,
              "#bd3786"
             ],
             [
              0.5555555555555556,
              "#d8576b"
             ],
             [
              0.6666666666666666,
              "#ed7953"
             ],
             [
              0.7777777777777778,
              "#fb9f3a"
             ],
             [
              0.8888888888888888,
              "#fdca26"
             ],
             [
              1,
              "#f0f921"
             ]
            ],
            "type": "heatmap"
           }
          ],
          "heatmapgl": [
           {
            "colorbar": {
             "outlinewidth": 0,
             "ticks": ""
            },
            "colorscale": [
             [
              0,
              "#0d0887"
             ],
             [
              0.1111111111111111,
              "#46039f"
             ],
             [
              0.2222222222222222,
              "#7201a8"
             ],
             [
              0.3333333333333333,
              "#9c179e"
             ],
             [
              0.4444444444444444,
              "#bd3786"
             ],
             [
              0.5555555555555556,
              "#d8576b"
             ],
             [
              0.6666666666666666,
              "#ed7953"
             ],
             [
              0.7777777777777778,
              "#fb9f3a"
             ],
             [
              0.8888888888888888,
              "#fdca26"
             ],
             [
              1,
              "#f0f921"
             ]
            ],
            "type": "heatmapgl"
           }
          ],
          "histogram": [
           {
            "marker": {
             "pattern": {
              "fillmode": "overlay",
              "size": 10,
              "solidity": 0.2
             }
            },
            "type": "histogram"
           }
          ],
          "histogram2d": [
           {
            "colorbar": {
             "outlinewidth": 0,
             "ticks": ""
            },
            "colorscale": [
             [
              0,
              "#0d0887"
             ],
             [
              0.1111111111111111,
              "#46039f"
             ],
             [
              0.2222222222222222,
              "#7201a8"
             ],
             [
              0.3333333333333333,
              "#9c179e"
             ],
             [
              0.4444444444444444,
              "#bd3786"
             ],
             [
              0.5555555555555556,
              "#d8576b"
             ],
             [
              0.6666666666666666,
              "#ed7953"
             ],
             [
              0.7777777777777778,
              "#fb9f3a"
             ],
             [
              0.8888888888888888,
              "#fdca26"
             ],
             [
              1,
              "#f0f921"
             ]
            ],
            "type": "histogram2d"
           }
          ],
          "histogram2dcontour": [
           {
            "colorbar": {
             "outlinewidth": 0,
             "ticks": ""
            },
            "colorscale": [
             [
              0,
              "#0d0887"
             ],
             [
              0.1111111111111111,
              "#46039f"
             ],
             [
              0.2222222222222222,
              "#7201a8"
             ],
             [
              0.3333333333333333,
              "#9c179e"
             ],
             [
              0.4444444444444444,
              "#bd3786"
             ],
             [
              0.5555555555555556,
              "#d8576b"
             ],
             [
              0.6666666666666666,
              "#ed7953"
             ],
             [
              0.7777777777777778,
              "#fb9f3a"
             ],
             [
              0.8888888888888888,
              "#fdca26"
             ],
             [
              1,
              "#f0f921"
             ]
            ],
            "type": "histogram2dcontour"
           }
          ],
          "mesh3d": [
           {
            "colorbar": {
             "outlinewidth": 0,
             "ticks": ""
            },
            "type": "mesh3d"
           }
          ],
          "parcoords": [
           {
            "line": {
             "colorbar": {
              "outlinewidth": 0,
              "ticks": ""
             }
            },
            "type": "parcoords"
           }
          ],
          "pie": [
           {
            "automargin": true,
            "type": "pie"
           }
          ],
          "scatter": [
           {
            "fillpattern": {
             "fillmode": "overlay",
             "size": 10,
             "solidity": 0.2
            },
            "type": "scatter"
           }
          ],
          "scatter3d": [
           {
            "line": {
             "colorbar": {
              "outlinewidth": 0,
              "ticks": ""
             }
            },
            "marker": {
             "colorbar": {
              "outlinewidth": 0,
              "ticks": ""
             }
            },
            "type": "scatter3d"
           }
          ],
          "scattercarpet": [
           {
            "marker": {
             "colorbar": {
              "outlinewidth": 0,
              "ticks": ""
             }
            },
            "type": "scattercarpet"
           }
          ],
          "scattergeo": [
           {
            "marker": {
             "colorbar": {
              "outlinewidth": 0,
              "ticks": ""
             }
            },
            "type": "scattergeo"
           }
          ],
          "scattergl": [
           {
            "marker": {
             "colorbar": {
              "outlinewidth": 0,
              "ticks": ""
             }
            },
            "type": "scattergl"
           }
          ],
          "scattermapbox": [
           {
            "marker": {
             "colorbar": {
              "outlinewidth": 0,
              "ticks": ""
             }
            },
            "type": "scattermapbox"
           }
          ],
          "scatterpolar": [
           {
            "marker": {
             "colorbar": {
              "outlinewidth": 0,
              "ticks": ""
             }
            },
            "type": "scatterpolar"
           }
          ],
          "scatterpolargl": [
           {
            "marker": {
             "colorbar": {
              "outlinewidth": 0,
              "ticks": ""
             }
            },
            "type": "scatterpolargl"
           }
          ],
          "scatterternary": [
           {
            "marker": {
             "colorbar": {
              "outlinewidth": 0,
              "ticks": ""
             }
            },
            "type": "scatterternary"
           }
          ],
          "surface": [
           {
            "colorbar": {
             "outlinewidth": 0,
             "ticks": ""
            },
            "colorscale": [
             [
              0,
              "#0d0887"
             ],
             [
              0.1111111111111111,
              "#46039f"
             ],
             [
              0.2222222222222222,
              "#7201a8"
             ],
             [
              0.3333333333333333,
              "#9c179e"
             ],
             [
              0.4444444444444444,
              "#bd3786"
             ],
             [
              0.5555555555555556,
              "#d8576b"
             ],
             [
              0.6666666666666666,
              "#ed7953"
             ],
             [
              0.7777777777777778,
              "#fb9f3a"
             ],
             [
              0.8888888888888888,
              "#fdca26"
             ],
             [
              1,
              "#f0f921"
             ]
            ],
            "type": "surface"
           }
          ],
          "table": [
           {
            "cells": {
             "fill": {
              "color": "#EBF0F8"
             },
             "line": {
              "color": "white"
             }
            },
            "header": {
             "fill": {
              "color": "#C8D4E3"
             },
             "line": {
              "color": "white"
             }
            },
            "type": "table"
           }
          ]
         },
         "layout": {
          "annotationdefaults": {
           "arrowcolor": "#2a3f5f",
           "arrowhead": 0,
           "arrowwidth": 1
          },
          "autotypenumbers": "strict",
          "coloraxis": {
           "colorbar": {
            "outlinewidth": 0,
            "ticks": ""
           }
          },
          "colorscale": {
           "diverging": [
            [
             0,
             "#8e0152"
            ],
            [
             0.1,
             "#c51b7d"
            ],
            [
             0.2,
             "#de77ae"
            ],
            [
             0.3,
             "#f1b6da"
            ],
            [
             0.4,
             "#fde0ef"
            ],
            [
             0.5,
             "#f7f7f7"
            ],
            [
             0.6,
             "#e6f5d0"
            ],
            [
             0.7,
             "#b8e186"
            ],
            [
             0.8,
             "#7fbc41"
            ],
            [
             0.9,
             "#4d9221"
            ],
            [
             1,
             "#276419"
            ]
           ],
           "sequential": [
            [
             0,
             "#0d0887"
            ],
            [
             0.1111111111111111,
             "#46039f"
            ],
            [
             0.2222222222222222,
             "#7201a8"
            ],
            [
             0.3333333333333333,
             "#9c179e"
            ],
            [
             0.4444444444444444,
             "#bd3786"
            ],
            [
             0.5555555555555556,
             "#d8576b"
            ],
            [
             0.6666666666666666,
             "#ed7953"
            ],
            [
             0.7777777777777778,
             "#fb9f3a"
            ],
            [
             0.8888888888888888,
             "#fdca26"
            ],
            [
             1,
             "#f0f921"
            ]
           ],
           "sequentialminus": [
            [
             0,
             "#0d0887"
            ],
            [
             0.1111111111111111,
             "#46039f"
            ],
            [
             0.2222222222222222,
             "#7201a8"
            ],
            [
             0.3333333333333333,
             "#9c179e"
            ],
            [
             0.4444444444444444,
             "#bd3786"
            ],
            [
             0.5555555555555556,
             "#d8576b"
            ],
            [
             0.6666666666666666,
             "#ed7953"
            ],
            [
             0.7777777777777778,
             "#fb9f3a"
            ],
            [
             0.8888888888888888,
             "#fdca26"
            ],
            [
             1,
             "#f0f921"
            ]
           ]
          },
          "colorway": [
           "#636efa",
           "#EF553B",
           "#00cc96",
           "#ab63fa",
           "#FFA15A",
           "#19d3f3",
           "#FF6692",
           "#B6E880",
           "#FF97FF",
           "#FECB52"
          ],
          "font": {
           "color": "#2a3f5f"
          },
          "geo": {
           "bgcolor": "white",
           "lakecolor": "white",
           "landcolor": "#E5ECF6",
           "showlakes": true,
           "showland": true,
           "subunitcolor": "white"
          },
          "hoverlabel": {
           "align": "left"
          },
          "hovermode": "closest",
          "mapbox": {
           "style": "light"
          },
          "paper_bgcolor": "white",
          "plot_bgcolor": "#E5ECF6",
          "polar": {
           "angularaxis": {
            "gridcolor": "white",
            "linecolor": "white",
            "ticks": ""
           },
           "bgcolor": "#E5ECF6",
           "radialaxis": {
            "gridcolor": "white",
            "linecolor": "white",
            "ticks": ""
           }
          },
          "scene": {
           "xaxis": {
            "backgroundcolor": "#E5ECF6",
            "gridcolor": "white",
            "gridwidth": 2,
            "linecolor": "white",
            "showbackground": true,
            "ticks": "",
            "zerolinecolor": "white"
           },
           "yaxis": {
            "backgroundcolor": "#E5ECF6",
            "gridcolor": "white",
            "gridwidth": 2,
            "linecolor": "white",
            "showbackground": true,
            "ticks": "",
            "zerolinecolor": "white"
           },
           "zaxis": {
            "backgroundcolor": "#E5ECF6",
            "gridcolor": "white",
            "gridwidth": 2,
            "linecolor": "white",
            "showbackground": true,
            "ticks": "",
            "zerolinecolor": "white"
           }
          },
          "shapedefaults": {
           "line": {
            "color": "#2a3f5f"
           }
          },
          "ternary": {
           "aaxis": {
            "gridcolor": "white",
            "linecolor": "white",
            "ticks": ""
           },
           "baxis": {
            "gridcolor": "white",
            "linecolor": "white",
            "ticks": ""
           },
           "bgcolor": "#E5ECF6",
           "caxis": {
            "gridcolor": "white",
            "linecolor": "white",
            "ticks": ""
           }
          },
          "title": {
           "x": 0.05
          },
          "xaxis": {
           "automargin": true,
           "gridcolor": "white",
           "linecolor": "white",
           "ticks": "",
           "title": {
            "standoff": 15
           },
           "zerolinecolor": "white",
           "zerolinewidth": 2
          },
          "yaxis": {
           "automargin": true,
           "gridcolor": "white",
           "linecolor": "white",
           "ticks": "",
           "title": {
            "standoff": 15
           },
           "zerolinecolor": "white",
           "zerolinewidth": 2
          }
         }
        },
        "title": {
         "text": "Overall evaluation f5, recall and precision"
        },
        "xaxis": {
         "title": {
          "text": "Step"
         }
        },
        "yaxis": {
         "range": [
          0.6,
          1.02
         ],
         "title": {
          "text": "Value"
         }
        }
       }
      }
     },
     "metadata": {},
     "output_type": "display_data"
    }
   ],
   "source": [
    "plot_learning_curves(folder_name = 'metrics_overall', title = 'Overall evaluation f5, recall and precision', y_limit=(0.6, 1.02))"
   ]
  },
  {
   "cell_type": "markdown",
   "metadata": {},
   "source": [
    "#### Take-aways\n",
    "It's seen that the model immediately obtains f5 scores at around 0.93, and is able to increase the performance to 0.967 by the end of training.\n",
    "\n",
    "The f5-score and recall are almost identical throughout training, this is not a coincidence. As the $f_{\\beta}$-metric is a metric where larger $\\beta$-values heavily favor recall over precision, as given by the formula. Meanwhile, it's seen that the precision greatly increases throughout training, starting at 0.65 and ending around 0.85-0.9."
   ]
  },
  {
   "cell_type": "code",
   "execution_count": 4,
   "metadata": {},
   "outputs": [
    {
     "data": {
      "application/vnd.plotly.v1+json": {
       "config": {
        "plotlyServerURL": "https://plot.ly"
       },
       "data": [
        {
         "mode": "lines",
         "name": "F5username",
         "type": "scatter",
         "x": [
          100,
          150,
          200,
          250,
          300,
          350,
          400,
          450,
          500,
          550,
          600,
          650,
          700,
          750,
          800,
          850,
          900,
          950,
          1000,
          1050,
          1100,
          1150,
          1200,
          1250,
          1300,
          1350,
          1398
         ],
         "y": [
          0,
          0.604651153087616,
          0.9285714030265808,
          0.8965517282485962,
          0.9629629850387572,
          1,
          1,
          0.9629629850387572,
          0.9629629850387572,
          0.9629629850387572,
          1,
          1,
          1,
          1,
          0.8387096524238586,
          1,
          1,
          0.9629629850387572,
          1,
          1,
          1,
          1,
          1,
          1,
          1,
          1,
          0.9629629850387572
         ]
        },
        {
         "mode": "lines",
         "name": "F5id",
         "type": "scatter",
         "x": [
          100,
          150,
          200,
          250,
          300,
          350,
          400,
          450,
          500,
          550,
          600,
          650,
          700,
          750,
          800,
          850,
          900,
          950,
          1000,
          1050,
          1100,
          1150,
          1200,
          1250,
          1300,
          1350,
          1398
         ],
         "y": [
          0.8302521109580994,
          0.9407894611358644,
          0.902479350566864,
          0.6921796798706055,
          0.7761194109916687,
          0.8995057940483093,
          0.8580858111381531,
          0.860927164554596,
          0.8580858111381531,
          0.8980262875556946,
          0.8995057940483093,
          0.8637873530387878,
          0.9009901285171508,
          0.9009901285171508,
          0.5234899520874023,
          0.943894386291504,
          0.902479350566864,
          0.9009901285171508,
          0.9009901285171508,
          0.8995057940483093,
          0.8995057940483093,
          0.9009901285171508,
          0.9009901285171508,
          0.902479350566864,
          0.8995057940483093,
          0.9039735198020936,
          0.9009901285171508
         ]
        },
        {
         "mode": "lines",
         "name": "F5phone",
         "type": "scatter",
         "x": [
          100,
          150,
          200,
          250,
          300,
          350,
          400,
          450,
          500,
          550,
          600,
          650,
          700,
          750,
          800,
          850,
          900,
          950,
          1000,
          1050,
          1100,
          1150,
          1200,
          1250,
          1300,
          1350,
          1398
         ],
         "y": [
          1,
          1,
          1,
          1,
          1,
          1,
          1,
          1,
          1,
          1,
          1,
          1,
          1,
          1,
          1,
          1,
          1,
          1,
          1,
          1,
          1,
          1,
          1,
          1,
          1,
          1,
          1
         ]
        },
        {
         "mode": "lines",
         "name": "F5url",
         "type": "scatter",
         "x": [
          100,
          150,
          200,
          250,
          300,
          350,
          400,
          450,
          500,
          550,
          600,
          650,
          700,
          750,
          800,
          850,
          900,
          950,
          1000,
          1050,
          1100,
          1150,
          1200,
          1250,
          1300,
          1350,
          1398
         ],
         "y": [
          0.8713768124580383,
          0.9682106971740724,
          0.8568738102912903,
          0.8999064564704895,
          0.925960659980774,
          0.9852125644683838,
          0.8568738102912903,
          0.8101983070373535,
          0.9815837740898132,
          0.8339622616767883,
          0.8339622616767883,
          0.8101983070373535,
          0.8568738102912903,
          0.9432558417320251,
          0.9032863974571228,
          0.8772258758544922,
          0.8339622616767883,
          0.9925512075424194,
          0.8805268406867981,
          0.8813559412956238,
          0.8813559412956238,
          0.8796992301940918,
          0.8805268406867981,
          0.8805268406867981,
          0.945895493030548,
          0.9476635456085204,
          0.9925512075424194
         ]
        },
        {
         "mode": "lines",
         "name": "F5street",
         "type": "scatter",
         "x": [
          100,
          150,
          200,
          250,
          300,
          350,
          400,
          450,
          500,
          550,
          600,
          650,
          700,
          750,
          800,
          850,
          900,
          950,
          1000,
          1050,
          1100,
          1150,
          1200,
          1250,
          1300,
          1350,
          1398
         ],
         "y": [
          0.7476038336753845,
          0.8280254602432251,
          0.8695651888847351,
          0.7951070070266724,
          0.8496732115745544,
          0.8666666746139526,
          0.8552631735801697,
          0.7951070070266724,
          0.8695651888847351,
          0.8813559412956238,
          0.8813559412956238,
          0.8873720169067383,
          0.8813559412956238,
          0.8813559412956238,
          0.8695651888847351,
          0.875420868396759,
          0.8695651888847351,
          0.8666666746139526,
          0.8695651888847351,
          0.8695651888847351,
          0.8695651888847351,
          0.8695651888847351,
          0.8695651888847351,
          0.8695651888847351,
          0.8695651888847351,
          0.8695651888847351,
          0.8666666746139526
         ]
        },
        {
         "mode": "lines",
         "name": "F5name",
         "type": "scatter",
         "x": [
          100,
          150,
          200,
          250,
          300,
          350,
          400,
          450,
          500,
          550,
          600,
          650,
          700,
          750,
          800,
          850,
          900,
          950,
          1000,
          1050,
          1100,
          1150,
          1200,
          1250,
          1300,
          1350,
          1398
         ],
         "y": [
          0.9266165494918824,
          0.9015365839004515,
          0.9270216822624208,
          0.9404839873313904,
          0.9440640807151794,
          0.953127384185791,
          0.9351851940155028,
          0.9570711851119996,
          0.9471814632415771,
          0.9595112800598145,
          0.9675272107124328,
          0.9427379965782166,
          0.9454545378684998,
          0.953210473060608,
          0.9512516260147096,
          0.9201548099517822,
          0.9332451820373536,
          0.9643291234970092,
          0.96636700630188,
          0.9662206768989564,
          0.9642279744148254,
          0.95963853597641,
          0.9630118012428284,
          0.9594923853874208,
          0.95963853597641,
          0.95772784948349,
          0.9643291234970092
         ]
        },
        {
         "mode": "lines",
         "name": "F5email",
         "type": "scatter",
         "x": [
          100,
          150,
          200,
          250,
          300,
          350,
          400,
          450,
          500,
          550,
          600,
          650,
          700,
          750,
          800,
          850,
          900,
          950,
          1000,
          1050,
          1100,
          1150,
          1200,
          1250,
          1300,
          1350,
          1398
         ],
         "y": [
          0.9923664331436156,
          0.9923664331436156,
          0.9923664331436156,
          0.9923664331436156,
          0.9923664331436156,
          0.9923664331436156,
          0.9923664331436156,
          0.9923664331436156,
          0.9923664331436156,
          0.9923664331436156,
          0.9923664331436156,
          0.9923664331436156,
          0.9923664331436156,
          0.9923664331436156,
          0.9923664331436156,
          0.9923664331436156,
          0.9923664331436156,
          0.9923664331436156,
          0.9923664331436156,
          0.9923664331436156,
          0.9923664331436156,
          0.9923664331436156,
          0.9923664331436156,
          0.9923664331436156,
          0.9923664331436156,
          0.9923664331436156,
          0.9923664331436156
         ]
        }
       ],
       "layout": {
        "font": {
         "color": "black",
         "family": "Courier New, monospace",
         "size": 14
        },
        "legend": {
         "title": {
          "text": "Metrics"
         }
        },
        "template": {
         "data": {
          "bar": [
           {
            "error_x": {
             "color": "#2a3f5f"
            },
            "error_y": {
             "color": "#2a3f5f"
            },
            "marker": {
             "line": {
              "color": "#E5ECF6",
              "width": 0.5
             },
             "pattern": {
              "fillmode": "overlay",
              "size": 10,
              "solidity": 0.2
             }
            },
            "type": "bar"
           }
          ],
          "barpolar": [
           {
            "marker": {
             "line": {
              "color": "#E5ECF6",
              "width": 0.5
             },
             "pattern": {
              "fillmode": "overlay",
              "size": 10,
              "solidity": 0.2
             }
            },
            "type": "barpolar"
           }
          ],
          "carpet": [
           {
            "aaxis": {
             "endlinecolor": "#2a3f5f",
             "gridcolor": "white",
             "linecolor": "white",
             "minorgridcolor": "white",
             "startlinecolor": "#2a3f5f"
            },
            "baxis": {
             "endlinecolor": "#2a3f5f",
             "gridcolor": "white",
             "linecolor": "white",
             "minorgridcolor": "white",
             "startlinecolor": "#2a3f5f"
            },
            "type": "carpet"
           }
          ],
          "choropleth": [
           {
            "colorbar": {
             "outlinewidth": 0,
             "ticks": ""
            },
            "type": "choropleth"
           }
          ],
          "contour": [
           {
            "colorbar": {
             "outlinewidth": 0,
             "ticks": ""
            },
            "colorscale": [
             [
              0,
              "#0d0887"
             ],
             [
              0.1111111111111111,
              "#46039f"
             ],
             [
              0.2222222222222222,
              "#7201a8"
             ],
             [
              0.3333333333333333,
              "#9c179e"
             ],
             [
              0.4444444444444444,
              "#bd3786"
             ],
             [
              0.5555555555555556,
              "#d8576b"
             ],
             [
              0.6666666666666666,
              "#ed7953"
             ],
             [
              0.7777777777777778,
              "#fb9f3a"
             ],
             [
              0.8888888888888888,
              "#fdca26"
             ],
             [
              1,
              "#f0f921"
             ]
            ],
            "type": "contour"
           }
          ],
          "contourcarpet": [
           {
            "colorbar": {
             "outlinewidth": 0,
             "ticks": ""
            },
            "type": "contourcarpet"
           }
          ],
          "heatmap": [
           {
            "colorbar": {
             "outlinewidth": 0,
             "ticks": ""
            },
            "colorscale": [
             [
              0,
              "#0d0887"
             ],
             [
              0.1111111111111111,
              "#46039f"
             ],
             [
              0.2222222222222222,
              "#7201a8"
             ],
             [
              0.3333333333333333,
              "#9c179e"
             ],
             [
              0.4444444444444444,
              "#bd3786"
             ],
             [
              0.5555555555555556,
              "#d8576b"
             ],
             [
              0.6666666666666666,
              "#ed7953"
             ],
             [
              0.7777777777777778,
              "#fb9f3a"
             ],
             [
              0.8888888888888888,
              "#fdca26"
             ],
             [
              1,
              "#f0f921"
             ]
            ],
            "type": "heatmap"
           }
          ],
          "heatmapgl": [
           {
            "colorbar": {
             "outlinewidth": 0,
             "ticks": ""
            },
            "colorscale": [
             [
              0,
              "#0d0887"
             ],
             [
              0.1111111111111111,
              "#46039f"
             ],
             [
              0.2222222222222222,
              "#7201a8"
             ],
             [
              0.3333333333333333,
              "#9c179e"
             ],
             [
              0.4444444444444444,
              "#bd3786"
             ],
             [
              0.5555555555555556,
              "#d8576b"
             ],
             [
              0.6666666666666666,
              "#ed7953"
             ],
             [
              0.7777777777777778,
              "#fb9f3a"
             ],
             [
              0.8888888888888888,
              "#fdca26"
             ],
             [
              1,
              "#f0f921"
             ]
            ],
            "type": "heatmapgl"
           }
          ],
          "histogram": [
           {
            "marker": {
             "pattern": {
              "fillmode": "overlay",
              "size": 10,
              "solidity": 0.2
             }
            },
            "type": "histogram"
           }
          ],
          "histogram2d": [
           {
            "colorbar": {
             "outlinewidth": 0,
             "ticks": ""
            },
            "colorscale": [
             [
              0,
              "#0d0887"
             ],
             [
              0.1111111111111111,
              "#46039f"
             ],
             [
              0.2222222222222222,
              "#7201a8"
             ],
             [
              0.3333333333333333,
              "#9c179e"
             ],
             [
              0.4444444444444444,
              "#bd3786"
             ],
             [
              0.5555555555555556,
              "#d8576b"
             ],
             [
              0.6666666666666666,
              "#ed7953"
             ],
             [
              0.7777777777777778,
              "#fb9f3a"
             ],
             [
              0.8888888888888888,
              "#fdca26"
             ],
             [
              1,
              "#f0f921"
             ]
            ],
            "type": "histogram2d"
           }
          ],
          "histogram2dcontour": [
           {
            "colorbar": {
             "outlinewidth": 0,
             "ticks": ""
            },
            "colorscale": [
             [
              0,
              "#0d0887"
             ],
             [
              0.1111111111111111,
              "#46039f"
             ],
             [
              0.2222222222222222,
              "#7201a8"
             ],
             [
              0.3333333333333333,
              "#9c179e"
             ],
             [
              0.4444444444444444,
              "#bd3786"
             ],
             [
              0.5555555555555556,
              "#d8576b"
             ],
             [
              0.6666666666666666,
              "#ed7953"
             ],
             [
              0.7777777777777778,
              "#fb9f3a"
             ],
             [
              0.8888888888888888,
              "#fdca26"
             ],
             [
              1,
              "#f0f921"
             ]
            ],
            "type": "histogram2dcontour"
           }
          ],
          "mesh3d": [
           {
            "colorbar": {
             "outlinewidth": 0,
             "ticks": ""
            },
            "type": "mesh3d"
           }
          ],
          "parcoords": [
           {
            "line": {
             "colorbar": {
              "outlinewidth": 0,
              "ticks": ""
             }
            },
            "type": "parcoords"
           }
          ],
          "pie": [
           {
            "automargin": true,
            "type": "pie"
           }
          ],
          "scatter": [
           {
            "fillpattern": {
             "fillmode": "overlay",
             "size": 10,
             "solidity": 0.2
            },
            "type": "scatter"
           }
          ],
          "scatter3d": [
           {
            "line": {
             "colorbar": {
              "outlinewidth": 0,
              "ticks": ""
             }
            },
            "marker": {
             "colorbar": {
              "outlinewidth": 0,
              "ticks": ""
             }
            },
            "type": "scatter3d"
           }
          ],
          "scattercarpet": [
           {
            "marker": {
             "colorbar": {
              "outlinewidth": 0,
              "ticks": ""
             }
            },
            "type": "scattercarpet"
           }
          ],
          "scattergeo": [
           {
            "marker": {
             "colorbar": {
              "outlinewidth": 0,
              "ticks": ""
             }
            },
            "type": "scattergeo"
           }
          ],
          "scattergl": [
           {
            "marker": {
             "colorbar": {
              "outlinewidth": 0,
              "ticks": ""
             }
            },
            "type": "scattergl"
           }
          ],
          "scattermapbox": [
           {
            "marker": {
             "colorbar": {
              "outlinewidth": 0,
              "ticks": ""
             }
            },
            "type": "scattermapbox"
           }
          ],
          "scatterpolar": [
           {
            "marker": {
             "colorbar": {
              "outlinewidth": 0,
              "ticks": ""
             }
            },
            "type": "scatterpolar"
           }
          ],
          "scatterpolargl": [
           {
            "marker": {
             "colorbar": {
              "outlinewidth": 0,
              "ticks": ""
             }
            },
            "type": "scatterpolargl"
           }
          ],
          "scatterternary": [
           {
            "marker": {
             "colorbar": {
              "outlinewidth": 0,
              "ticks": ""
             }
            },
            "type": "scatterternary"
           }
          ],
          "surface": [
           {
            "colorbar": {
             "outlinewidth": 0,
             "ticks": ""
            },
            "colorscale": [
             [
              0,
              "#0d0887"
             ],
             [
              0.1111111111111111,
              "#46039f"
             ],
             [
              0.2222222222222222,
              "#7201a8"
             ],
             [
              0.3333333333333333,
              "#9c179e"
             ],
             [
              0.4444444444444444,
              "#bd3786"
             ],
             [
              0.5555555555555556,
              "#d8576b"
             ],
             [
              0.6666666666666666,
              "#ed7953"
             ],
             [
              0.7777777777777778,
              "#fb9f3a"
             ],
             [
              0.8888888888888888,
              "#fdca26"
             ],
             [
              1,
              "#f0f921"
             ]
            ],
            "type": "surface"
           }
          ],
          "table": [
           {
            "cells": {
             "fill": {
              "color": "#EBF0F8"
             },
             "line": {
              "color": "white"
             }
            },
            "header": {
             "fill": {
              "color": "#C8D4E3"
             },
             "line": {
              "color": "white"
             }
            },
            "type": "table"
           }
          ]
         },
         "layout": {
          "annotationdefaults": {
           "arrowcolor": "#2a3f5f",
           "arrowhead": 0,
           "arrowwidth": 1
          },
          "autotypenumbers": "strict",
          "coloraxis": {
           "colorbar": {
            "outlinewidth": 0,
            "ticks": ""
           }
          },
          "colorscale": {
           "diverging": [
            [
             0,
             "#8e0152"
            ],
            [
             0.1,
             "#c51b7d"
            ],
            [
             0.2,
             "#de77ae"
            ],
            [
             0.3,
             "#f1b6da"
            ],
            [
             0.4,
             "#fde0ef"
            ],
            [
             0.5,
             "#f7f7f7"
            ],
            [
             0.6,
             "#e6f5d0"
            ],
            [
             0.7,
             "#b8e186"
            ],
            [
             0.8,
             "#7fbc41"
            ],
            [
             0.9,
             "#4d9221"
            ],
            [
             1,
             "#276419"
            ]
           ],
           "sequential": [
            [
             0,
             "#0d0887"
            ],
            [
             0.1111111111111111,
             "#46039f"
            ],
            [
             0.2222222222222222,
             "#7201a8"
            ],
            [
             0.3333333333333333,
             "#9c179e"
            ],
            [
             0.4444444444444444,
             "#bd3786"
            ],
            [
             0.5555555555555556,
             "#d8576b"
            ],
            [
             0.6666666666666666,
             "#ed7953"
            ],
            [
             0.7777777777777778,
             "#fb9f3a"
            ],
            [
             0.8888888888888888,
             "#fdca26"
            ],
            [
             1,
             "#f0f921"
            ]
           ],
           "sequentialminus": [
            [
             0,
             "#0d0887"
            ],
            [
             0.1111111111111111,
             "#46039f"
            ],
            [
             0.2222222222222222,
             "#7201a8"
            ],
            [
             0.3333333333333333,
             "#9c179e"
            ],
            [
             0.4444444444444444,
             "#bd3786"
            ],
            [
             0.5555555555555556,
             "#d8576b"
            ],
            [
             0.6666666666666666,
             "#ed7953"
            ],
            [
             0.7777777777777778,
             "#fb9f3a"
            ],
            [
             0.8888888888888888,
             "#fdca26"
            ],
            [
             1,
             "#f0f921"
            ]
           ]
          },
          "colorway": [
           "#636efa",
           "#EF553B",
           "#00cc96",
           "#ab63fa",
           "#FFA15A",
           "#19d3f3",
           "#FF6692",
           "#B6E880",
           "#FF97FF",
           "#FECB52"
          ],
          "font": {
           "color": "#2a3f5f"
          },
          "geo": {
           "bgcolor": "white",
           "lakecolor": "white",
           "landcolor": "#E5ECF6",
           "showlakes": true,
           "showland": true,
           "subunitcolor": "white"
          },
          "hoverlabel": {
           "align": "left"
          },
          "hovermode": "closest",
          "mapbox": {
           "style": "light"
          },
          "paper_bgcolor": "white",
          "plot_bgcolor": "#E5ECF6",
          "polar": {
           "angularaxis": {
            "gridcolor": "white",
            "linecolor": "white",
            "ticks": ""
           },
           "bgcolor": "#E5ECF6",
           "radialaxis": {
            "gridcolor": "white",
            "linecolor": "white",
            "ticks": ""
           }
          },
          "scene": {
           "xaxis": {
            "backgroundcolor": "#E5ECF6",
            "gridcolor": "white",
            "gridwidth": 2,
            "linecolor": "white",
            "showbackground": true,
            "ticks": "",
            "zerolinecolor": "white"
           },
           "yaxis": {
            "backgroundcolor": "#E5ECF6",
            "gridcolor": "white",
            "gridwidth": 2,
            "linecolor": "white",
            "showbackground": true,
            "ticks": "",
            "zerolinecolor": "white"
           },
           "zaxis": {
            "backgroundcolor": "#E5ECF6",
            "gridcolor": "white",
            "gridwidth": 2,
            "linecolor": "white",
            "showbackground": true,
            "ticks": "",
            "zerolinecolor": "white"
           }
          },
          "shapedefaults": {
           "line": {
            "color": "#2a3f5f"
           }
          },
          "ternary": {
           "aaxis": {
            "gridcolor": "white",
            "linecolor": "white",
            "ticks": ""
           },
           "baxis": {
            "gridcolor": "white",
            "linecolor": "white",
            "ticks": ""
           },
           "bgcolor": "#E5ECF6",
           "caxis": {
            "gridcolor": "white",
            "linecolor": "white",
            "ticks": ""
           }
          },
          "title": {
           "x": 0.05
          },
          "xaxis": {
           "automargin": true,
           "gridcolor": "white",
           "linecolor": "white",
           "ticks": "",
           "title": {
            "standoff": 15
           },
           "zerolinecolor": "white",
           "zerolinewidth": 2
          },
          "yaxis": {
           "automargin": true,
           "gridcolor": "white",
           "linecolor": "white",
           "ticks": "",
           "title": {
            "standoff": 15
           },
           "zerolinecolor": "white",
           "zerolinewidth": 2
          }
         }
        },
        "title": {
         "text": "f5 per label"
        },
        "xaxis": {
         "title": {
          "text": "Step"
         }
        },
        "yaxis": {
         "range": [
          0,
          1.1
         ],
         "title": {
          "text": "Value"
         }
        }
       }
      }
     },
     "metadata": {},
     "output_type": "display_data"
    }
   ],
   "source": [
    "plot_learning_curves(folder_name = 'f5_per_label', title = 'f5 per label', y_limit=(0, 1.1))"
   ]
  },
  {
   "cell_type": "markdown",
   "metadata": {},
   "source": [
    "#### Take-aways\n",
    "Comparing the learning curves of the individual labels, it's immediately noticeable that *phone numbers* and *emails* constantly score values at $≈1.0$. \n",
    "\n",
    "Thankfully, phone-numbers and emails are quite easy to catch through simple regex-rules, which is most likely why they score as highly as they do. \n",
    "Meanwhile, URL is not quite as stable, but does end up at 0.99 in the last step. - It's important to note here, that the labels distinguish between personal URLs and regular URLs (like Wikipedia etc.), which is most-likely why Regex isn't able to catch all of the URLs.\n",
    "\n",
    "Usernames seeem to be the most difficult class in the beginning, however, through training the f5 greatly improves. \n",
    "\n",
    "Meanwhile, Street-addresses are the second-most difficult labels to classify at the start, but training barely improves performance in this case. Street-addresses usually consist of many consecutive tokens, which could be why these are more difficult to catch. "
   ]
  },
  {
   "cell_type": "markdown",
   "metadata": {},
   "source": [
    "# Model Prediction"
   ]
  },
  {
   "cell_type": "code",
   "execution_count": 15,
   "metadata": {},
   "outputs": [
    {
     "name": "stderr",
     "output_type": "stream",
     "text": [
      "/opt/anaconda3/envs/adv_ba/lib/python3.11/site-packages/tqdm/auto.py:21: TqdmWarning:\n",
      "\n",
      "IProgress not found. Please update jupyter and ipywidgets. See https://ipywidgets.readthedocs.io/en/stable/user_install.html\n",
      "\n"
     ]
    }
   ],
   "source": [
    "import os, re, sys\n",
    "import numpy as np\n",
    "import pandas as pd\n",
    "import argparse\n",
    "from pathlib import Path\n",
    "from transformers import DebertaV2TokenizerFast, DebertaV2ForTokenClassification, DataCollatorForTokenClassification, Trainer, TrainingArguments\n",
    "import torch\n",
    "\n",
    "from datasets import Dataset\n",
    "from spacy.lang.en import English\n",
    "nlp = English()\n",
    "\n",
    "from utils import CustomPredTokenizer, get_predictions"
   ]
  },
  {
   "cell_type": "code",
   "execution_count": 16,
   "metadata": {},
   "outputs": [],
   "source": [
    "def tokenize_text(text):\n",
    "    \"\"\"\n",
    "    Tokenize the given text using the SpaCy English model. Store tokens and their trailing whitespace\n",
    "    separately in session state.\n",
    "    \n",
    "    Parameters:\n",
    "    text (str): The text to tokenize.\n",
    "    \n",
    "    Returns:\n",
    "    None: Tokens and whitespace are stored in session state.\n",
    "    \"\"\"\n",
    "    # Process the text through the SpaCy pipeline\n",
    "    doc = nlp(text)\n",
    "    \n",
    "    # Extract tokens\n",
    "    tokens = [token.text for token in doc]\n",
    "    # Extract trailing whitespace associated with each token\n",
    "    trailing_whitespace = [token.whitespace_ for token in doc]\n",
    "\n",
    "    return tokens, trailing_whitespace\n",
    "\n",
    "def prepare_text(text):\n",
    "\n",
    "    tokens, trailing_whitespace = tokenize_text(text)\n",
    "    \n",
    "    # Make Dataset with tokens and trailing_whitespace\n",
    "    dataset = Dataset.from_dict({\n",
    "        'document': ['example_document'],\n",
    "        'full_text': [text],\n",
    "        'tokens': [tokens],\n",
    "        'trailing_whitespace': [trailing_whitespace]\n",
    "    })\n",
    "    \n",
    "    return dataset\n",
    "\n",
    "def predict(text, args, tokenizer, model, trainer, nlp):\n",
    "    # Prepare text\n",
    "    dataset = prepare_text(text)\n",
    "    dataset = dataset.map(CustomPredTokenizer(tokenizer=tokenizer, max_length=INFERENCE_MAX_LENGTH), num_proc=os.cpu_count())\n",
    "    _, preds = get_predictions(dataset, trainer, model, args, nlp, return_all = True)\n",
    "\n",
    "    return preds.select_columns(['full_text', 'tokens', 'pred_labels', 'trailing_whitespace']).to_pandas()"
   ]
  },
  {
   "cell_type": "code",
   "execution_count": 21,
   "metadata": {},
   "outputs": [],
   "source": [
    "from types import SimpleNamespace\n",
    "\n",
    "INFERENCE_MAX_LENGTH = 3072\n",
    "\n",
    "data = {'conf_thresh': 0.9,\n",
    "        'url_thresh': 0.1,\n",
    "        'model_path': '../deberta_v3/model',\n",
    "        'AMP': False,}\n",
    "args = SimpleNamespace(**data)\n",
    "\n",
    "\n",
    "# Instantiate tokenizer\n",
    "tokenizer = DebertaV2TokenizerFast.from_pretrained(args.model_path)\n",
    "\n",
    "# Load model and trainer\n",
    "model = DebertaV2ForTokenClassification.from_pretrained(args.model_path)\n",
    "collator = DataCollatorForTokenClassification(tokenizer)\n",
    "train_args = TrainingArguments(\".\", \n",
    "                                per_device_eval_batch_size=1, \n",
    "                                report_to=\"none\", \n",
    "                                fp16=args.AMP,)\n",
    "\n",
    "trainer = Trainer(\n",
    "    model=model, \n",
    "    args=train_args, \n",
    "    data_collator=collator, \n",
    "    tokenizer=tokenizer,\n",
    ")"
   ]
  },
  {
   "cell_type": "code",
   "execution_count": 22,
   "metadata": {},
   "outputs": [
    {
     "name": "stderr",
     "output_type": "stream",
     "text": [
      "num_proc must be <= 1. Reducing num_proc to 1 for dataset of size 1.\n"
     ]
    },
    {
     "name": "stdout",
     "output_type": "stream",
     "text": [
      "Predicting....\n"
     ]
    },
    {
     "name": "stderr",
     "output_type": "stream",
     "text": [
      "Map: 100%|██████████| 1/1 [00:00<00:00, 17.76 examples/s]\n",
      "100%|██████████| 1/1 [00:00<00:00, 587.60it/s]\n"
     ]
    }
   ],
   "source": [
    "print(\"Predicting....\")\n",
    "preds = predict(\"Hello, world! My name is Phillip Hoejbjerg. I am an AI engineer. My student number is s184984\", args, tokenizer, model, trainer, nlp)"
   ]
  },
  {
   "cell_type": "code",
   "execution_count": 29,
   "metadata": {},
   "outputs": [
    {
     "data": {
      "text/html": [
       "<div>\n",
       "<style scoped>\n",
       "    .dataframe tbody tr th:only-of-type {\n",
       "        vertical-align: middle;\n",
       "    }\n",
       "\n",
       "    .dataframe tbody tr th {\n",
       "        vertical-align: top;\n",
       "    }\n",
       "\n",
       "    .dataframe thead th {\n",
       "        text-align: right;\n",
       "    }\n",
       "</style>\n",
       "<table border=\"1\" class=\"dataframe\">\n",
       "  <thead>\n",
       "    <tr style=\"text-align: right;\">\n",
       "      <th></th>\n",
       "      <th>tokens</th>\n",
       "      <th>pred_labels</th>\n",
       "    </tr>\n",
       "  </thead>\n",
       "  <tbody>\n",
       "    <tr>\n",
       "      <th>0</th>\n",
       "      <td>Hello</td>\n",
       "      <td>O</td>\n",
       "    </tr>\n",
       "    <tr>\n",
       "      <th>0</th>\n",
       "      <td>,</td>\n",
       "      <td>O</td>\n",
       "    </tr>\n",
       "    <tr>\n",
       "      <th>0</th>\n",
       "      <td>world</td>\n",
       "      <td>O</td>\n",
       "    </tr>\n",
       "    <tr>\n",
       "      <th>0</th>\n",
       "      <td>!</td>\n",
       "      <td>O</td>\n",
       "    </tr>\n",
       "    <tr>\n",
       "      <th>0</th>\n",
       "      <td>My</td>\n",
       "      <td>O</td>\n",
       "    </tr>\n",
       "    <tr>\n",
       "      <th>0</th>\n",
       "      <td>name</td>\n",
       "      <td>O</td>\n",
       "    </tr>\n",
       "    <tr>\n",
       "      <th>0</th>\n",
       "      <td>is</td>\n",
       "      <td>O</td>\n",
       "    </tr>\n",
       "    <tr>\n",
       "      <th>0</th>\n",
       "      <td>Phillip</td>\n",
       "      <td>B-NAME_STUDENT</td>\n",
       "    </tr>\n",
       "    <tr>\n",
       "      <th>0</th>\n",
       "      <td>Hoejbjerg</td>\n",
       "      <td>I-NAME_STUDENT</td>\n",
       "    </tr>\n",
       "    <tr>\n",
       "      <th>0</th>\n",
       "      <td>.</td>\n",
       "      <td>O</td>\n",
       "    </tr>\n",
       "    <tr>\n",
       "      <th>0</th>\n",
       "      <td>I</td>\n",
       "      <td>O</td>\n",
       "    </tr>\n",
       "    <tr>\n",
       "      <th>0</th>\n",
       "      <td>am</td>\n",
       "      <td>O</td>\n",
       "    </tr>\n",
       "    <tr>\n",
       "      <th>0</th>\n",
       "      <td>an</td>\n",
       "      <td>O</td>\n",
       "    </tr>\n",
       "    <tr>\n",
       "      <th>0</th>\n",
       "      <td>AI</td>\n",
       "      <td>O</td>\n",
       "    </tr>\n",
       "    <tr>\n",
       "      <th>0</th>\n",
       "      <td>engineer</td>\n",
       "      <td>O</td>\n",
       "    </tr>\n",
       "    <tr>\n",
       "      <th>0</th>\n",
       "      <td>.</td>\n",
       "      <td>O</td>\n",
       "    </tr>\n",
       "    <tr>\n",
       "      <th>0</th>\n",
       "      <td>My</td>\n",
       "      <td>O</td>\n",
       "    </tr>\n",
       "    <tr>\n",
       "      <th>0</th>\n",
       "      <td>student</td>\n",
       "      <td>O</td>\n",
       "    </tr>\n",
       "    <tr>\n",
       "      <th>0</th>\n",
       "      <td>number</td>\n",
       "      <td>O</td>\n",
       "    </tr>\n",
       "    <tr>\n",
       "      <th>0</th>\n",
       "      <td>is</td>\n",
       "      <td>O</td>\n",
       "    </tr>\n",
       "    <tr>\n",
       "      <th>0</th>\n",
       "      <td>s184984</td>\n",
       "      <td>B-ID_NUM</td>\n",
       "    </tr>\n",
       "  </tbody>\n",
       "</table>\n",
       "</div>"
      ],
      "text/plain": [
       "      tokens     pred_labels\n",
       "0      Hello               O\n",
       "0          ,               O\n",
       "0      world               O\n",
       "0          !               O\n",
       "0         My               O\n",
       "0       name               O\n",
       "0         is               O\n",
       "0    Phillip  B-NAME_STUDENT\n",
       "0  Hoejbjerg  I-NAME_STUDENT\n",
       "0          .               O\n",
       "0          I               O\n",
       "0         am               O\n",
       "0         an               O\n",
       "0         AI               O\n",
       "0   engineer               O\n",
       "0          .               O\n",
       "0         My               O\n",
       "0    student               O\n",
       "0     number               O\n",
       "0         is               O\n",
       "0    s184984        B-ID_NUM"
      ]
     },
     "execution_count": 29,
     "metadata": {},
     "output_type": "execute_result"
    }
   ],
   "source": [
    "pd.concat([preds['tokens'].explode(), preds['pred_labels'].explode()], axis = 1)"
   ]
  }
 ],
 "metadata": {
  "kernelspec": {
   "display_name": "adv_ba",
   "language": "python",
   "name": "python3"
  },
  "language_info": {
   "codemirror_mode": {
    "name": "ipython",
    "version": 3
   },
   "file_extension": ".py",
   "mimetype": "text/x-python",
   "name": "python",
   "nbconvert_exporter": "python",
   "pygments_lexer": "ipython3",
   "version": "3.11.7"
  }
 },
 "nbformat": 4,
 "nbformat_minor": 2
}
