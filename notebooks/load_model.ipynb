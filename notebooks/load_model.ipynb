{
 "cells": [
  {
   "cell_type": "code",
   "execution_count": 1,
   "metadata": {},
   "outputs": [],
   "source": [
    "import sys\n",
    "sys.path.append('..')\n",
    "from data import load_datasets\n",
    "from transformers import BertForTokenClassification, BertTokenizerFast, TrainingArguments, Trainer\n",
    "from transformers import pipeline"
   ]
  },
  {
   "cell_type": "code",
   "execution_count": 2,
   "metadata": {},
   "outputs": [],
   "source": [
    "# Initialize BERT tokenizer\n",
    "tokenizer = BertTokenizerFast.from_pretrained('bert-base-uncased')\n",
    "\n",
    "# Load datasets\n",
    "data = load_datasets(tokenizer)\n",
    "\n",
    "# Load trained model\n",
    "# model = BertForTokenClassification.from_pretrained('/work3/s184984/repos/PII_data_detection/results')\n",
    "classifier = pipeline(\"ner\", model=\"/work3/s184984/repos/PII_data_detection/results\")"
   ]
  },
  {
   "cell_type": "code",
   "execution_count": 11,
   "metadata": {},
   "outputs": [
    {
     "name": "stdout",
     "output_type": "stream",
     "text": [
      "Diego Estrada\n",
      "\n",
      "Design Thinking Assignment\n",
      "\n",
      "Visualization Tool\n",
      "\n",
      "Challenge & Selection\n",
      "\n",
      "The elderly were having a hard time adapting to the changes we brought in our bank. As  a result of a poorly implemented linear solution, a more customer centric approach was  needed.\n",
      "\n",
      "After learning about design thinking in this course, we decided to apply it to solve this  problem. The visualization tool allowed the team to create a dynamic presentation using  diagrams, figures and drawings on the go that really resonated among the stakeholders.  Previous to this change, none of our solutions seemed to be adequate for them, but the  new implementation created a different type of connection with them that helped them  understand the problem in the way the team and I did.\n",
      "\n",
      "Application\n",
      "\n",
      "The process starts in the prep time. The team uses a series of tools and software to  develop a presentation using the surveys gathered during research and the solutions we  created during the process. The use of graphs to quickly show statistics in a fully visual  way, rather than verbally was a game changer.\n",
      "\n",
      "After having a presentation prepared, the team hands an activity to the stakeholders,  where the solutions discussed previously appear. Nonetheless, the solutions need more  work to them. After this. The stakeholders are asked to help complete the solutions  while the team and I create diagrams on a blackboard to represent how their  suggestions would impact on this specific problem.\n",
      "\n",
      "The use of a group activity strengthens the bond between the company and their  investors. It makes them feel like they take part and help solve the problems as well as  show how customer centric the solutions are. Every complaint and suggestion from  customers are read and evaluated using the graph shown in the course (Involving: can  we do it? Can we afford it? …). The finalization of this activity leaves the team and the  stakeholders on the same page. It allows them to completely understand and feel part  of the solution and also gives them the chance to ask better questions, which eases the  work of the team.\n",
      "\n",
      "Insight & Approach\n",
      "\n",
      "The use of this method created a new workflow in the Design Team. It increased the  productivity and the success rate as well as the customer/stakeholders satisfaction. The  use of the visualization tool created an engaged group of people who work together to\n",
      "\n",
      "Diego Estrada\n",
      "\n",
      "find a solution based on their customer satisfaction. This solution is later revised and  tweaked with the help of the stakeholders who are deeply involved in the process.\n",
      "\n",
      "Presentations, graphics, and activities have added a huge increase in satisfaction. As a  company we also learnt that engaging different areas can be difficult because of the  varying levels of understanding, but when paired with the adequate process things just  flow.\n",
      "\n",
      "(This story is fictional and was created for solving the assignment)\n",
      "\n",
      "\n"
     ]
    }
   ],
   "source": [
    "# Get text from data\n",
    "print(data['df']['full_text'][1])"
   ]
  },
  {
   "cell_type": "code",
   "execution_count": 12,
   "metadata": {},
   "outputs": [],
   "source": [
    "from transformers import pipeline\n",
    "classifier = pipeline(\"ner\", model=\"/work3/s184984/repos/PII_data_detection/results\")"
   ]
  },
  {
   "cell_type": "code",
   "execution_count": 19,
   "metadata": {},
   "outputs": [
    {
     "name": "stdout",
     "output_type": "stream",
     "text": [
      "[{'entity': 'LABEL_4', 'score': 0.9932821, 'index': 1, 'word': 'diego', 'start': 0, 'end': 5}]\n"
     ]
    }
   ],
   "source": [
    "# Use model\n",
    "outs = classifier(data['df']['full_text'][1])\n",
    "# Print tokens that are not regular text\n",
    "print([wrd for wrd in outs if wrd['entity'] != 'LABEL_0'])"
   ]
  },
  {
   "cell_type": "code",
   "execution_count": null,
   "metadata": {},
   "outputs": [],
   "source": []
  }
 ],
 "metadata": {
  "kernelspec": {
   "display_name": "advba",
   "language": "python",
   "name": "python3"
  },
  "language_info": {
   "codemirror_mode": {
    "name": "ipython",
    "version": 3
   },
   "file_extension": ".py",
   "mimetype": "text/x-python",
   "name": "python",
   "nbconvert_exporter": "python",
   "pygments_lexer": "ipython3",
   "version": "3.10.13"
  }
 },
 "nbformat": 4,
 "nbformat_minor": 2
}
